{
 "cells": [
  {
   "cell_type": "markdown",
   "id": "a62c4a0b",
   "metadata": {},
   "source": [
    "### TOPIC– FINANCE\n",
    "\n",
    "Problem statement:The problem is that the Bank Marketing campaigns of a Portuguese banking institution need to identify the factors that cause the customers to tend to take the subscription, as well as Bank Marketing campaigns of a Portuguese banking institution need to identify the reasons behind the customer which make them not take the subscription.\n",
    "\n",
    "Tools/skills used : Python and Visualizing the Data"
   ]
  },
  {
   "cell_type": "code",
   "execution_count": 1,
   "id": "29d48099",
   "metadata": {},
   "outputs": [],
   "source": [
    "import numpy as np\n",
    "import pandas as pd\n",
    "import seaborn as sns\n",
    "import matplotlib.pyplot as plt\n"
   ]
  },
  {
   "cell_type": "markdown",
   "id": "d2135c68",
   "metadata": {},
   "source": [
    "## 1. Import data sets and Load data set Hint: Make use of with statement and write a function to load the data if you are not able to load through the panda's method."
   ]
  },
  {
   "cell_type": "code",
   "execution_count": 2,
   "id": "45aea207",
   "metadata": {},
   "outputs": [
    {
     "name": "stderr",
     "output_type": "stream",
     "text": [
      "C:\\Users\\user\\AppData\\Local\\Temp\\ipykernel_9108\\2411627077.py:1: ParserWarning: Falling back to the 'python' engine because the 'c' engine does not support regex separators (separators > 1 char and different from '\\s+' are interpreted as regex); you can avoid this warning by specifying engine='python'.\n",
      "  df=pd.read_csv('bank.csv',sep='\\;')\n"
     ]
    },
    {
     "data": {
      "text/html": [
       "<div>\n",
       "<style scoped>\n",
       "    .dataframe tbody tr th:only-of-type {\n",
       "        vertical-align: middle;\n",
       "    }\n",
       "\n",
       "    .dataframe tbody tr th {\n",
       "        vertical-align: top;\n",
       "    }\n",
       "\n",
       "    .dataframe thead th {\n",
       "        text-align: right;\n",
       "    }\n",
       "</style>\n",
       "<table border=\"1\" class=\"dataframe\">\n",
       "  <thead>\n",
       "    <tr style=\"text-align: right;\">\n",
       "      <th></th>\n",
       "      <th>\"age</th>\n",
       "      <th>\"\"job\"\"</th>\n",
       "      <th>\"\"marital\"\"</th>\n",
       "      <th>\"\"education\"\"</th>\n",
       "      <th>\"\"default\"\"</th>\n",
       "      <th>\"\"balance\"\"</th>\n",
       "      <th>\"\"housing\"\"</th>\n",
       "      <th>\"\"loan\"\"</th>\n",
       "      <th>\"\"contact\"\"</th>\n",
       "      <th>\"\"day\"\"</th>\n",
       "      <th>\"\"month\"\"</th>\n",
       "      <th>\"\"duration\"\"</th>\n",
       "      <th>\"\"campaign\"\"</th>\n",
       "      <th>\"\"pdays\"\"</th>\n",
       "      <th>\"\"previous\"\"</th>\n",
       "      <th>\"\"poutcome\"\"</th>\n",
       "      <th>\"\"y\"\"\"</th>\n",
       "    </tr>\n",
       "  </thead>\n",
       "  <tbody>\n",
       "    <tr>\n",
       "      <th>0</th>\n",
       "      <td>\"30</td>\n",
       "      <td>\"\"unemployed\"\"</td>\n",
       "      <td>\"\"married\"\"</td>\n",
       "      <td>\"\"primary\"\"</td>\n",
       "      <td>\"\"no\"\"</td>\n",
       "      <td>1787</td>\n",
       "      <td>\"\"no\"\"</td>\n",
       "      <td>\"\"no\"\"</td>\n",
       "      <td>\"\"cellular\"\"</td>\n",
       "      <td>19</td>\n",
       "      <td>\"\"oct\"\"</td>\n",
       "      <td>79</td>\n",
       "      <td>1</td>\n",
       "      <td>-1</td>\n",
       "      <td>0</td>\n",
       "      <td>\"\"unknown\"\"</td>\n",
       "      <td>\"\"no\"\"\"</td>\n",
       "    </tr>\n",
       "    <tr>\n",
       "      <th>1</th>\n",
       "      <td>\"33</td>\n",
       "      <td>\"\"services\"\"</td>\n",
       "      <td>\"\"married\"\"</td>\n",
       "      <td>\"\"secondary\"\"</td>\n",
       "      <td>\"\"no\"\"</td>\n",
       "      <td>4789</td>\n",
       "      <td>\"\"yes\"\"</td>\n",
       "      <td>\"\"yes\"\"</td>\n",
       "      <td>\"\"cellular\"\"</td>\n",
       "      <td>11</td>\n",
       "      <td>\"\"may\"\"</td>\n",
       "      <td>220</td>\n",
       "      <td>1</td>\n",
       "      <td>339</td>\n",
       "      <td>4</td>\n",
       "      <td>\"\"failure\"\"</td>\n",
       "      <td>\"\"no\"\"\"</td>\n",
       "    </tr>\n",
       "    <tr>\n",
       "      <th>2</th>\n",
       "      <td>\"35</td>\n",
       "      <td>\"\"management\"\"</td>\n",
       "      <td>\"\"single\"\"</td>\n",
       "      <td>\"\"tertiary\"\"</td>\n",
       "      <td>\"\"no\"\"</td>\n",
       "      <td>1350</td>\n",
       "      <td>\"\"yes\"\"</td>\n",
       "      <td>\"\"no\"\"</td>\n",
       "      <td>\"\"cellular\"\"</td>\n",
       "      <td>16</td>\n",
       "      <td>\"\"apr\"\"</td>\n",
       "      <td>185</td>\n",
       "      <td>1</td>\n",
       "      <td>330</td>\n",
       "      <td>1</td>\n",
       "      <td>\"\"failure\"\"</td>\n",
       "      <td>\"\"no\"\"\"</td>\n",
       "    </tr>\n",
       "    <tr>\n",
       "      <th>3</th>\n",
       "      <td>\"30</td>\n",
       "      <td>\"\"management\"\"</td>\n",
       "      <td>\"\"married\"\"</td>\n",
       "      <td>\"\"tertiary\"\"</td>\n",
       "      <td>\"\"no\"\"</td>\n",
       "      <td>1476</td>\n",
       "      <td>\"\"yes\"\"</td>\n",
       "      <td>\"\"yes\"\"</td>\n",
       "      <td>\"\"unknown\"\"</td>\n",
       "      <td>3</td>\n",
       "      <td>\"\"jun\"\"</td>\n",
       "      <td>199</td>\n",
       "      <td>4</td>\n",
       "      <td>-1</td>\n",
       "      <td>0</td>\n",
       "      <td>\"\"unknown\"\"</td>\n",
       "      <td>\"\"no\"\"\"</td>\n",
       "    </tr>\n",
       "    <tr>\n",
       "      <th>4</th>\n",
       "      <td>\"59</td>\n",
       "      <td>\"\"blue-collar\"\"</td>\n",
       "      <td>\"\"married\"\"</td>\n",
       "      <td>\"\"secondary\"\"</td>\n",
       "      <td>\"\"no\"\"</td>\n",
       "      <td>0</td>\n",
       "      <td>\"\"yes\"\"</td>\n",
       "      <td>\"\"no\"\"</td>\n",
       "      <td>\"\"unknown\"\"</td>\n",
       "      <td>5</td>\n",
       "      <td>\"\"may\"\"</td>\n",
       "      <td>226</td>\n",
       "      <td>1</td>\n",
       "      <td>-1</td>\n",
       "      <td>0</td>\n",
       "      <td>\"\"unknown\"\"</td>\n",
       "      <td>\"\"no\"\"\"</td>\n",
       "    </tr>\n",
       "    <tr>\n",
       "      <th>...</th>\n",
       "      <td>...</td>\n",
       "      <td>...</td>\n",
       "      <td>...</td>\n",
       "      <td>...</td>\n",
       "      <td>...</td>\n",
       "      <td>...</td>\n",
       "      <td>...</td>\n",
       "      <td>...</td>\n",
       "      <td>...</td>\n",
       "      <td>...</td>\n",
       "      <td>...</td>\n",
       "      <td>...</td>\n",
       "      <td>...</td>\n",
       "      <td>...</td>\n",
       "      <td>...</td>\n",
       "      <td>...</td>\n",
       "      <td>...</td>\n",
       "    </tr>\n",
       "    <tr>\n",
       "      <th>4516</th>\n",
       "      <td>\"33</td>\n",
       "      <td>\"\"services\"\"</td>\n",
       "      <td>\"\"married\"\"</td>\n",
       "      <td>\"\"secondary\"\"</td>\n",
       "      <td>\"\"no\"\"</td>\n",
       "      <td>-333</td>\n",
       "      <td>\"\"yes\"\"</td>\n",
       "      <td>\"\"no\"\"</td>\n",
       "      <td>\"\"cellular\"\"</td>\n",
       "      <td>30</td>\n",
       "      <td>\"\"jul\"\"</td>\n",
       "      <td>329</td>\n",
       "      <td>5</td>\n",
       "      <td>-1</td>\n",
       "      <td>0</td>\n",
       "      <td>\"\"unknown\"\"</td>\n",
       "      <td>\"\"no\"\"\"</td>\n",
       "    </tr>\n",
       "    <tr>\n",
       "      <th>4517</th>\n",
       "      <td>\"57</td>\n",
       "      <td>\"\"self-employed\"\"</td>\n",
       "      <td>\"\"married\"\"</td>\n",
       "      <td>\"\"tertiary\"\"</td>\n",
       "      <td>\"\"yes\"\"</td>\n",
       "      <td>-3313</td>\n",
       "      <td>\"\"yes\"\"</td>\n",
       "      <td>\"\"yes\"\"</td>\n",
       "      <td>\"\"unknown\"\"</td>\n",
       "      <td>9</td>\n",
       "      <td>\"\"may\"\"</td>\n",
       "      <td>153</td>\n",
       "      <td>1</td>\n",
       "      <td>-1</td>\n",
       "      <td>0</td>\n",
       "      <td>\"\"unknown\"\"</td>\n",
       "      <td>\"\"no\"\"\"</td>\n",
       "    </tr>\n",
       "    <tr>\n",
       "      <th>4518</th>\n",
       "      <td>\"57</td>\n",
       "      <td>\"\"technician\"\"</td>\n",
       "      <td>\"\"married\"\"</td>\n",
       "      <td>\"\"secondary\"\"</td>\n",
       "      <td>\"\"no\"\"</td>\n",
       "      <td>295</td>\n",
       "      <td>\"\"no\"\"</td>\n",
       "      <td>\"\"no\"\"</td>\n",
       "      <td>\"\"cellular\"\"</td>\n",
       "      <td>19</td>\n",
       "      <td>\"\"aug\"\"</td>\n",
       "      <td>151</td>\n",
       "      <td>11</td>\n",
       "      <td>-1</td>\n",
       "      <td>0</td>\n",
       "      <td>\"\"unknown\"\"</td>\n",
       "      <td>\"\"no\"\"\"</td>\n",
       "    </tr>\n",
       "    <tr>\n",
       "      <th>4519</th>\n",
       "      <td>\"28</td>\n",
       "      <td>\"\"blue-collar\"\"</td>\n",
       "      <td>\"\"married\"\"</td>\n",
       "      <td>\"\"secondary\"\"</td>\n",
       "      <td>\"\"no\"\"</td>\n",
       "      <td>1137</td>\n",
       "      <td>\"\"no\"\"</td>\n",
       "      <td>\"\"no\"\"</td>\n",
       "      <td>\"\"cellular\"\"</td>\n",
       "      <td>6</td>\n",
       "      <td>\"\"feb\"\"</td>\n",
       "      <td>129</td>\n",
       "      <td>4</td>\n",
       "      <td>211</td>\n",
       "      <td>3</td>\n",
       "      <td>\"\"other\"\"</td>\n",
       "      <td>\"\"no\"\"\"</td>\n",
       "    </tr>\n",
       "    <tr>\n",
       "      <th>4520</th>\n",
       "      <td>\"44</td>\n",
       "      <td>\"\"entrepreneur\"\"</td>\n",
       "      <td>\"\"single\"\"</td>\n",
       "      <td>\"\"tertiary\"\"</td>\n",
       "      <td>\"\"no\"\"</td>\n",
       "      <td>1136</td>\n",
       "      <td>\"\"yes\"\"</td>\n",
       "      <td>\"\"yes\"\"</td>\n",
       "      <td>\"\"cellular\"\"</td>\n",
       "      <td>3</td>\n",
       "      <td>\"\"apr\"\"</td>\n",
       "      <td>345</td>\n",
       "      <td>2</td>\n",
       "      <td>249</td>\n",
       "      <td>7</td>\n",
       "      <td>\"\"other\"\"</td>\n",
       "      <td>\"\"no\"\"\"</td>\n",
       "    </tr>\n",
       "  </tbody>\n",
       "</table>\n",
       "<p>4521 rows × 17 columns</p>\n",
       "</div>"
      ],
      "text/plain": [
       "     \"age            \"\"job\"\"  \"\"marital\"\"  \"\"education\"\" \"\"default\"\"  \\\n",
       "0     \"30     \"\"unemployed\"\"  \"\"married\"\"    \"\"primary\"\"      \"\"no\"\"   \n",
       "1     \"33       \"\"services\"\"  \"\"married\"\"  \"\"secondary\"\"      \"\"no\"\"   \n",
       "2     \"35     \"\"management\"\"   \"\"single\"\"   \"\"tertiary\"\"      \"\"no\"\"   \n",
       "3     \"30     \"\"management\"\"  \"\"married\"\"   \"\"tertiary\"\"      \"\"no\"\"   \n",
       "4     \"59    \"\"blue-collar\"\"  \"\"married\"\"  \"\"secondary\"\"      \"\"no\"\"   \n",
       "...   ...                ...          ...            ...         ...   \n",
       "4516  \"33       \"\"services\"\"  \"\"married\"\"  \"\"secondary\"\"      \"\"no\"\"   \n",
       "4517  \"57  \"\"self-employed\"\"  \"\"married\"\"   \"\"tertiary\"\"     \"\"yes\"\"   \n",
       "4518  \"57     \"\"technician\"\"  \"\"married\"\"  \"\"secondary\"\"      \"\"no\"\"   \n",
       "4519  \"28    \"\"blue-collar\"\"  \"\"married\"\"  \"\"secondary\"\"      \"\"no\"\"   \n",
       "4520  \"44   \"\"entrepreneur\"\"   \"\"single\"\"   \"\"tertiary\"\"      \"\"no\"\"   \n",
       "\n",
       "      \"\"balance\"\" \"\"housing\"\" \"\"loan\"\"   \"\"contact\"\"  \"\"day\"\" \"\"month\"\"  \\\n",
       "0            1787      \"\"no\"\"   \"\"no\"\"  \"\"cellular\"\"       19   \"\"oct\"\"   \n",
       "1            4789     \"\"yes\"\"  \"\"yes\"\"  \"\"cellular\"\"       11   \"\"may\"\"   \n",
       "2            1350     \"\"yes\"\"   \"\"no\"\"  \"\"cellular\"\"       16   \"\"apr\"\"   \n",
       "3            1476     \"\"yes\"\"  \"\"yes\"\"   \"\"unknown\"\"        3   \"\"jun\"\"   \n",
       "4               0     \"\"yes\"\"   \"\"no\"\"   \"\"unknown\"\"        5   \"\"may\"\"   \n",
       "...           ...         ...      ...           ...      ...       ...   \n",
       "4516         -333     \"\"yes\"\"   \"\"no\"\"  \"\"cellular\"\"       30   \"\"jul\"\"   \n",
       "4517        -3313     \"\"yes\"\"  \"\"yes\"\"   \"\"unknown\"\"        9   \"\"may\"\"   \n",
       "4518          295      \"\"no\"\"   \"\"no\"\"  \"\"cellular\"\"       19   \"\"aug\"\"   \n",
       "4519         1137      \"\"no\"\"   \"\"no\"\"  \"\"cellular\"\"        6   \"\"feb\"\"   \n",
       "4520         1136     \"\"yes\"\"  \"\"yes\"\"  \"\"cellular\"\"        3   \"\"apr\"\"   \n",
       "\n",
       "      \"\"duration\"\"  \"\"campaign\"\"  \"\"pdays\"\"  \"\"previous\"\" \"\"poutcome\"\"  \\\n",
       "0               79             1         -1             0  \"\"unknown\"\"   \n",
       "1              220             1        339             4  \"\"failure\"\"   \n",
       "2              185             1        330             1  \"\"failure\"\"   \n",
       "3              199             4         -1             0  \"\"unknown\"\"   \n",
       "4              226             1         -1             0  \"\"unknown\"\"   \n",
       "...            ...           ...        ...           ...          ...   \n",
       "4516           329             5         -1             0  \"\"unknown\"\"   \n",
       "4517           153             1         -1             0  \"\"unknown\"\"   \n",
       "4518           151            11         -1             0  \"\"unknown\"\"   \n",
       "4519           129             4        211             3    \"\"other\"\"   \n",
       "4520           345             2        249             7    \"\"other\"\"   \n",
       "\n",
       "       \"\"y\"\"\"  \n",
       "0     \"\"no\"\"\"  \n",
       "1     \"\"no\"\"\"  \n",
       "2     \"\"no\"\"\"  \n",
       "3     \"\"no\"\"\"  \n",
       "4     \"\"no\"\"\"  \n",
       "...       ...  \n",
       "4516  \"\"no\"\"\"  \n",
       "4517  \"\"no\"\"\"  \n",
       "4518  \"\"no\"\"\"  \n",
       "4519  \"\"no\"\"\"  \n",
       "4520  \"\"no\"\"\"  \n",
       "\n",
       "[4521 rows x 17 columns]"
      ]
     },
     "execution_count": 2,
     "metadata": {},
     "output_type": "execute_result"
    }
   ],
   "source": [
    "df=pd.read_csv('bank.csv',sep='\\;')\n",
    "df"
   ]
  },
  {
   "cell_type": "code",
   "execution_count": 3,
   "id": "b02a3a9c",
   "metadata": {},
   "outputs": [],
   "source": [
    "# removing values quotes\n",
    "for i in df.columns:\n",
    "    df[i]=df[i].apply(lambda x:str(x).strip(''''\"\"\"\"'''))"
   ]
  },
  {
   "cell_type": "code",
   "execution_count": 4,
   "id": "59dc39d5",
   "metadata": {},
   "outputs": [],
   "source": [
    "# removing columns quotes\n",
    "df.columns=df.columns.map(lambda x : x.strip('\"\"\"\"\"'))\n",
    "    \n"
   ]
  },
  {
   "cell_type": "code",
   "execution_count": 5,
   "id": "ac1dca93",
   "metadata": {},
   "outputs": [
    {
     "data": {
      "text/html": [
       "<div>\n",
       "<style scoped>\n",
       "    .dataframe tbody tr th:only-of-type {\n",
       "        vertical-align: middle;\n",
       "    }\n",
       "\n",
       "    .dataframe tbody tr th {\n",
       "        vertical-align: top;\n",
       "    }\n",
       "\n",
       "    .dataframe thead th {\n",
       "        text-align: right;\n",
       "    }\n",
       "</style>\n",
       "<table border=\"1\" class=\"dataframe\">\n",
       "  <thead>\n",
       "    <tr style=\"text-align: right;\">\n",
       "      <th></th>\n",
       "      <th>age</th>\n",
       "      <th>job</th>\n",
       "      <th>marital</th>\n",
       "      <th>education</th>\n",
       "      <th>default</th>\n",
       "      <th>balance</th>\n",
       "      <th>housing</th>\n",
       "      <th>loan</th>\n",
       "      <th>contact</th>\n",
       "      <th>day</th>\n",
       "      <th>month</th>\n",
       "      <th>duration</th>\n",
       "      <th>campaign</th>\n",
       "      <th>pdays</th>\n",
       "      <th>previous</th>\n",
       "      <th>poutcome</th>\n",
       "      <th>y</th>\n",
       "    </tr>\n",
       "  </thead>\n",
       "  <tbody>\n",
       "    <tr>\n",
       "      <th>0</th>\n",
       "      <td>30</td>\n",
       "      <td>unemployed</td>\n",
       "      <td>married</td>\n",
       "      <td>primary</td>\n",
       "      <td>no</td>\n",
       "      <td>1787</td>\n",
       "      <td>no</td>\n",
       "      <td>no</td>\n",
       "      <td>cellular</td>\n",
       "      <td>19</td>\n",
       "      <td>oct</td>\n",
       "      <td>79</td>\n",
       "      <td>1</td>\n",
       "      <td>-1</td>\n",
       "      <td>0</td>\n",
       "      <td>unknown</td>\n",
       "      <td>no</td>\n",
       "    </tr>\n",
       "    <tr>\n",
       "      <th>1</th>\n",
       "      <td>33</td>\n",
       "      <td>services</td>\n",
       "      <td>married</td>\n",
       "      <td>secondary</td>\n",
       "      <td>no</td>\n",
       "      <td>4789</td>\n",
       "      <td>yes</td>\n",
       "      <td>yes</td>\n",
       "      <td>cellular</td>\n",
       "      <td>11</td>\n",
       "      <td>may</td>\n",
       "      <td>220</td>\n",
       "      <td>1</td>\n",
       "      <td>339</td>\n",
       "      <td>4</td>\n",
       "      <td>failure</td>\n",
       "      <td>no</td>\n",
       "    </tr>\n",
       "    <tr>\n",
       "      <th>2</th>\n",
       "      <td>35</td>\n",
       "      <td>management</td>\n",
       "      <td>single</td>\n",
       "      <td>tertiary</td>\n",
       "      <td>no</td>\n",
       "      <td>1350</td>\n",
       "      <td>yes</td>\n",
       "      <td>no</td>\n",
       "      <td>cellular</td>\n",
       "      <td>16</td>\n",
       "      <td>apr</td>\n",
       "      <td>185</td>\n",
       "      <td>1</td>\n",
       "      <td>330</td>\n",
       "      <td>1</td>\n",
       "      <td>failure</td>\n",
       "      <td>no</td>\n",
       "    </tr>\n",
       "    <tr>\n",
       "      <th>3</th>\n",
       "      <td>30</td>\n",
       "      <td>management</td>\n",
       "      <td>married</td>\n",
       "      <td>tertiary</td>\n",
       "      <td>no</td>\n",
       "      <td>1476</td>\n",
       "      <td>yes</td>\n",
       "      <td>yes</td>\n",
       "      <td>unknown</td>\n",
       "      <td>3</td>\n",
       "      <td>jun</td>\n",
       "      <td>199</td>\n",
       "      <td>4</td>\n",
       "      <td>-1</td>\n",
       "      <td>0</td>\n",
       "      <td>unknown</td>\n",
       "      <td>no</td>\n",
       "    </tr>\n",
       "    <tr>\n",
       "      <th>4</th>\n",
       "      <td>59</td>\n",
       "      <td>blue-collar</td>\n",
       "      <td>married</td>\n",
       "      <td>secondary</td>\n",
       "      <td>no</td>\n",
       "      <td>0</td>\n",
       "      <td>yes</td>\n",
       "      <td>no</td>\n",
       "      <td>unknown</td>\n",
       "      <td>5</td>\n",
       "      <td>may</td>\n",
       "      <td>226</td>\n",
       "      <td>1</td>\n",
       "      <td>-1</td>\n",
       "      <td>0</td>\n",
       "      <td>unknown</td>\n",
       "      <td>no</td>\n",
       "    </tr>\n",
       "    <tr>\n",
       "      <th>...</th>\n",
       "      <td>...</td>\n",
       "      <td>...</td>\n",
       "      <td>...</td>\n",
       "      <td>...</td>\n",
       "      <td>...</td>\n",
       "      <td>...</td>\n",
       "      <td>...</td>\n",
       "      <td>...</td>\n",
       "      <td>...</td>\n",
       "      <td>...</td>\n",
       "      <td>...</td>\n",
       "      <td>...</td>\n",
       "      <td>...</td>\n",
       "      <td>...</td>\n",
       "      <td>...</td>\n",
       "      <td>...</td>\n",
       "      <td>...</td>\n",
       "    </tr>\n",
       "    <tr>\n",
       "      <th>4516</th>\n",
       "      <td>33</td>\n",
       "      <td>services</td>\n",
       "      <td>married</td>\n",
       "      <td>secondary</td>\n",
       "      <td>no</td>\n",
       "      <td>-333</td>\n",
       "      <td>yes</td>\n",
       "      <td>no</td>\n",
       "      <td>cellular</td>\n",
       "      <td>30</td>\n",
       "      <td>jul</td>\n",
       "      <td>329</td>\n",
       "      <td>5</td>\n",
       "      <td>-1</td>\n",
       "      <td>0</td>\n",
       "      <td>unknown</td>\n",
       "      <td>no</td>\n",
       "    </tr>\n",
       "    <tr>\n",
       "      <th>4517</th>\n",
       "      <td>57</td>\n",
       "      <td>self-employed</td>\n",
       "      <td>married</td>\n",
       "      <td>tertiary</td>\n",
       "      <td>yes</td>\n",
       "      <td>-3313</td>\n",
       "      <td>yes</td>\n",
       "      <td>yes</td>\n",
       "      <td>unknown</td>\n",
       "      <td>9</td>\n",
       "      <td>may</td>\n",
       "      <td>153</td>\n",
       "      <td>1</td>\n",
       "      <td>-1</td>\n",
       "      <td>0</td>\n",
       "      <td>unknown</td>\n",
       "      <td>no</td>\n",
       "    </tr>\n",
       "    <tr>\n",
       "      <th>4518</th>\n",
       "      <td>57</td>\n",
       "      <td>technician</td>\n",
       "      <td>married</td>\n",
       "      <td>secondary</td>\n",
       "      <td>no</td>\n",
       "      <td>295</td>\n",
       "      <td>no</td>\n",
       "      <td>no</td>\n",
       "      <td>cellular</td>\n",
       "      <td>19</td>\n",
       "      <td>aug</td>\n",
       "      <td>151</td>\n",
       "      <td>11</td>\n",
       "      <td>-1</td>\n",
       "      <td>0</td>\n",
       "      <td>unknown</td>\n",
       "      <td>no</td>\n",
       "    </tr>\n",
       "    <tr>\n",
       "      <th>4519</th>\n",
       "      <td>28</td>\n",
       "      <td>blue-collar</td>\n",
       "      <td>married</td>\n",
       "      <td>secondary</td>\n",
       "      <td>no</td>\n",
       "      <td>1137</td>\n",
       "      <td>no</td>\n",
       "      <td>no</td>\n",
       "      <td>cellular</td>\n",
       "      <td>6</td>\n",
       "      <td>feb</td>\n",
       "      <td>129</td>\n",
       "      <td>4</td>\n",
       "      <td>211</td>\n",
       "      <td>3</td>\n",
       "      <td>other</td>\n",
       "      <td>no</td>\n",
       "    </tr>\n",
       "    <tr>\n",
       "      <th>4520</th>\n",
       "      <td>44</td>\n",
       "      <td>entrepreneur</td>\n",
       "      <td>single</td>\n",
       "      <td>tertiary</td>\n",
       "      <td>no</td>\n",
       "      <td>1136</td>\n",
       "      <td>yes</td>\n",
       "      <td>yes</td>\n",
       "      <td>cellular</td>\n",
       "      <td>3</td>\n",
       "      <td>apr</td>\n",
       "      <td>345</td>\n",
       "      <td>2</td>\n",
       "      <td>249</td>\n",
       "      <td>7</td>\n",
       "      <td>other</td>\n",
       "      <td>no</td>\n",
       "    </tr>\n",
       "  </tbody>\n",
       "</table>\n",
       "<p>4521 rows × 17 columns</p>\n",
       "</div>"
      ],
      "text/plain": [
       "     age            job  marital  education default balance housing loan  \\\n",
       "0     30     unemployed  married    primary      no    1787      no   no   \n",
       "1     33       services  married  secondary      no    4789     yes  yes   \n",
       "2     35     management   single   tertiary      no    1350     yes   no   \n",
       "3     30     management  married   tertiary      no    1476     yes  yes   \n",
       "4     59    blue-collar  married  secondary      no       0     yes   no   \n",
       "...   ..            ...      ...        ...     ...     ...     ...  ...   \n",
       "4516  33       services  married  secondary      no    -333     yes   no   \n",
       "4517  57  self-employed  married   tertiary     yes   -3313     yes  yes   \n",
       "4518  57     technician  married  secondary      no     295      no   no   \n",
       "4519  28    blue-collar  married  secondary      no    1137      no   no   \n",
       "4520  44   entrepreneur   single   tertiary      no    1136     yes  yes   \n",
       "\n",
       "       contact day month duration campaign pdays previous poutcome   y  \n",
       "0     cellular  19   oct       79        1    -1        0  unknown  no  \n",
       "1     cellular  11   may      220        1   339        4  failure  no  \n",
       "2     cellular  16   apr      185        1   330        1  failure  no  \n",
       "3      unknown   3   jun      199        4    -1        0  unknown  no  \n",
       "4      unknown   5   may      226        1    -1        0  unknown  no  \n",
       "...        ...  ..   ...      ...      ...   ...      ...      ...  ..  \n",
       "4516  cellular  30   jul      329        5    -1        0  unknown  no  \n",
       "4517   unknown   9   may      153        1    -1        0  unknown  no  \n",
       "4518  cellular  19   aug      151       11    -1        0  unknown  no  \n",
       "4519  cellular   6   feb      129        4   211        3    other  no  \n",
       "4520  cellular   3   apr      345        2   249        7    other  no  \n",
       "\n",
       "[4521 rows x 17 columns]"
      ]
     },
     "execution_count": 5,
     "metadata": {},
     "output_type": "execute_result"
    }
   ],
   "source": [
    "df"
   ]
  },
  {
   "cell_type": "markdown",
   "id": "26f25a87",
   "metadata": {},
   "source": [
    "#### 2. Make the data proper to make use of data for analysis\n",
    "#### A.\t Identify the Features data types before entering into the analysis"
   ]
  },
  {
   "cell_type": "code",
   "execution_count": 6,
   "id": "7327428d",
   "metadata": {},
   "outputs": [
    {
     "data": {
      "text/plain": [
       "age          object\n",
       "job          object\n",
       "marital      object\n",
       "education    object\n",
       "default      object\n",
       "balance      object\n",
       "housing      object\n",
       "loan         object\n",
       "contact      object\n",
       "day          object\n",
       "month        object\n",
       "duration     object\n",
       "campaign     object\n",
       "pdays        object\n",
       "previous     object\n",
       "poutcome     object\n",
       "y            object\n",
       "dtype: object"
      ]
     },
     "execution_count": 6,
     "metadata": {},
     "output_type": "execute_result"
    }
   ],
   "source": [
    "df.dtypes"
   ]
  },
  {
   "cell_type": "markdown",
   "id": "0750d421",
   "metadata": {},
   "source": [
    "\n",
    "#### B.\t.Convert the datatypes which are wrongly identified according to the business(domain). Kindly use the User Defined function and loop to convert the data types once."
   ]
  },
  {
   "cell_type": "code",
   "execution_count": 7,
   "id": "ead4c3ca",
   "metadata": {},
   "outputs": [],
   "source": [
    "def converting(x):\n",
    "    for i in x:\n",
    "        if i in ('age','day','duration','campaign','pdays','previous'):\n",
    "            df[i]=df[i].astype(int)\n",
    "        elif i == 'balance':\n",
    "            df[i]=df[i].astype(float)\n",
    "converting(df.columns)\n",
    "    \n",
    "    \n"
   ]
  },
  {
   "cell_type": "code",
   "execution_count": 8,
   "id": "dc3e5887",
   "metadata": {},
   "outputs": [
    {
     "data": {
      "text/plain": [
       "age            int32\n",
       "job           object\n",
       "marital       object\n",
       "education     object\n",
       "default       object\n",
       "balance      float64\n",
       "housing       object\n",
       "loan          object\n",
       "contact       object\n",
       "day            int32\n",
       "month         object\n",
       "duration       int32\n",
       "campaign       int32\n",
       "pdays          int32\n",
       "previous       int32\n",
       "poutcome      object\n",
       "y             object\n",
       "dtype: object"
      ]
     },
     "execution_count": 8,
     "metadata": {},
     "output_type": "execute_result"
    }
   ],
   "source": [
    "df.dtypes"
   ]
  },
  {
   "cell_type": "markdown",
   "id": "d68a0972",
   "metadata": {},
   "source": [
    "#### C.\tFind and Remove missing if any. Use visualization to find the missing values or Use general method to find the missing values."
   ]
  },
  {
   "cell_type": "code",
   "execution_count": 9,
   "id": "b4b4c0a4",
   "metadata": {},
   "outputs": [
    {
     "name": "stdout",
     "output_type": "stream",
     "text": [
      "<class 'pandas.core.frame.DataFrame'>\n",
      "RangeIndex: 4521 entries, 0 to 4520\n",
      "Data columns (total 17 columns):\n",
      " #   Column     Non-Null Count  Dtype  \n",
      "---  ------     --------------  -----  \n",
      " 0   age        4521 non-null   int32  \n",
      " 1   job        4521 non-null   object \n",
      " 2   marital    4521 non-null   object \n",
      " 3   education  4521 non-null   object \n",
      " 4   default    4521 non-null   object \n",
      " 5   balance    4521 non-null   float64\n",
      " 6   housing    4521 non-null   object \n",
      " 7   loan       4521 non-null   object \n",
      " 8   contact    4521 non-null   object \n",
      " 9   day        4521 non-null   int32  \n",
      " 10  month      4521 non-null   object \n",
      " 11  duration   4521 non-null   int32  \n",
      " 12  campaign   4521 non-null   int32  \n",
      " 13  pdays      4521 non-null   int32  \n",
      " 14  previous   4521 non-null   int32  \n",
      " 15  poutcome   4521 non-null   object \n",
      " 16  y          4521 non-null   object \n",
      "dtypes: float64(1), int32(6), object(10)\n",
      "memory usage: 494.6+ KB\n"
     ]
    }
   ],
   "source": [
    "df.info()"
   ]
  },
  {
   "cell_type": "code",
   "execution_count": 10,
   "id": "90384349",
   "metadata": {},
   "outputs": [
    {
     "data": {
      "text/plain": [
       "age          0\n",
       "job          0\n",
       "marital      0\n",
       "education    0\n",
       "default      0\n",
       "balance      0\n",
       "housing      0\n",
       "loan         0\n",
       "contact      0\n",
       "day          0\n",
       "month        0\n",
       "duration     0\n",
       "campaign     0\n",
       "pdays        0\n",
       "previous     0\n",
       "poutcome     0\n",
       "y            0\n",
       "dtype: int64"
      ]
     },
     "execution_count": 10,
     "metadata": {},
     "output_type": "execute_result"
    }
   ],
   "source": [
    "df.isnull().sum()"
   ]
  },
  {
   "cell_type": "markdown",
   "id": "c39c98d6",
   "metadata": {},
   "source": [
    "#### D.\t Find duplicates (if necessary)"
   ]
  },
  {
   "cell_type": "code",
   "execution_count": 11,
   "id": "330386f0",
   "metadata": {},
   "outputs": [
    {
     "data": {
      "text/html": [
       "<div>\n",
       "<style scoped>\n",
       "    .dataframe tbody tr th:only-of-type {\n",
       "        vertical-align: middle;\n",
       "    }\n",
       "\n",
       "    .dataframe tbody tr th {\n",
       "        vertical-align: top;\n",
       "    }\n",
       "\n",
       "    .dataframe thead th {\n",
       "        text-align: right;\n",
       "    }\n",
       "</style>\n",
       "<table border=\"1\" class=\"dataframe\">\n",
       "  <thead>\n",
       "    <tr style=\"text-align: right;\">\n",
       "      <th></th>\n",
       "      <th>age</th>\n",
       "      <th>job</th>\n",
       "      <th>marital</th>\n",
       "      <th>education</th>\n",
       "      <th>default</th>\n",
       "      <th>balance</th>\n",
       "      <th>housing</th>\n",
       "      <th>loan</th>\n",
       "      <th>contact</th>\n",
       "      <th>day</th>\n",
       "      <th>month</th>\n",
       "      <th>duration</th>\n",
       "      <th>campaign</th>\n",
       "      <th>pdays</th>\n",
       "      <th>previous</th>\n",
       "      <th>poutcome</th>\n",
       "      <th>y</th>\n",
       "    </tr>\n",
       "  </thead>\n",
       "  <tbody>\n",
       "  </tbody>\n",
       "</table>\n",
       "</div>"
      ],
      "text/plain": [
       "Empty DataFrame\n",
       "Columns: [age, job, marital, education, default, balance, housing, loan, contact, day, month, duration, campaign, pdays, previous, poutcome, y]\n",
       "Index: []"
      ]
     },
     "execution_count": 11,
     "metadata": {},
     "output_type": "execute_result"
    }
   ],
   "source": [
    "df[df.duplicated()]"
   ]
  },
  {
   "cell_type": "markdown",
   "id": "0e81fcf6",
   "metadata": {},
   "source": [
    "### 3. Find the average balance of the customer who belongs to the subscribed customer and non-subscribed customer and also use a related plot to show them in visualization.\n"
   ]
  },
  {
   "cell_type": "code",
   "execution_count": 12,
   "id": "cfe81a90",
   "metadata": {},
   "outputs": [],
   "source": [
    "df.rename(columns={'y':'subscription'},inplace=True)"
   ]
  },
  {
   "cell_type": "code",
   "execution_count": 13,
   "id": "d6f16744",
   "metadata": {},
   "outputs": [
    {
     "name": "stdout",
     "output_type": "stream",
     "text": [
      "The average balance of customer subscribed     = 1571.9558541266795\n",
      "The average balance of customer not subscribed = 1403.21175\n"
     ]
    }
   ],
   "source": [
    "a=df.groupby('subscription')['balance'].mean()\n",
    "print(f'''The average balance of customer subscribed     = {a['yes']}\n",
    "The average balance of customer not subscribed = {a['no']}''')"
   ]
  },
  {
   "cell_type": "code",
   "execution_count": 14,
   "id": "4b2db586",
   "metadata": {},
   "outputs": [
    {
     "data": {
      "text/plain": [
       "<AxesSubplot:xlabel='subscription', ylabel='balance'>"
      ]
     },
     "execution_count": 14,
     "metadata": {},
     "output_type": "execute_result"
    },
    {
     "data": {
      "image/png": "[encoded data removed]",
      "text/plain": [
       "<Figure size 432x288 with 1 Axes>"
      ]
     },
     "metadata": {
      "needs_background": "light"
     },
     "output_type": "display_data"
    }
   ],
   "source": [
    "sns.barplot(x=df['subscription'],y=df['balance'])"
   ]
  },
  {
   "cell_type": "markdown",
   "id": "ed05839e",
   "metadata": {},
   "source": [
    "### 4. Use a pie plot to find the distribution(frequency) of the education. Make sure to add labels and show the percentage of each education distribution.\n"
   ]
  },
  {
   "cell_type": "code",
   "execution_count": 15,
   "id": "75f60e14",
   "metadata": {},
   "outputs": [
    {
     "data": {
      "text/plain": [
       "education\n",
       "primary       678\n",
       "secondary    2306\n",
       "tertiary     1350\n",
       "unknown       187\n",
       "Name: education, dtype: int64"
      ]
     },
     "execution_count": 15,
     "metadata": {},
     "output_type": "execute_result"
    }
   ],
   "source": [
    "b=df.groupby('education')['education'].count()\n",
    "b"
   ]
  },
  {
   "cell_type": "code",
   "execution_count": 16,
   "id": "ac9270e0",
   "metadata": {},
   "outputs": [
    {
     "data": {
      "text/plain": [
       "([<matplotlib.patches.Wedge at 0x1a61a462eb0>,\n",
       "  <matplotlib.patches.Wedge at 0x1a61a452550>,\n",
       "  <matplotlib.patches.Wedge at 0x1a61a452c70>,\n",
       "  <matplotlib.patches.Wedge at 0x1a61a4443d0>],\n",
       " [Text(0.9801592249869853, 0.4992873858539915, 'primary'),\n",
       "  Text(-0.9097842946621081, 0.6182980973496284, 'secondary'),\n",
       "  Text(0.40065496717397947, -1.0244391623121492, 'tertiary'),\n",
       "  Text(1.0907260280899376, -0.14253677296455455, 'unknown')],\n",
       " [Text(0.5346323045383555, 0.27233857410217716, '15.00%'),\n",
       "  Text(-0.4962459789066044, 0.3372535076452518, '51.01%'),\n",
       "  Text(0.21853907300398878, -0.5587849976248085, '29.86%'),\n",
       "  Text(0.5949414698672386, -0.07774733070793884, '4.14%')])"
      ]
     },
     "execution_count": 16,
     "metadata": {},
     "output_type": "execute_result"
    },
    {
     "data": {
      "image/png": "[encoded data removed]",
      "text/plain": [
       "<Figure size 432x288 with 1 Axes>"
      ]
     },
     "metadata": {},
     "output_type": "display_data"
    }
   ],
   "source": [
    "plt.pie(x=b.values,labels=b.index,autopct='%.2f%%')"
   ]
  },
  {
   "cell_type": "code",
   "execution_count": 17,
   "id": "0c1d20c4",
   "metadata": {},
   "outputs": [
    {
     "data": {
      "text/plain": [
       "([<matplotlib.patches.Wedge at 0x1a61a3b8ca0>,\n",
       "  <matplotlib.patches.Wedge at 0x1a61a3a73a0>,\n",
       "  <matplotlib.patches.Wedge at 0x1a61a3a7ac0>,\n",
       "  <matplotlib.patches.Wedge at 0x1a61a399250>],\n",
       " [Text(-0.03477332523966894, 1.099450233458421, 'primary'),\n",
       "  Text(-0.5930964957425214, -0.926410571365602, 'secondary'),\n",
       "  Text(0.8189408676958337, -0.7343948905170807, 'tertiary'),\n",
       "  Text(1.0907260280899376, -0.14253677296455455, 'unknown')],\n",
       " [Text(-0.01896726831254669, 0.5997001273409569, '51.01%'),\n",
       "  Text(-0.3235071794959208, -0.5053148571085101, '29.86%'),\n",
       "  Text(0.446695018743182, -0.4005790311911349, '15.00%'),\n",
       "  Text(0.5949414698672386, -0.07774733070793884, '4.14%')])"
      ]
     },
     "execution_count": 17,
     "metadata": {},
     "output_type": "execute_result"
    },
    {
     "data": {
      "image/png": "[encoded data removed]",
      "text/plain": [
       "<Figure size 432x288 with 1 Axes>"
      ]
     },
     "metadata": {},
     "output_type": "display_data"
    }
   ],
   "source": [
    "# doubt\n",
    "label_s=df['education'].unique()\n",
    "plt.pie(x=df['education'].value_counts(),labels=label_s,autopct='%.2f%%')"
   ]
  },
  {
   "cell_type": "markdown",
   "id": "d4b0ac65",
   "metadata": {},
   "source": [
    "### 5. Create a function that should be able to create a new feature(Variable) called season using the month column.\n"
   ]
  },
  {
   "cell_type": "code",
   "execution_count": 18,
   "id": "33c9fe6a",
   "metadata": {},
   "outputs": [
    {
     "data": {
      "text/html": [
       "<div>\n",
       "<style scoped>\n",
       "    .dataframe tbody tr th:only-of-type {\n",
       "        vertical-align: middle;\n",
       "    }\n",
       "\n",
       "    .dataframe tbody tr th {\n",
       "        vertical-align: top;\n",
       "    }\n",
       "\n",
       "    .dataframe thead th {\n",
       "        text-align: right;\n",
       "    }\n",
       "</style>\n",
       "<table border=\"1\" class=\"dataframe\">\n",
       "  <thead>\n",
       "    <tr style=\"text-align: right;\">\n",
       "      <th></th>\n",
       "      <th>age</th>\n",
       "      <th>job</th>\n",
       "      <th>marital</th>\n",
       "      <th>education</th>\n",
       "      <th>default</th>\n",
       "      <th>balance</th>\n",
       "      <th>housing</th>\n",
       "      <th>loan</th>\n",
       "      <th>contact</th>\n",
       "      <th>day</th>\n",
       "      <th>month</th>\n",
       "      <th>duration</th>\n",
       "      <th>campaign</th>\n",
       "      <th>pdays</th>\n",
       "      <th>previous</th>\n",
       "      <th>poutcome</th>\n",
       "      <th>subscription</th>\n",
       "      <th>season</th>\n",
       "    </tr>\n",
       "  </thead>\n",
       "  <tbody>\n",
       "    <tr>\n",
       "      <th>0</th>\n",
       "      <td>30</td>\n",
       "      <td>unemployed</td>\n",
       "      <td>married</td>\n",
       "      <td>primary</td>\n",
       "      <td>no</td>\n",
       "      <td>1787.0</td>\n",
       "      <td>no</td>\n",
       "      <td>no</td>\n",
       "      <td>cellular</td>\n",
       "      <td>19</td>\n",
       "      <td>oct</td>\n",
       "      <td>79</td>\n",
       "      <td>1</td>\n",
       "      <td>-1</td>\n",
       "      <td>0</td>\n",
       "      <td>unknown</td>\n",
       "      <td>no</td>\n",
       "      <td>autumn</td>\n",
       "    </tr>\n",
       "    <tr>\n",
       "      <th>1</th>\n",
       "      <td>33</td>\n",
       "      <td>services</td>\n",
       "      <td>married</td>\n",
       "      <td>secondary</td>\n",
       "      <td>no</td>\n",
       "      <td>4789.0</td>\n",
       "      <td>yes</td>\n",
       "      <td>yes</td>\n",
       "      <td>cellular</td>\n",
       "      <td>11</td>\n",
       "      <td>may</td>\n",
       "      <td>220</td>\n",
       "      <td>1</td>\n",
       "      <td>339</td>\n",
       "      <td>4</td>\n",
       "      <td>failure</td>\n",
       "      <td>no</td>\n",
       "      <td>summer</td>\n",
       "    </tr>\n",
       "    <tr>\n",
       "      <th>2</th>\n",
       "      <td>35</td>\n",
       "      <td>management</td>\n",
       "      <td>single</td>\n",
       "      <td>tertiary</td>\n",
       "      <td>no</td>\n",
       "      <td>1350.0</td>\n",
       "      <td>yes</td>\n",
       "      <td>no</td>\n",
       "      <td>cellular</td>\n",
       "      <td>16</td>\n",
       "      <td>apr</td>\n",
       "      <td>185</td>\n",
       "      <td>1</td>\n",
       "      <td>330</td>\n",
       "      <td>1</td>\n",
       "      <td>failure</td>\n",
       "      <td>no</td>\n",
       "      <td>summer</td>\n",
       "    </tr>\n",
       "    <tr>\n",
       "      <th>3</th>\n",
       "      <td>30</td>\n",
       "      <td>management</td>\n",
       "      <td>married</td>\n",
       "      <td>tertiary</td>\n",
       "      <td>no</td>\n",
       "      <td>1476.0</td>\n",
       "      <td>yes</td>\n",
       "      <td>yes</td>\n",
       "      <td>unknown</td>\n",
       "      <td>3</td>\n",
       "      <td>jun</td>\n",
       "      <td>199</td>\n",
       "      <td>4</td>\n",
       "      <td>-1</td>\n",
       "      <td>0</td>\n",
       "      <td>unknown</td>\n",
       "      <td>no</td>\n",
       "      <td>monsoon</td>\n",
       "    </tr>\n",
       "    <tr>\n",
       "      <th>4</th>\n",
       "      <td>59</td>\n",
       "      <td>blue-collar</td>\n",
       "      <td>married</td>\n",
       "      <td>secondary</td>\n",
       "      <td>no</td>\n",
       "      <td>0.0</td>\n",
       "      <td>yes</td>\n",
       "      <td>no</td>\n",
       "      <td>unknown</td>\n",
       "      <td>5</td>\n",
       "      <td>may</td>\n",
       "      <td>226</td>\n",
       "      <td>1</td>\n",
       "      <td>-1</td>\n",
       "      <td>0</td>\n",
       "      <td>unknown</td>\n",
       "      <td>no</td>\n",
       "      <td>summer</td>\n",
       "    </tr>\n",
       "    <tr>\n",
       "      <th>...</th>\n",
       "      <td>...</td>\n",
       "      <td>...</td>\n",
       "      <td>...</td>\n",
       "      <td>...</td>\n",
       "      <td>...</td>\n",
       "      <td>...</td>\n",
       "      <td>...</td>\n",
       "      <td>...</td>\n",
       "      <td>...</td>\n",
       "      <td>...</td>\n",
       "      <td>...</td>\n",
       "      <td>...</td>\n",
       "      <td>...</td>\n",
       "      <td>...</td>\n",
       "      <td>...</td>\n",
       "      <td>...</td>\n",
       "      <td>...</td>\n",
       "      <td>...</td>\n",
       "    </tr>\n",
       "    <tr>\n",
       "      <th>4516</th>\n",
       "      <td>33</td>\n",
       "      <td>services</td>\n",
       "      <td>married</td>\n",
       "      <td>secondary</td>\n",
       "      <td>no</td>\n",
       "      <td>-333.0</td>\n",
       "      <td>yes</td>\n",
       "      <td>no</td>\n",
       "      <td>cellular</td>\n",
       "      <td>30</td>\n",
       "      <td>jul</td>\n",
       "      <td>329</td>\n",
       "      <td>5</td>\n",
       "      <td>-1</td>\n",
       "      <td>0</td>\n",
       "      <td>unknown</td>\n",
       "      <td>no</td>\n",
       "      <td>monsoon</td>\n",
       "    </tr>\n",
       "    <tr>\n",
       "      <th>4517</th>\n",
       "      <td>57</td>\n",
       "      <td>self-employed</td>\n",
       "      <td>married</td>\n",
       "      <td>tertiary</td>\n",
       "      <td>yes</td>\n",
       "      <td>-3313.0</td>\n",
       "      <td>yes</td>\n",
       "      <td>yes</td>\n",
       "      <td>unknown</td>\n",
       "      <td>9</td>\n",
       "      <td>may</td>\n",
       "      <td>153</td>\n",
       "      <td>1</td>\n",
       "      <td>-1</td>\n",
       "      <td>0</td>\n",
       "      <td>unknown</td>\n",
       "      <td>no</td>\n",
       "      <td>summer</td>\n",
       "    </tr>\n",
       "    <tr>\n",
       "      <th>4518</th>\n",
       "      <td>57</td>\n",
       "      <td>technician</td>\n",
       "      <td>married</td>\n",
       "      <td>secondary</td>\n",
       "      <td>no</td>\n",
       "      <td>295.0</td>\n",
       "      <td>no</td>\n",
       "      <td>no</td>\n",
       "      <td>cellular</td>\n",
       "      <td>19</td>\n",
       "      <td>aug</td>\n",
       "      <td>151</td>\n",
       "      <td>11</td>\n",
       "      <td>-1</td>\n",
       "      <td>0</td>\n",
       "      <td>unknown</td>\n",
       "      <td>no</td>\n",
       "      <td>monsoon</td>\n",
       "    </tr>\n",
       "    <tr>\n",
       "      <th>4519</th>\n",
       "      <td>28</td>\n",
       "      <td>blue-collar</td>\n",
       "      <td>married</td>\n",
       "      <td>secondary</td>\n",
       "      <td>no</td>\n",
       "      <td>1137.0</td>\n",
       "      <td>no</td>\n",
       "      <td>no</td>\n",
       "      <td>cellular</td>\n",
       "      <td>6</td>\n",
       "      <td>feb</td>\n",
       "      <td>129</td>\n",
       "      <td>4</td>\n",
       "      <td>211</td>\n",
       "      <td>3</td>\n",
       "      <td>other</td>\n",
       "      <td>no</td>\n",
       "      <td>winter</td>\n",
       "    </tr>\n",
       "    <tr>\n",
       "      <th>4520</th>\n",
       "      <td>44</td>\n",
       "      <td>entrepreneur</td>\n",
       "      <td>single</td>\n",
       "      <td>tertiary</td>\n",
       "      <td>no</td>\n",
       "      <td>1136.0</td>\n",
       "      <td>yes</td>\n",
       "      <td>yes</td>\n",
       "      <td>cellular</td>\n",
       "      <td>3</td>\n",
       "      <td>apr</td>\n",
       "      <td>345</td>\n",
       "      <td>2</td>\n",
       "      <td>249</td>\n",
       "      <td>7</td>\n",
       "      <td>other</td>\n",
       "      <td>no</td>\n",
       "      <td>summer</td>\n",
       "    </tr>\n",
       "  </tbody>\n",
       "</table>\n",
       "<p>4521 rows × 18 columns</p>\n",
       "</div>"
      ],
      "text/plain": [
       "      age            job  marital  education default  balance housing loan  \\\n",
       "0      30     unemployed  married    primary      no   1787.0      no   no   \n",
       "1      33       services  married  secondary      no   4789.0     yes  yes   \n",
       "2      35     management   single   tertiary      no   1350.0     yes   no   \n",
       "3      30     management  married   tertiary      no   1476.0     yes  yes   \n",
       "4      59    blue-collar  married  secondary      no      0.0     yes   no   \n",
       "...   ...            ...      ...        ...     ...      ...     ...  ...   \n",
       "4516   33       services  married  secondary      no   -333.0     yes   no   \n",
       "4517   57  self-employed  married   tertiary     yes  -3313.0     yes  yes   \n",
       "4518   57     technician  married  secondary      no    295.0      no   no   \n",
       "4519   28    blue-collar  married  secondary      no   1137.0      no   no   \n",
       "4520   44   entrepreneur   single   tertiary      no   1136.0     yes  yes   \n",
       "\n",
       "       contact  day month  duration  campaign  pdays  previous poutcome  \\\n",
       "0     cellular   19   oct        79         1     -1         0  unknown   \n",
       "1     cellular   11   may       220         1    339         4  failure   \n",
       "2     cellular   16   apr       185         1    330         1  failure   \n",
       "3      unknown    3   jun       199         4     -1         0  unknown   \n",
       "4      unknown    5   may       226         1     -1         0  unknown   \n",
       "...        ...  ...   ...       ...       ...    ...       ...      ...   \n",
       "4516  cellular   30   jul       329         5     -1         0  unknown   \n",
       "4517   unknown    9   may       153         1     -1         0  unknown   \n",
       "4518  cellular   19   aug       151        11     -1         0  unknown   \n",
       "4519  cellular    6   feb       129         4    211         3    other   \n",
       "4520  cellular    3   apr       345         2    249         7    other   \n",
       "\n",
       "     subscription   season  \n",
       "0              no   autumn  \n",
       "1              no   summer  \n",
       "2              no   summer  \n",
       "3              no  monsoon  \n",
       "4              no   summer  \n",
       "...           ...      ...  \n",
       "4516           no  monsoon  \n",
       "4517           no   summer  \n",
       "4518           no  monsoon  \n",
       "4519           no   winter  \n",
       "4520           no   summer  \n",
       "\n",
       "[4521 rows x 18 columns]"
      ]
     },
     "execution_count": 18,
     "metadata": {},
     "output_type": "execute_result"
    }
   ],
   "source": [
    "\n",
    "def feature(x):\n",
    "        if x in ('dec','jan','feb'):\n",
    "             return 'winter'\n",
    "        elif x in ('mar','apr','may'):\n",
    "             return 'summer'\n",
    "        elif x in ('jun','jul','aug'):\n",
    "             return 'monsoon'\n",
    "        else:\n",
    "             return 'autumn'\n",
    "df['season']=(df['month']).apply(feature)\n",
    "df"
   ]
  },
  {
   "cell_type": "code",
   "execution_count": 19,
   "id": "366d5ef8",
   "metadata": {},
   "outputs": [
    {
     "data": {
      "text/html": [
       "<div>\n",
       "<style scoped>\n",
       "    .dataframe tbody tr th:only-of-type {\n",
       "        vertical-align: middle;\n",
       "    }\n",
       "\n",
       "    .dataframe tbody tr th {\n",
       "        vertical-align: top;\n",
       "    }\n",
       "\n",
       "    .dataframe thead th {\n",
       "        text-align: right;\n",
       "    }\n",
       "</style>\n",
       "<table border=\"1\" class=\"dataframe\">\n",
       "  <thead>\n",
       "    <tr style=\"text-align: right;\">\n",
       "      <th></th>\n",
       "      <th>age</th>\n",
       "      <th>job</th>\n",
       "      <th>marital</th>\n",
       "      <th>education</th>\n",
       "      <th>default</th>\n",
       "      <th>balance</th>\n",
       "      <th>housing</th>\n",
       "      <th>loan</th>\n",
       "      <th>contact</th>\n",
       "      <th>day</th>\n",
       "      <th>month</th>\n",
       "      <th>duration</th>\n",
       "      <th>campaign</th>\n",
       "      <th>pdays</th>\n",
       "      <th>previous</th>\n",
       "      <th>poutcome</th>\n",
       "      <th>subscription</th>\n",
       "      <th>season</th>\n",
       "    </tr>\n",
       "  </thead>\n",
       "  <tbody>\n",
       "    <tr>\n",
       "      <th>0</th>\n",
       "      <td>30</td>\n",
       "      <td>unemployed</td>\n",
       "      <td>married</td>\n",
       "      <td>primary</td>\n",
       "      <td>no</td>\n",
       "      <td>1787.0</td>\n",
       "      <td>no</td>\n",
       "      <td>no</td>\n",
       "      <td>cellular</td>\n",
       "      <td>19</td>\n",
       "      <td>oct</td>\n",
       "      <td>79</td>\n",
       "      <td>1</td>\n",
       "      <td>-1</td>\n",
       "      <td>0</td>\n",
       "      <td>unknown</td>\n",
       "      <td>no</td>\n",
       "      <td>autumn</td>\n",
       "    </tr>\n",
       "    <tr>\n",
       "      <th>1</th>\n",
       "      <td>33</td>\n",
       "      <td>services</td>\n",
       "      <td>married</td>\n",
       "      <td>secondary</td>\n",
       "      <td>no</td>\n",
       "      <td>4789.0</td>\n",
       "      <td>yes</td>\n",
       "      <td>yes</td>\n",
       "      <td>cellular</td>\n",
       "      <td>11</td>\n",
       "      <td>may</td>\n",
       "      <td>220</td>\n",
       "      <td>1</td>\n",
       "      <td>339</td>\n",
       "      <td>4</td>\n",
       "      <td>failure</td>\n",
       "      <td>no</td>\n",
       "      <td>summer</td>\n",
       "    </tr>\n",
       "    <tr>\n",
       "      <th>2</th>\n",
       "      <td>35</td>\n",
       "      <td>management</td>\n",
       "      <td>single</td>\n",
       "      <td>tertiary</td>\n",
       "      <td>no</td>\n",
       "      <td>1350.0</td>\n",
       "      <td>yes</td>\n",
       "      <td>no</td>\n",
       "      <td>cellular</td>\n",
       "      <td>16</td>\n",
       "      <td>apr</td>\n",
       "      <td>185</td>\n",
       "      <td>1</td>\n",
       "      <td>330</td>\n",
       "      <td>1</td>\n",
       "      <td>failure</td>\n",
       "      <td>no</td>\n",
       "      <td>summer</td>\n",
       "    </tr>\n",
       "    <tr>\n",
       "      <th>3</th>\n",
       "      <td>30</td>\n",
       "      <td>management</td>\n",
       "      <td>married</td>\n",
       "      <td>tertiary</td>\n",
       "      <td>no</td>\n",
       "      <td>1476.0</td>\n",
       "      <td>yes</td>\n",
       "      <td>yes</td>\n",
       "      <td>unknown</td>\n",
       "      <td>3</td>\n",
       "      <td>jun</td>\n",
       "      <td>199</td>\n",
       "      <td>4</td>\n",
       "      <td>-1</td>\n",
       "      <td>0</td>\n",
       "      <td>unknown</td>\n",
       "      <td>no</td>\n",
       "      <td>monsoon</td>\n",
       "    </tr>\n",
       "    <tr>\n",
       "      <th>4</th>\n",
       "      <td>59</td>\n",
       "      <td>blue-collar</td>\n",
       "      <td>married</td>\n",
       "      <td>secondary</td>\n",
       "      <td>no</td>\n",
       "      <td>0.0</td>\n",
       "      <td>yes</td>\n",
       "      <td>no</td>\n",
       "      <td>unknown</td>\n",
       "      <td>5</td>\n",
       "      <td>may</td>\n",
       "      <td>226</td>\n",
       "      <td>1</td>\n",
       "      <td>-1</td>\n",
       "      <td>0</td>\n",
       "      <td>unknown</td>\n",
       "      <td>no</td>\n",
       "      <td>summer</td>\n",
       "    </tr>\n",
       "    <tr>\n",
       "      <th>...</th>\n",
       "      <td>...</td>\n",
       "      <td>...</td>\n",
       "      <td>...</td>\n",
       "      <td>...</td>\n",
       "      <td>...</td>\n",
       "      <td>...</td>\n",
       "      <td>...</td>\n",
       "      <td>...</td>\n",
       "      <td>...</td>\n",
       "      <td>...</td>\n",
       "      <td>...</td>\n",
       "      <td>...</td>\n",
       "      <td>...</td>\n",
       "      <td>...</td>\n",
       "      <td>...</td>\n",
       "      <td>...</td>\n",
       "      <td>...</td>\n",
       "      <td>...</td>\n",
       "    </tr>\n",
       "    <tr>\n",
       "      <th>4516</th>\n",
       "      <td>33</td>\n",
       "      <td>services</td>\n",
       "      <td>married</td>\n",
       "      <td>secondary</td>\n",
       "      <td>no</td>\n",
       "      <td>-333.0</td>\n",
       "      <td>yes</td>\n",
       "      <td>no</td>\n",
       "      <td>cellular</td>\n",
       "      <td>30</td>\n",
       "      <td>jul</td>\n",
       "      <td>329</td>\n",
       "      <td>5</td>\n",
       "      <td>-1</td>\n",
       "      <td>0</td>\n",
       "      <td>unknown</td>\n",
       "      <td>no</td>\n",
       "      <td>monsoon</td>\n",
       "    </tr>\n",
       "    <tr>\n",
       "      <th>4517</th>\n",
       "      <td>57</td>\n",
       "      <td>self-employed</td>\n",
       "      <td>married</td>\n",
       "      <td>tertiary</td>\n",
       "      <td>yes</td>\n",
       "      <td>-3313.0</td>\n",
       "      <td>yes</td>\n",
       "      <td>yes</td>\n",
       "      <td>unknown</td>\n",
       "      <td>9</td>\n",
       "      <td>may</td>\n",
       "      <td>153</td>\n",
       "      <td>1</td>\n",
       "      <td>-1</td>\n",
       "      <td>0</td>\n",
       "      <td>unknown</td>\n",
       "      <td>no</td>\n",
       "      <td>summer</td>\n",
       "    </tr>\n",
       "    <tr>\n",
       "      <th>4518</th>\n",
       "      <td>57</td>\n",
       "      <td>technician</td>\n",
       "      <td>married</td>\n",
       "      <td>secondary</td>\n",
       "      <td>no</td>\n",
       "      <td>295.0</td>\n",
       "      <td>no</td>\n",
       "      <td>no</td>\n",
       "      <td>cellular</td>\n",
       "      <td>19</td>\n",
       "      <td>aug</td>\n",
       "      <td>151</td>\n",
       "      <td>11</td>\n",
       "      <td>-1</td>\n",
       "      <td>0</td>\n",
       "      <td>unknown</td>\n",
       "      <td>no</td>\n",
       "      <td>monsoon</td>\n",
       "    </tr>\n",
       "    <tr>\n",
       "      <th>4519</th>\n",
       "      <td>28</td>\n",
       "      <td>blue-collar</td>\n",
       "      <td>married</td>\n",
       "      <td>secondary</td>\n",
       "      <td>no</td>\n",
       "      <td>1137.0</td>\n",
       "      <td>no</td>\n",
       "      <td>no</td>\n",
       "      <td>cellular</td>\n",
       "      <td>6</td>\n",
       "      <td>feb</td>\n",
       "      <td>129</td>\n",
       "      <td>4</td>\n",
       "      <td>211</td>\n",
       "      <td>3</td>\n",
       "      <td>other</td>\n",
       "      <td>no</td>\n",
       "      <td>winter</td>\n",
       "    </tr>\n",
       "    <tr>\n",
       "      <th>4520</th>\n",
       "      <td>44</td>\n",
       "      <td>entrepreneur</td>\n",
       "      <td>single</td>\n",
       "      <td>tertiary</td>\n",
       "      <td>no</td>\n",
       "      <td>1136.0</td>\n",
       "      <td>yes</td>\n",
       "      <td>yes</td>\n",
       "      <td>cellular</td>\n",
       "      <td>3</td>\n",
       "      <td>apr</td>\n",
       "      <td>345</td>\n",
       "      <td>2</td>\n",
       "      <td>249</td>\n",
       "      <td>7</td>\n",
       "      <td>other</td>\n",
       "      <td>no</td>\n",
       "      <td>summer</td>\n",
       "    </tr>\n",
       "  </tbody>\n",
       "</table>\n",
       "<p>4521 rows × 18 columns</p>\n",
       "</div>"
      ],
      "text/plain": [
       "      age            job  marital  education default  balance housing loan  \\\n",
       "0      30     unemployed  married    primary      no   1787.0      no   no   \n",
       "1      33       services  married  secondary      no   4789.0     yes  yes   \n",
       "2      35     management   single   tertiary      no   1350.0     yes   no   \n",
       "3      30     management  married   tertiary      no   1476.0     yes  yes   \n",
       "4      59    blue-collar  married  secondary      no      0.0     yes   no   \n",
       "...   ...            ...      ...        ...     ...      ...     ...  ...   \n",
       "4516   33       services  married  secondary      no   -333.0     yes   no   \n",
       "4517   57  self-employed  married   tertiary     yes  -3313.0     yes  yes   \n",
       "4518   57     technician  married  secondary      no    295.0      no   no   \n",
       "4519   28    blue-collar  married  secondary      no   1137.0      no   no   \n",
       "4520   44   entrepreneur   single   tertiary      no   1136.0     yes  yes   \n",
       "\n",
       "       contact  day month  duration  campaign  pdays  previous poutcome  \\\n",
       "0     cellular   19   oct        79         1     -1         0  unknown   \n",
       "1     cellular   11   may       220         1    339         4  failure   \n",
       "2     cellular   16   apr       185         1    330         1  failure   \n",
       "3      unknown    3   jun       199         4     -1         0  unknown   \n",
       "4      unknown    5   may       226         1     -1         0  unknown   \n",
       "...        ...  ...   ...       ...       ...    ...       ...      ...   \n",
       "4516  cellular   30   jul       329         5     -1         0  unknown   \n",
       "4517   unknown    9   may       153         1     -1         0  unknown   \n",
       "4518  cellular   19   aug       151        11     -1         0  unknown   \n",
       "4519  cellular    6   feb       129         4    211         3    other   \n",
       "4520  cellular    3   apr       345         2    249         7    other   \n",
       "\n",
       "     subscription   season  \n",
       "0              no   autumn  \n",
       "1              no   summer  \n",
       "2              no   summer  \n",
       "3              no  monsoon  \n",
       "4              no   summer  \n",
       "...           ...      ...  \n",
       "4516           no  monsoon  \n",
       "4517           no   summer  \n",
       "4518           no  monsoon  \n",
       "4519           no   winter  \n",
       "4520           no   summer  \n",
       "\n",
       "[4521 rows x 18 columns]"
      ]
     },
     "execution_count": 19,
     "metadata": {},
     "output_type": "execute_result"
    }
   ],
   "source": [
    "df['season']=list(map(lambda j: 'winter' if j in ('dec','jan','feb') else 'summer' if j in ('mar','apr','may') else 'monsoon' if j in ('jun','jul','aug') else 'autumn',df['month']))\n",
    "df"
   ]
  },
  {
   "cell_type": "markdown",
   "id": "957a636c",
   "metadata": {},
   "source": [
    "### 6.  Use the count plot with a variable that you created in the above question and also the Y variable to find the class distribution.\n"
   ]
  },
  {
   "cell_type": "code",
   "execution_count": 20,
   "id": "0b42e66a",
   "metadata": {},
   "outputs": [
    {
     "data": {
      "text/plain": [
       "<AxesSubplot:xlabel='season', ylabel='count'>"
      ]
     },
     "execution_count": 20,
     "metadata": {},
     "output_type": "execute_result"
    },
    {
     "data": {
      "image/png": "[encoded data removed]",
      "text/plain": [
       "<Figure size 432x288 with 1 Axes>"
      ]
     },
     "metadata": {
      "needs_background": "light"
     },
     "output_type": "display_data"
    }
   ],
   "source": [
    "\n",
    "sns.countplot(x=df['season'],hue=df['subscription'])"
   ]
  },
  {
   "cell_type": "markdown",
   "id": "33f99fa4",
   "metadata": {},
   "source": [
    "### 7. Use the Pdays feature and find does it cause any effect on the subscription of the term using the bar plot.\n"
   ]
  },
  {
   "cell_type": "code",
   "execution_count": 21,
   "id": "af8fd060",
   "metadata": {},
   "outputs": [
    {
     "data": {
      "text/plain": [
       "<AxesSubplot:xlabel='subscription', ylabel='pdays'>"
      ]
     },
     "execution_count": 21,
     "metadata": {},
     "output_type": "execute_result"
    },
    {
     "data": {
      "image/png": "[encoded data removed]",
      "text/plain": [
       "<Figure size 432x288 with 1 Axes>"
      ]
     },
     "metadata": {
      "needs_background": "light"
     },
     "output_type": "display_data"
    }
   ],
   "source": [
    "sns.barplot(y=df['pdays'],x=df['subscription'])"
   ]
  },
  {
   "cell_type": "code",
   "execution_count": 22,
   "id": "70ae134a",
   "metadata": {},
   "outputs": [
    {
     "data": {
      "text/plain": [
       "(array([0, 1, 2, 3, 4, 5, 6]),\n",
       " [Text(0, 0, '-1'),\n",
       "  Text(1, 0, '147'),\n",
       "  Text(2, 0, '152'),\n",
       "  Text(3, 0, '176'),\n",
       "  Text(4, 0, '241'),\n",
       "  Text(5, 0, '330'),\n",
       "  Text(6, 0, '339')])"
      ]
     },
     "execution_count": 22,
     "metadata": {},
     "output_type": "execute_result"
    },
    {
     "data": {
      "image/png": "[encoded data removed]",
      "text/plain": [
       "<Figure size 432x288 with 1 Axes>"
      ]
     },
     "metadata": {
      "needs_background": "light"
     },
     "output_type": "display_data"
    }
   ],
   "source": [
    "sns.countplot(x=df['pdays'][:25],hue=df['subscription'])\n",
    "plt.xticks(rotation=90)"
   ]
  },
  {
   "cell_type": "code",
   "execution_count": 26,
   "id": "6d2cd328",
   "metadata": {},
   "outputs": [
    {
     "data": {
      "text/plain": [
       "<AxesSubplot:xlabel='pdays', ylabel='freq'>"
      ]
     },
     "execution_count": 26,
     "metadata": {},
     "output_type": "execute_result"
    },
    {
     "data": {
      "image/png": "[encoded data removed]",
      "text/plain": [
       "<Figure size 432x288 with 1 Axes>"
      ]
     },
     "metadata": {
      "needs_background": "light"
     },
     "output_type": "display_data"
    }
   ],
   "source": [
    "a=df.groupby('pdays')['subscription'].value_counts()\n",
    "b = pd.DataFrame(a).rename(columns = {'subscription':'freq'}).reset_index()\n",
    "c = b[0:10]\n",
    "c\n",
    "sns.barplot(data = c, x = 'pdays', y='freq', hue = 'subscription')"
   ]
  },
  {
   "cell_type": "markdown",
   "id": "10e14481",
   "metadata": {},
   "source": [
    "### 8. Replace the -1 as nan values for the P-days store.\n"
   ]
  },
  {
   "cell_type": "code",
   "execution_count": 30,
   "id": "dd93f397",
   "metadata": {},
   "outputs": [
    {
     "data": {
      "text/html": [
       "<div>\n",
       "<style scoped>\n",
       "    .dataframe tbody tr th:only-of-type {\n",
       "        vertical-align: middle;\n",
       "    }\n",
       "\n",
       "    .dataframe tbody tr th {\n",
       "        vertical-align: top;\n",
       "    }\n",
       "\n",
       "    .dataframe thead th {\n",
       "        text-align: right;\n",
       "    }\n",
       "</style>\n",
       "<table border=\"1\" class=\"dataframe\">\n",
       "  <thead>\n",
       "    <tr style=\"text-align: right;\">\n",
       "      <th></th>\n",
       "      <th>age</th>\n",
       "      <th>job</th>\n",
       "      <th>marital</th>\n",
       "      <th>education</th>\n",
       "      <th>default</th>\n",
       "      <th>balance</th>\n",
       "      <th>housing</th>\n",
       "      <th>loan</th>\n",
       "      <th>contact</th>\n",
       "      <th>day</th>\n",
       "      <th>month</th>\n",
       "      <th>duration</th>\n",
       "      <th>campaign</th>\n",
       "      <th>pdays</th>\n",
       "      <th>previous</th>\n",
       "      <th>poutcome</th>\n",
       "      <th>subscription</th>\n",
       "      <th>season</th>\n",
       "    </tr>\n",
       "  </thead>\n",
       "  <tbody>\n",
       "    <tr>\n",
       "      <th>0</th>\n",
       "      <td>30</td>\n",
       "      <td>unemployed</td>\n",
       "      <td>married</td>\n",
       "      <td>primary</td>\n",
       "      <td>no</td>\n",
       "      <td>1787.0</td>\n",
       "      <td>no</td>\n",
       "      <td>no</td>\n",
       "      <td>cellular</td>\n",
       "      <td>19</td>\n",
       "      <td>oct</td>\n",
       "      <td>79</td>\n",
       "      <td>1</td>\n",
       "      <td>NaN</td>\n",
       "      <td>0</td>\n",
       "      <td>unknown</td>\n",
       "      <td>no</td>\n",
       "      <td>autumn</td>\n",
       "    </tr>\n",
       "    <tr>\n",
       "      <th>1</th>\n",
       "      <td>33</td>\n",
       "      <td>services</td>\n",
       "      <td>married</td>\n",
       "      <td>secondary</td>\n",
       "      <td>no</td>\n",
       "      <td>4789.0</td>\n",
       "      <td>yes</td>\n",
       "      <td>yes</td>\n",
       "      <td>cellular</td>\n",
       "      <td>11</td>\n",
       "      <td>may</td>\n",
       "      <td>220</td>\n",
       "      <td>1</td>\n",
       "      <td>339.0</td>\n",
       "      <td>4</td>\n",
       "      <td>failure</td>\n",
       "      <td>no</td>\n",
       "      <td>summer</td>\n",
       "    </tr>\n",
       "    <tr>\n",
       "      <th>2</th>\n",
       "      <td>35</td>\n",
       "      <td>management</td>\n",
       "      <td>single</td>\n",
       "      <td>tertiary</td>\n",
       "      <td>no</td>\n",
       "      <td>1350.0</td>\n",
       "      <td>yes</td>\n",
       "      <td>no</td>\n",
       "      <td>cellular</td>\n",
       "      <td>16</td>\n",
       "      <td>apr</td>\n",
       "      <td>185</td>\n",
       "      <td>1</td>\n",
       "      <td>330.0</td>\n",
       "      <td>1</td>\n",
       "      <td>failure</td>\n",
       "      <td>no</td>\n",
       "      <td>summer</td>\n",
       "    </tr>\n",
       "    <tr>\n",
       "      <th>3</th>\n",
       "      <td>30</td>\n",
       "      <td>management</td>\n",
       "      <td>married</td>\n",
       "      <td>tertiary</td>\n",
       "      <td>no</td>\n",
       "      <td>1476.0</td>\n",
       "      <td>yes</td>\n",
       "      <td>yes</td>\n",
       "      <td>unknown</td>\n",
       "      <td>3</td>\n",
       "      <td>jun</td>\n",
       "      <td>199</td>\n",
       "      <td>4</td>\n",
       "      <td>NaN</td>\n",
       "      <td>0</td>\n",
       "      <td>unknown</td>\n",
       "      <td>no</td>\n",
       "      <td>monsoon</td>\n",
       "    </tr>\n",
       "    <tr>\n",
       "      <th>4</th>\n",
       "      <td>59</td>\n",
       "      <td>blue-collar</td>\n",
       "      <td>married</td>\n",
       "      <td>secondary</td>\n",
       "      <td>no</td>\n",
       "      <td>0.0</td>\n",
       "      <td>yes</td>\n",
       "      <td>no</td>\n",
       "      <td>unknown</td>\n",
       "      <td>5</td>\n",
       "      <td>may</td>\n",
       "      <td>226</td>\n",
       "      <td>1</td>\n",
       "      <td>NaN</td>\n",
       "      <td>0</td>\n",
       "      <td>unknown</td>\n",
       "      <td>no</td>\n",
       "      <td>summer</td>\n",
       "    </tr>\n",
       "    <tr>\n",
       "      <th>...</th>\n",
       "      <td>...</td>\n",
       "      <td>...</td>\n",
       "      <td>...</td>\n",
       "      <td>...</td>\n",
       "      <td>...</td>\n",
       "      <td>...</td>\n",
       "      <td>...</td>\n",
       "      <td>...</td>\n",
       "      <td>...</td>\n",
       "      <td>...</td>\n",
       "      <td>...</td>\n",
       "      <td>...</td>\n",
       "      <td>...</td>\n",
       "      <td>...</td>\n",
       "      <td>...</td>\n",
       "      <td>...</td>\n",
       "      <td>...</td>\n",
       "      <td>...</td>\n",
       "    </tr>\n",
       "    <tr>\n",
       "      <th>4516</th>\n",
       "      <td>33</td>\n",
       "      <td>services</td>\n",
       "      <td>married</td>\n",
       "      <td>secondary</td>\n",
       "      <td>no</td>\n",
       "      <td>-333.0</td>\n",
       "      <td>yes</td>\n",
       "      <td>no</td>\n",
       "      <td>cellular</td>\n",
       "      <td>30</td>\n",
       "      <td>jul</td>\n",
       "      <td>329</td>\n",
       "      <td>5</td>\n",
       "      <td>NaN</td>\n",
       "      <td>0</td>\n",
       "      <td>unknown</td>\n",
       "      <td>no</td>\n",
       "      <td>monsoon</td>\n",
       "    </tr>\n",
       "    <tr>\n",
       "      <th>4517</th>\n",
       "      <td>57</td>\n",
       "      <td>self-employed</td>\n",
       "      <td>married</td>\n",
       "      <td>tertiary</td>\n",
       "      <td>yes</td>\n",
       "      <td>-3313.0</td>\n",
       "      <td>yes</td>\n",
       "      <td>yes</td>\n",
       "      <td>unknown</td>\n",
       "      <td>9</td>\n",
       "      <td>may</td>\n",
       "      <td>153</td>\n",
       "      <td>1</td>\n",
       "      <td>NaN</td>\n",
       "      <td>0</td>\n",
       "      <td>unknown</td>\n",
       "      <td>no</td>\n",
       "      <td>summer</td>\n",
       "    </tr>\n",
       "    <tr>\n",
       "      <th>4518</th>\n",
       "      <td>57</td>\n",
       "      <td>technician</td>\n",
       "      <td>married</td>\n",
       "      <td>secondary</td>\n",
       "      <td>no</td>\n",
       "      <td>295.0</td>\n",
       "      <td>no</td>\n",
       "      <td>no</td>\n",
       "      <td>cellular</td>\n",
       "      <td>19</td>\n",
       "      <td>aug</td>\n",
       "      <td>151</td>\n",
       "      <td>11</td>\n",
       "      <td>NaN</td>\n",
       "      <td>0</td>\n",
       "      <td>unknown</td>\n",
       "      <td>no</td>\n",
       "      <td>monsoon</td>\n",
       "    </tr>\n",
       "    <tr>\n",
       "      <th>4519</th>\n",
       "      <td>28</td>\n",
       "      <td>blue-collar</td>\n",
       "      <td>married</td>\n",
       "      <td>secondary</td>\n",
       "      <td>no</td>\n",
       "      <td>1137.0</td>\n",
       "      <td>no</td>\n",
       "      <td>no</td>\n",
       "      <td>cellular</td>\n",
       "      <td>6</td>\n",
       "      <td>feb</td>\n",
       "      <td>129</td>\n",
       "      <td>4</td>\n",
       "      <td>211.0</td>\n",
       "      <td>3</td>\n",
       "      <td>other</td>\n",
       "      <td>no</td>\n",
       "      <td>winter</td>\n",
       "    </tr>\n",
       "    <tr>\n",
       "      <th>4520</th>\n",
       "      <td>44</td>\n",
       "      <td>entrepreneur</td>\n",
       "      <td>single</td>\n",
       "      <td>tertiary</td>\n",
       "      <td>no</td>\n",
       "      <td>1136.0</td>\n",
       "      <td>yes</td>\n",
       "      <td>yes</td>\n",
       "      <td>cellular</td>\n",
       "      <td>3</td>\n",
       "      <td>apr</td>\n",
       "      <td>345</td>\n",
       "      <td>2</td>\n",
       "      <td>249.0</td>\n",
       "      <td>7</td>\n",
       "      <td>other</td>\n",
       "      <td>no</td>\n",
       "      <td>summer</td>\n",
       "    </tr>\n",
       "  </tbody>\n",
       "</table>\n",
       "<p>4521 rows × 18 columns</p>\n",
       "</div>"
      ],
      "text/plain": [
       "      age            job  marital  education default  balance housing loan  \\\n",
       "0      30     unemployed  married    primary      no   1787.0      no   no   \n",
       "1      33       services  married  secondary      no   4789.0     yes  yes   \n",
       "2      35     management   single   tertiary      no   1350.0     yes   no   \n",
       "3      30     management  married   tertiary      no   1476.0     yes  yes   \n",
       "4      59    blue-collar  married  secondary      no      0.0     yes   no   \n",
       "...   ...            ...      ...        ...     ...      ...     ...  ...   \n",
       "4516   33       services  married  secondary      no   -333.0     yes   no   \n",
       "4517   57  self-employed  married   tertiary     yes  -3313.0     yes  yes   \n",
       "4518   57     technician  married  secondary      no    295.0      no   no   \n",
       "4519   28    blue-collar  married  secondary      no   1137.0      no   no   \n",
       "4520   44   entrepreneur   single   tertiary      no   1136.0     yes  yes   \n",
       "\n",
       "       contact  day month  duration  campaign  pdays  previous poutcome  \\\n",
       "0     cellular   19   oct        79         1    NaN         0  unknown   \n",
       "1     cellular   11   may       220         1  339.0         4  failure   \n",
       "2     cellular   16   apr       185         1  330.0         1  failure   \n",
       "3      unknown    3   jun       199         4    NaN         0  unknown   \n",
       "4      unknown    5   may       226         1    NaN         0  unknown   \n",
       "...        ...  ...   ...       ...       ...    ...       ...      ...   \n",
       "4516  cellular   30   jul       329         5    NaN         0  unknown   \n",
       "4517   unknown    9   may       153         1    NaN         0  unknown   \n",
       "4518  cellular   19   aug       151        11    NaN         0  unknown   \n",
       "4519  cellular    6   feb       129         4  211.0         3    other   \n",
       "4520  cellular    3   apr       345         2  249.0         7    other   \n",
       "\n",
       "     subscription   season  \n",
       "0              no   autumn  \n",
       "1              no   summer  \n",
       "2              no   summer  \n",
       "3              no  monsoon  \n",
       "4              no   summer  \n",
       "...           ...      ...  \n",
       "4516           no  monsoon  \n",
       "4517           no   summer  \n",
       "4518           no  monsoon  \n",
       "4519           no   winter  \n",
       "4520           no   summer  \n",
       "\n",
       "[4521 rows x 18 columns]"
      ]
     },
     "execution_count": 30,
     "metadata": {},
     "output_type": "execute_result"
    }
   ],
   "source": [
    "df['pdays']=list(map(lambda x : np.nan if x== -1 else x ,df['pdays']))\n",
    "df"
   ]
  },
  {
   "cell_type": "markdown",
   "id": "6e6b799b",
   "metadata": {},
   "source": [
    "### 9. Once you are done with question number 8, do the same analysis as question number 7. And observe the difference between question number 7 and question number 9.\n"
   ]
  },
  {
   "cell_type": "code",
   "execution_count": 31,
   "id": "a05819d6",
   "metadata": {},
   "outputs": [
    {
     "data": {
      "text/plain": [
       "<AxesSubplot:xlabel='pdays', ylabel='freq'>"
      ]
     },
     "execution_count": 31,
     "metadata": {},
     "output_type": "execute_result"
    },
    {
     "data": {
      "image/png": "[encoded data removed]",
      "text/plain": [
       "<Figure size 432x288 with 1 Axes>"
      ]
     },
     "metadata": {
      "needs_background": "light"
     },
     "output_type": "display_data"
    }
   ],
   "source": [
    "a=df.groupby('pdays')['subscription'].value_counts()\n",
    "b = pd.DataFrame(a).rename(columns = {'subscription':'freq'}).reset_index()\n",
    "c = b[0:10]\n",
    "c\n",
    "sns.barplot(data = c, x = 'pdays', y='freq', hue = 'subscription')"
   ]
  },
  {
   "cell_type": "code",
   "execution_count": 34,
   "id": "834b86f6",
   "metadata": {},
   "outputs": [
    {
     "data": {
      "text/plain": [
       "(array([0, 1, 2, 3, 4, 5]),\n",
       " [Text(0, 0, '147.0'),\n",
       "  Text(1, 0, '152.0'),\n",
       "  Text(2, 0, '176.0'),\n",
       "  Text(3, 0, '241.0'),\n",
       "  Text(4, 0, '330.0'),\n",
       "  Text(5, 0, '339.0')])"
      ]
     },
     "execution_count": 34,
     "metadata": {},
     "output_type": "execute_result"
    },
    {
     "data": {
      "image/png": "[encoded data removed]",
      "text/plain": [
       "<Figure size 432x288 with 1 Axes>"
      ]
     },
     "metadata": {
      "needs_background": "light"
     },
     "output_type": "display_data"
    }
   ],
   "source": [
    "sns.countplot(x=df['pdays'][:25],hue=df['subscription'])\n",
    "plt.xticks(rotation=90)"
   ]
  },
  {
   "cell_type": "markdown",
   "id": "e055c366",
   "metadata": {},
   "source": [
    "### 10. Does the customer take the term subscription who has less than 0 balance?\n",
    "### Hint: Use any kind of plot which would you the related information to this question."
   ]
  },
  {
   "cell_type": "code",
   "execution_count": 35,
   "id": "3c68d1a0",
   "metadata": {},
   "outputs": [],
   "source": [
    "balance=df[df['balance']<0]"
   ]
  },
  {
   "cell_type": "code",
   "execution_count": 36,
   "id": "7e2ef0ba",
   "metadata": {},
   "outputs": [
    {
     "data": {
      "text/plain": [
       "<AxesSubplot:xlabel='subscription', ylabel='count'>"
      ]
     },
     "execution_count": 36,
     "metadata": {},
     "output_type": "execute_result"
    },
    {
     "data": {
      "image/png": "[encoded data removed]",
      "text/plain": [
       "<Figure size 432x288 with 1 Axes>"
      ]
     },
     "metadata": {
      "needs_background": "light"
     },
     "output_type": "display_data"
    }
   ],
   "source": [
    "sns.countplot(data=balance,x=df['subscription'])"
   ]
  },
  {
   "cell_type": "markdown",
   "id": "c4f2b03d",
   "metadata": {},
   "source": [
    "### 11. Use Pivot table to find the maximum balance for each type of job.\n"
   ]
  },
  {
   "cell_type": "code",
   "execution_count": 37,
   "id": "ba2e4f5d",
   "metadata": {},
   "outputs": [
    {
     "data": {
      "text/html": [
       "<div>\n",
       "<style scoped>\n",
       "    .dataframe tbody tr th:only-of-type {\n",
       "        vertical-align: middle;\n",
       "    }\n",
       "\n",
       "    .dataframe tbody tr th {\n",
       "        vertical-align: top;\n",
       "    }\n",
       "\n",
       "    .dataframe thead th {\n",
       "        text-align: right;\n",
       "    }\n",
       "</style>\n",
       "<table border=\"1\" class=\"dataframe\">\n",
       "  <thead>\n",
       "    <tr style=\"text-align: right;\">\n",
       "      <th></th>\n",
       "      <th>balance</th>\n",
       "    </tr>\n",
       "    <tr>\n",
       "      <th>job</th>\n",
       "      <th></th>\n",
       "    </tr>\n",
       "  </thead>\n",
       "  <tbody>\n",
       "    <tr>\n",
       "      <th>admin.</th>\n",
       "      <td>22171.0</td>\n",
       "    </tr>\n",
       "    <tr>\n",
       "      <th>blue-collar</th>\n",
       "      <td>16353.0</td>\n",
       "    </tr>\n",
       "    <tr>\n",
       "      <th>entrepreneur</th>\n",
       "      <td>42045.0</td>\n",
       "    </tr>\n",
       "    <tr>\n",
       "      <th>housemaid</th>\n",
       "      <td>26965.0</td>\n",
       "    </tr>\n",
       "    <tr>\n",
       "      <th>management</th>\n",
       "      <td>27359.0</td>\n",
       "    </tr>\n",
       "    <tr>\n",
       "      <th>retired</th>\n",
       "      <td>71188.0</td>\n",
       "    </tr>\n",
       "    <tr>\n",
       "      <th>self-employed</th>\n",
       "      <td>16430.0</td>\n",
       "    </tr>\n",
       "    <tr>\n",
       "      <th>services</th>\n",
       "      <td>26394.0</td>\n",
       "    </tr>\n",
       "    <tr>\n",
       "      <th>student</th>\n",
       "      <td>11555.0</td>\n",
       "    </tr>\n",
       "    <tr>\n",
       "      <th>technician</th>\n",
       "      <td>27733.0</td>\n",
       "    </tr>\n",
       "    <tr>\n",
       "      <th>unemployed</th>\n",
       "      <td>9019.0</td>\n",
       "    </tr>\n",
       "    <tr>\n",
       "      <th>unknown</th>\n",
       "      <td>7337.0</td>\n",
       "    </tr>\n",
       "  </tbody>\n",
       "</table>\n",
       "</div>"
      ],
      "text/plain": [
       "               balance\n",
       "job                   \n",
       "admin.         22171.0\n",
       "blue-collar    16353.0\n",
       "entrepreneur   42045.0\n",
       "housemaid      26965.0\n",
       "management     27359.0\n",
       "retired        71188.0\n",
       "self-employed  16430.0\n",
       "services       26394.0\n",
       "student        11555.0\n",
       "technician     27733.0\n",
       "unemployed      9019.0\n",
       "unknown         7337.0"
      ]
     },
     "execution_count": 37,
     "metadata": {},
     "output_type": "execute_result"
    }
   ],
   "source": [
    "pd.pivot_table(data=df,index='job',values='balance',aggfunc='max')"
   ]
  },
  {
   "cell_type": "markdown",
   "id": "1cf537b6",
   "metadata": {},
   "source": [
    "### 12. Use the Age, balance, and Y column to plot the scatter plot and find what kind of relationship Age and balance had, and See the points which belong 0 and 1 class and how they are distributed.\n"
   ]
  },
  {
   "cell_type": "code",
   "execution_count": 38,
   "id": "a7a864f5",
   "metadata": {},
   "outputs": [
    {
     "data": {
      "text/plain": [
       "<AxesSubplot:xlabel='age', ylabel='balance'>"
      ]
     },
     "execution_count": 38,
     "metadata": {},
     "output_type": "execute_result"
    },
    {
     "data": {
      "image/png": "[encoded data removed]",
      "text/plain": [
       "<Figure size 720x648 with 1 Axes>"
      ]
     },
     "metadata": {
      "needs_background": "light"
     },
     "output_type": "display_data"
    }
   ],
   "source": [
    "plt.figure(figsize=(10,9))\n",
    "sns.scatterplot(x=df['age'],y=df['balance'],hue=df['subscription'])"
   ]
  },
  {
   "cell_type": "markdown",
   "id": "0d929b96",
   "metadata": {},
   "source": [
    "### 13. Use the violin plot and also the box plot to find the distribution of the balance for each class of the Y column. And try to tell why we have a Violin plot and Box plot both rather than one.\n"
   ]
  },
  {
   "cell_type": "code",
   "execution_count": 39,
   "id": "cb99197c",
   "metadata": {},
   "outputs": [
    {
     "data": {
      "text/plain": [
       "<AxesSubplot:xlabel='subscription', ylabel='balance'>"
      ]
     },
     "execution_count": 39,
     "metadata": {},
     "output_type": "execute_result"
    },
    {
     "data": {
      "image/png": "[encoded data removed]",
      "text/plain": [
       "<Figure size 432x288 with 1 Axes>"
      ]
     },
     "metadata": {
      "needs_background": "light"
     },
     "output_type": "display_data"
    }
   ],
   "source": [
    "sns.violinplot(y=df['balance'],x=df['subscription'])"
   ]
  },
  {
   "cell_type": "code",
   "execution_count": 40,
   "id": "3b1f7257",
   "metadata": {},
   "outputs": [
    {
     "data": {
      "text/plain": [
       "<AxesSubplot:xlabel='subscription', ylabel='balance'>"
      ]
     },
     "execution_count": 40,
     "metadata": {},
     "output_type": "execute_result"
    },
    {
     "data": {
      "image/png": "[encoded data removed]",
      "text/plain": [
       "<Figure size 432x288 with 1 Axes>"
      ]
     },
     "metadata": {
      "needs_background": "light"
     },
     "output_type": "display_data"
    }
   ],
   "source": [
    "sns.boxplot(y=df['balance'],x=df['subscription'])"
   ]
  },
  {
   "cell_type": "markdown",
   "id": "7723aa75",
   "metadata": {},
   "source": [
    "### 14. Use a pie plot to know the Proportion(distribution) of the defaulters and non-defaulters.\n",
    "### Note: Try to explore more parameters that are there in the pie-plot method."
   ]
  },
  {
   "cell_type": "code",
   "execution_count": 41,
   "id": "153cbfa6",
   "metadata": {},
   "outputs": [
    {
     "data": {
      "text/plain": [
       "([<matplotlib.patches.Wedge at 0x1a61e997190>,\n",
       "  <matplotlib.patches.Wedge at 0x1a61e997700>],\n",
       " [Text(-1.0984663774848176, 0.05806563127515649, 'no'),\n",
       "  Text(1.0984663815621873, -0.058065554140773266, 'yes')],\n",
       " [Text(-0.5991634786280823, 0.031672162513721715, '98.32%'),\n",
       "  Text(0.5991634808521021, -0.03167212044042178, '1.68%')])"
      ]
     },
     "execution_count": 41,
     "metadata": {},
     "output_type": "execute_result"
    },
    {
     "data": {
      "image/png": "[encoded data removed]",
      "text/plain": [
       "<Figure size 720x576 with 1 Axes>"
      ]
     },
     "metadata": {},
     "output_type": "display_data"
    }
   ],
   "source": [
    "a=df['default'].value_counts()\n",
    "plt.figure(figsize=(10,8))\n",
    "plt.pie(x=a.values,labels=a.index,autopct='%.2f%%')"
   ]
  },
  {
   "cell_type": "markdown",
   "id": "3deb8308",
   "metadata": {},
   "source": [
    "### 15. Use Box plot and strip plot to know the distribution of the Pdays with respect to Y classes and differentiate both plots.\n"
   ]
  },
  {
   "cell_type": "code",
   "execution_count": 42,
   "id": "4369a1c2",
   "metadata": {},
   "outputs": [
    {
     "data": {
      "text/plain": [
       "<AxesSubplot:xlabel='subscription', ylabel='pdays'>"
      ]
     },
     "execution_count": 42,
     "metadata": {},
     "output_type": "execute_result"
    },
    {
     "data": {
      "image/png": "[encoded data removed]",
      "text/plain": [
       "<Figure size 432x288 with 1 Axes>"
      ]
     },
     "metadata": {
      "needs_background": "light"
     },
     "output_type": "display_data"
    }
   ],
   "source": [
    "sns.boxplot(y=df['pdays'],x=df['subscription'])"
   ]
  },
  {
   "cell_type": "code",
   "execution_count": 43,
   "id": "6931b2a0",
   "metadata": {},
   "outputs": [
    {
     "data": {
      "text/plain": [
       "<AxesSubplot:xlabel='subscription', ylabel='pdays'>"
      ]
     },
     "execution_count": 43,
     "metadata": {},
     "output_type": "execute_result"
    },
    {
     "data": {
      "image/png": "[encoded data removed]",
      "text/plain": [
       "<Figure size 432x288 with 1 Axes>"
      ]
     },
     "metadata": {
      "needs_background": "light"
     },
     "output_type": "display_data"
    }
   ],
   "source": [
    "sns.stripplot(y=df['pdays'],x=df['subscription'])"
   ]
  }
 ],
 "metadata": {
  "kernelspec": {
   "display_name": "Python 3 (ipykernel)",
   "language": "python",
   "name": "python3"
  },
  "language_info": {
   "codemirror_mode": {
    "name": "ipython",
    "version": 3
   },
   "file_extension": ".py",
   "mimetype": "text/x-python",
   "name": "python",
   "nbconvert_exporter": "python",
   "pygments_lexer": "ipython3",
   "version": "3.9.12"
  }
 },
 "nbformat": 4,
 "nbformat_minor": 5
}
