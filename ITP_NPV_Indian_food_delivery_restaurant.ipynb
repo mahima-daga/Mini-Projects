{
 "cells": [
  {
   "cell_type": "markdown",
   "id": "8780be2f",
   "metadata": {},
   "source": [
    "### Project Description\n",
    "* Topic - Indian food delivery restaurant aggregator\n",
    "\n",
    "* Problem statement :  Bengaluru is the best place for foodies. Currently, it stands at approximately 12,000 restaurants. With such a high number of restaurants. This industry hasn't been saturated yet. And new restaurants are opening every day. However, it has become difficult for them to compete with already established restaurants. The key issues that continue to pose a challenge to them include high real estate costs, rising food costs, shortage of quality manpower, fragmented supply chain, and over-licensing. This Zomato data aims at analyzing the demography of the location. Most importantly it will help new restaurants in deciding their theme, menus, cuisine, cost, etc for a particular location. It also aims at finding similarities between neighborhoods of Bengaluru on the basis of food. \n",
    "\n",
    "* Tools/Skills used : Python and Visualizing the Data "
   ]
  },
  {
   "cell_type": "markdown",
   "id": "9a62c53c",
   "metadata": {},
   "source": [
    "# 1.\tImport libraries that you required and Load the data set."
   ]
  },
  {
   "cell_type": "code",
   "execution_count": 1,
   "id": "aca586d1",
   "metadata": {},
   "outputs": [],
   "source": [
    "import numpy as np\n",
    "import pandas as pd\n",
    "import matplotlib.pyplot as plt\n",
    "import seaborn as sns"
   ]
  },
  {
   "cell_type": "code",
   "execution_count": 2,
   "id": "883735a7",
   "metadata": {},
   "outputs": [
    {
     "data": {
      "text/html": [
       "<div>\n",
       "<style scoped>\n",
       "    .dataframe tbody tr th:only-of-type {\n",
       "        vertical-align: middle;\n",
       "    }\n",
       "\n",
       "    .dataframe tbody tr th {\n",
       "        vertical-align: top;\n",
       "    }\n",
       "\n",
       "    .dataframe thead th {\n",
       "        text-align: right;\n",
       "    }\n",
       "</style>\n",
       "<table border=\"1\" class=\"dataframe\">\n",
       "  <thead>\n",
       "    <tr style=\"text-align: right;\">\n",
       "      <th></th>\n",
       "      <th>Unnamed: 0</th>\n",
       "      <th>url</th>\n",
       "      <th>address</th>\n",
       "      <th>name</th>\n",
       "      <th>online_order</th>\n",
       "      <th>book_table</th>\n",
       "      <th>rate</th>\n",
       "      <th>votes</th>\n",
       "      <th>phone</th>\n",
       "      <th>location</th>\n",
       "      <th>rest_type</th>\n",
       "      <th>dish_liked</th>\n",
       "      <th>cuisines</th>\n",
       "      <th>approx_cost(for two people)</th>\n",
       "      <th>reviews_list</th>\n",
       "      <th>menu_item</th>\n",
       "      <th>listed_in(type)</th>\n",
       "      <th>listed_in(city)</th>\n",
       "    </tr>\n",
       "  </thead>\n",
       "  <tbody>\n",
       "    <tr>\n",
       "      <th>0</th>\n",
       "      <td>14221</td>\n",
       "      <td>https://www.zomato.com/bangalore/shree-ranga-v...</td>\n",
       "      <td>366, Hosur Main Road, Attibele, Anekal Taluk, ...</td>\n",
       "      <td>Shree Ranga Vilas</td>\n",
       "      <td>No</td>\n",
       "      <td>No</td>\n",
       "      <td>3.2/5</td>\n",
       "      <td>7</td>\n",
       "      <td>080 29765044</td>\n",
       "      <td>Electronic City</td>\n",
       "      <td>Casual Dining</td>\n",
       "      <td>NaN</td>\n",
       "      <td>North Indian, South Indian, Chinese, Juices</td>\n",
       "      <td>500</td>\n",
       "      <td>[('Rated 3.0', 'RATED\\n  Typical South Indian ...</td>\n",
       "      <td>[]</td>\n",
       "      <td>Dine-out</td>\n",
       "      <td>Electronic City</td>\n",
       "    </tr>\n",
       "    <tr>\n",
       "      <th>1</th>\n",
       "      <td>43422</td>\n",
       "      <td>https://www.zomato.com/bangalore/sphyre-gatewa...</td>\n",
       "      <td>Gateway Hotel, 66, Residency Road, Bangalore</td>\n",
       "      <td>Sphyre - Gateway Hotel</td>\n",
       "      <td>No</td>\n",
       "      <td>No</td>\n",
       "      <td>3.6 /5</td>\n",
       "      <td>45</td>\n",
       "      <td>+91 9886643495\\n+91 9898780004</td>\n",
       "      <td>Residency Road</td>\n",
       "      <td>Lounge</td>\n",
       "      <td>NaN</td>\n",
       "      <td>Finger Food</td>\n",
       "      <td>1,700</td>\n",
       "      <td>[('Rated 1.0', 'RATED\\n  Expected a good night...</td>\n",
       "      <td>[]</td>\n",
       "      <td>Dine-out</td>\n",
       "      <td>MG Road</td>\n",
       "    </tr>\n",
       "    <tr>\n",
       "      <th>2</th>\n",
       "      <td>16032</td>\n",
       "      <td>https://www.zomato.com/bangalore/popular-baker...</td>\n",
       "      <td>19, BDA Complex, HSR, Bangalore</td>\n",
       "      <td>Popular Bakery</td>\n",
       "      <td>No</td>\n",
       "      <td>No</td>\n",
       "      <td>3.7/5</td>\n",
       "      <td>36</td>\n",
       "      <td>+91 8105834605\\r\\n080 25722488</td>\n",
       "      <td>HSR</td>\n",
       "      <td>Dessert Parlor, Bakery</td>\n",
       "      <td>NaN</td>\n",
       "      <td>Desserts, Bakery</td>\n",
       "      <td>600</td>\n",
       "      <td>[('Rated 5.0', \"RATED\\n  This outlet is in HSR...</td>\n",
       "      <td>[]</td>\n",
       "      <td>Delivery</td>\n",
       "      <td>HSR</td>\n",
       "    </tr>\n",
       "    <tr>\n",
       "      <th>3</th>\n",
       "      <td>51635</td>\n",
       "      <td>https://www.zomato.com/bangalore/thai-chinese-...</td>\n",
       "      <td>7, Anurhh Arcade, Hoodi Road, Kodigehalli Road...</td>\n",
       "      <td>Thai &amp; Chinese Fast Food</td>\n",
       "      <td>No</td>\n",
       "      <td>No</td>\n",
       "      <td>3.4 /5</td>\n",
       "      <td>7</td>\n",
       "      <td>+91 9206260085\\n+91 7619416923</td>\n",
       "      <td>KR Puram</td>\n",
       "      <td>Quick Bites</td>\n",
       "      <td>NaN</td>\n",
       "      <td>Chinese, Thai</td>\n",
       "      <td>400</td>\n",
       "      <td>[('Rated 5.0', 'RATED\\n  Its Looking delicious...</td>\n",
       "      <td>[]</td>\n",
       "      <td>Dine-out</td>\n",
       "      <td>Whitefield</td>\n",
       "    </tr>\n",
       "    <tr>\n",
       "      <th>4</th>\n",
       "      <td>23424</td>\n",
       "      <td>https://www.zomato.com/bangalore/grill-on-whee...</td>\n",
       "      <td>Kothanuru Main Road, Puttenahalli Road, Natara...</td>\n",
       "      <td>Grill On Wheels</td>\n",
       "      <td>No</td>\n",
       "      <td>No</td>\n",
       "      <td>NEW</td>\n",
       "      <td>0</td>\n",
       "      <td>+91 9901979901</td>\n",
       "      <td>JP Nagar</td>\n",
       "      <td>Quick Bites</td>\n",
       "      <td>NaN</td>\n",
       "      <td>North Indian, Chinese, BBQ, Arabian, Fast Food</td>\n",
       "      <td>400</td>\n",
       "      <td>[]</td>\n",
       "      <td>[]</td>\n",
       "      <td>Dine-out</td>\n",
       "      <td>JP Nagar</td>\n",
       "    </tr>\n",
       "  </tbody>\n",
       "</table>\n",
       "</div>"
      ],
      "text/plain": [
       "   Unnamed: 0                                                url  \\\n",
       "0       14221  https://www.zomato.com/bangalore/shree-ranga-v...   \n",
       "1       43422  https://www.zomato.com/bangalore/sphyre-gatewa...   \n",
       "2       16032  https://www.zomato.com/bangalore/popular-baker...   \n",
       "3       51635  https://www.zomato.com/bangalore/thai-chinese-...   \n",
       "4       23424  https://www.zomato.com/bangalore/grill-on-whee...   \n",
       "\n",
       "                                             address  \\\n",
       "0  366, Hosur Main Road, Attibele, Anekal Taluk, ...   \n",
       "1       Gateway Hotel, 66, Residency Road, Bangalore   \n",
       "2                    19, BDA Complex, HSR, Bangalore   \n",
       "3  7, Anurhh Arcade, Hoodi Road, Kodigehalli Road...   \n",
       "4  Kothanuru Main Road, Puttenahalli Road, Natara...   \n",
       "\n",
       "                       name online_order book_table    rate  votes  \\\n",
       "0         Shree Ranga Vilas           No         No   3.2/5      7   \n",
       "1    Sphyre - Gateway Hotel           No         No  3.6 /5     45   \n",
       "2            Popular Bakery           No         No   3.7/5     36   \n",
       "3  Thai & Chinese Fast Food           No         No  3.4 /5      7   \n",
       "4           Grill On Wheels           No         No     NEW      0   \n",
       "\n",
       "                            phone         location               rest_type  \\\n",
       "0                    080 29765044  Electronic City           Casual Dining   \n",
       "1  +91 9886643495\\n+91 9898780004   Residency Road                  Lounge   \n",
       "2  +91 8105834605\\r\\n080 25722488              HSR  Dessert Parlor, Bakery   \n",
       "3  +91 9206260085\\n+91 7619416923         KR Puram             Quick Bites   \n",
       "4                  +91 9901979901         JP Nagar             Quick Bites   \n",
       "\n",
       "  dish_liked                                        cuisines  \\\n",
       "0        NaN     North Indian, South Indian, Chinese, Juices   \n",
       "1        NaN                                     Finger Food   \n",
       "2        NaN                                Desserts, Bakery   \n",
       "3        NaN                                   Chinese, Thai   \n",
       "4        NaN  North Indian, Chinese, BBQ, Arabian, Fast Food   \n",
       "\n",
       "  approx_cost(for two people)  \\\n",
       "0                         500   \n",
       "1                       1,700   \n",
       "2                         600   \n",
       "3                         400   \n",
       "4                         400   \n",
       "\n",
       "                                        reviews_list menu_item  \\\n",
       "0  [('Rated 3.0', 'RATED\\n  Typical South Indian ...        []   \n",
       "1  [('Rated 1.0', 'RATED\\n  Expected a good night...        []   \n",
       "2  [('Rated 5.0', \"RATED\\n  This outlet is in HSR...        []   \n",
       "3  [('Rated 5.0', 'RATED\\n  Its Looking delicious...        []   \n",
       "4                                                 []        []   \n",
       "\n",
       "  listed_in(type)  listed_in(city)  \n",
       "0        Dine-out  Electronic City  \n",
       "1        Dine-out          MG Road  \n",
       "2        Delivery              HSR  \n",
       "3        Dine-out       Whitefield  \n",
       "4        Dine-out         JP Nagar  "
      ]
     },
     "execution_count": 2,
     "metadata": {},
     "output_type": "execute_result"
    }
   ],
   "source": [
    "df=pd.read_csv('Zomoto.CSV')\n",
    "df.head()"
   ]
  },
  {
   "cell_type": "code",
   "execution_count": 3,
   "id": "e38c8e91",
   "metadata": {},
   "outputs": [],
   "source": [
    "#removing duplicates\n",
    "duplicated_rows=df[df.duplicated()]\n",
    "duplicated_rows_index=df[df.duplicated()].index\n",
    "df.drop(duplicated_rows_index,inplace=True)"
   ]
  },
  {
   "cell_type": "code",
   "execution_count": 4,
   "id": "30f52d84",
   "metadata": {},
   "outputs": [],
   "source": [
    "#rename unamed column to restaurant_id\n",
    "df.rename(columns={'Unnamed: 0':'restaurant_id'},inplace=True)"
   ]
  },
  {
   "cell_type": "code",
   "execution_count": 5,
   "id": "f1d874b0",
   "metadata": {},
   "outputs": [
    {
     "name": "stdout",
     "output_type": "stream",
     "text": [
      "<class 'pandas.core.frame.DataFrame'>\n",
      "Int64Index: 9091 entries, 0 to 9999\n",
      "Data columns (total 18 columns):\n",
      " #   Column                       Non-Null Count  Dtype \n",
      "---  ------                       --------------  ----- \n",
      " 0   restaurant_id                9091 non-null   int64 \n",
      " 1   url                          9091 non-null   object\n",
      " 2   address                      9091 non-null   object\n",
      " 3   name                         9091 non-null   object\n",
      " 4   online_order                 9091 non-null   object\n",
      " 5   book_table                   9091 non-null   object\n",
      " 6   rate                         7743 non-null   object\n",
      " 7   votes                        9091 non-null   int64 \n",
      " 8   phone                        8881 non-null   object\n",
      " 9   location                     9088 non-null   object\n",
      " 10  rest_type                    9047 non-null   object\n",
      " 11  dish_liked                   4224 non-null   object\n",
      " 12  cuisines                     9086 non-null   object\n",
      " 13  approx_cost(for two people)  9037 non-null   object\n",
      " 14  reviews_list                 9091 non-null   object\n",
      " 15  menu_item                    9091 non-null   object\n",
      " 16  listed_in(type)              9091 non-null   object\n",
      " 17  listed_in(city)              9091 non-null   object\n",
      "dtypes: int64(2), object(16)\n",
      "memory usage: 1.3+ MB\n"
     ]
    }
   ],
   "source": [
    "df.info()"
   ]
  },
  {
   "cell_type": "markdown",
   "id": "2b548640",
   "metadata": {},
   "source": [
    "## 2.\tWhich are the top restaurant chains based on the distribution(frequency) in Bangaluru?"
   ]
  },
  {
   "cell_type": "code",
   "execution_count": 7,
   "id": "8c02ed96",
   "metadata": {},
   "outputs": [
    {
     "data": {
      "text/plain": [
       "Cafe Coffee Day              17\n",
       "McDonald's                   16\n",
       "Baskin Robbins               16\n",
       "Onesta                       15\n",
       "Keventers                    15\n",
       "Petoo                        14\n",
       "KFC                          14\n",
       "The Chocolate Heaven         14\n",
       "Corner House Ice Cream       13\n",
       "SGS Non Veg - Gundu Pulav    13\n",
       "Name: name, dtype: int64"
      ]
     },
     "execution_count": 7,
     "metadata": {},
     "output_type": "execute_result"
    }
   ],
   "source": [
    "df['name'].value_counts().head(10)"
   ]
  },
  {
   "cell_type": "markdown",
   "id": "d7cf7928",
   "metadata": {},
   "source": [
    "## 3.\tHow many restaurants do not accept online orders?"
   ]
  },
  {
   "cell_type": "code",
   "execution_count": 8,
   "id": "b5565500",
   "metadata": {},
   "outputs": [
    {
     "data": {
      "text/plain": [
       "3668"
      ]
     },
     "execution_count": 8,
     "metadata": {},
     "output_type": "execute_result"
    }
   ],
   "source": [
    "len(df[df['online_order']=='No'])"
   ]
  },
  {
   "cell_type": "markdown",
   "id": "1076dd7f",
   "metadata": {},
   "source": [
    "## 4.\tWhat is the ratio b/w restaurants that provide and do not provide table booking?\n"
   ]
  },
  {
   "cell_type": "code",
   "execution_count": 9,
   "id": "925a8a38",
   "metadata": {},
   "outputs": [
    {
     "data": {
      "text/plain": [
       "No     87.636124\n",
       "Yes    12.363876\n",
       "Name: book_table, dtype: float64"
      ]
     },
     "execution_count": 9,
     "metadata": {},
     "output_type": "execute_result"
    }
   ],
   "source": [
    "df['book_table'].value_counts(normalize=True)*100"
   ]
  },
  {
   "cell_type": "markdown",
   "id": "22a997c2",
   "metadata": {},
   "source": [
    "## 5.\tUse a boxplot on the rating column. Use User Defined Function or Lambda function or Apply function to extract the data that comes before /. Kindly exclude /.\n"
   ]
  },
  {
   "cell_type": "code",
   "execution_count": 10,
   "id": "5078ad65",
   "metadata": {},
   "outputs": [
    {
     "data": {
      "text/html": [
       "<div>\n",
       "<style scoped>\n",
       "    .dataframe tbody tr th:only-of-type {\n",
       "        vertical-align: middle;\n",
       "    }\n",
       "\n",
       "    .dataframe tbody tr th {\n",
       "        vertical-align: top;\n",
       "    }\n",
       "\n",
       "    .dataframe thead th {\n",
       "        text-align: right;\n",
       "    }\n",
       "</style>\n",
       "<table border=\"1\" class=\"dataframe\">\n",
       "  <thead>\n",
       "    <tr style=\"text-align: right;\">\n",
       "      <th></th>\n",
       "      <th>restaurant_id</th>\n",
       "      <th>url</th>\n",
       "      <th>address</th>\n",
       "      <th>name</th>\n",
       "      <th>online_order</th>\n",
       "      <th>book_table</th>\n",
       "      <th>rate</th>\n",
       "      <th>votes</th>\n",
       "      <th>phone</th>\n",
       "      <th>location</th>\n",
       "      <th>rest_type</th>\n",
       "      <th>dish_liked</th>\n",
       "      <th>cuisines</th>\n",
       "      <th>approx_cost(for two people)</th>\n",
       "      <th>reviews_list</th>\n",
       "      <th>menu_item</th>\n",
       "      <th>listed_in(type)</th>\n",
       "      <th>listed_in(city)</th>\n",
       "      <th>rating</th>\n",
       "    </tr>\n",
       "  </thead>\n",
       "  <tbody>\n",
       "    <tr>\n",
       "      <th>0</th>\n",
       "      <td>14221</td>\n",
       "      <td>https://www.zomato.com/bangalore/shree-ranga-v...</td>\n",
       "      <td>366, Hosur Main Road, Attibele, Anekal Taluk, ...</td>\n",
       "      <td>Shree Ranga Vilas</td>\n",
       "      <td>No</td>\n",
       "      <td>No</td>\n",
       "      <td>3.2/5</td>\n",
       "      <td>7</td>\n",
       "      <td>080 29765044</td>\n",
       "      <td>Electronic City</td>\n",
       "      <td>Casual Dining</td>\n",
       "      <td>NaN</td>\n",
       "      <td>North Indian, South Indian, Chinese, Juices</td>\n",
       "      <td>500</td>\n",
       "      <td>[('Rated 3.0', 'RATED\\n  Typical South Indian ...</td>\n",
       "      <td>[]</td>\n",
       "      <td>Dine-out</td>\n",
       "      <td>Electronic City</td>\n",
       "      <td>3.2</td>\n",
       "    </tr>\n",
       "    <tr>\n",
       "      <th>1</th>\n",
       "      <td>43422</td>\n",
       "      <td>https://www.zomato.com/bangalore/sphyre-gatewa...</td>\n",
       "      <td>Gateway Hotel, 66, Residency Road, Bangalore</td>\n",
       "      <td>Sphyre - Gateway Hotel</td>\n",
       "      <td>No</td>\n",
       "      <td>No</td>\n",
       "      <td>3.6 /5</td>\n",
       "      <td>45</td>\n",
       "      <td>+91 9886643495\\n+91 9898780004</td>\n",
       "      <td>Residency Road</td>\n",
       "      <td>Lounge</td>\n",
       "      <td>NaN</td>\n",
       "      <td>Finger Food</td>\n",
       "      <td>1,700</td>\n",
       "      <td>[('Rated 1.0', 'RATED\\n  Expected a good night...</td>\n",
       "      <td>[]</td>\n",
       "      <td>Dine-out</td>\n",
       "      <td>MG Road</td>\n",
       "      <td>3.6</td>\n",
       "    </tr>\n",
       "  </tbody>\n",
       "</table>\n",
       "</div>"
      ],
      "text/plain": [
       "   restaurant_id                                                url  \\\n",
       "0          14221  https://www.zomato.com/bangalore/shree-ranga-v...   \n",
       "1          43422  https://www.zomato.com/bangalore/sphyre-gatewa...   \n",
       "\n",
       "                                             address                    name  \\\n",
       "0  366, Hosur Main Road, Attibele, Anekal Taluk, ...       Shree Ranga Vilas   \n",
       "1       Gateway Hotel, 66, Residency Road, Bangalore  Sphyre - Gateway Hotel   \n",
       "\n",
       "  online_order book_table    rate  votes                           phone  \\\n",
       "0           No         No   3.2/5      7                    080 29765044   \n",
       "1           No         No  3.6 /5     45  +91 9886643495\\n+91 9898780004   \n",
       "\n",
       "          location      rest_type dish_liked  \\\n",
       "0  Electronic City  Casual Dining        NaN   \n",
       "1   Residency Road         Lounge        NaN   \n",
       "\n",
       "                                      cuisines approx_cost(for two people)  \\\n",
       "0  North Indian, South Indian, Chinese, Juices                         500   \n",
       "1                                  Finger Food                       1,700   \n",
       "\n",
       "                                        reviews_list menu_item  \\\n",
       "0  [('Rated 3.0', 'RATED\\n  Typical South Indian ...        []   \n",
       "1  [('Rated 1.0', 'RATED\\n  Expected a good night...        []   \n",
       "\n",
       "  listed_in(type)  listed_in(city)  rating  \n",
       "0        Dine-out  Electronic City     3.2  \n",
       "1        Dine-out          MG Road     3.6  "
      ]
     },
     "execution_count": 10,
     "metadata": {},
     "output_type": "execute_result"
    }
   ],
   "source": [
    "def rating (x):\n",
    "    if pd.isnull(x):\n",
    "        pass\n",
    "    elif x=='NEW':\n",
    "        return np.nan\n",
    "    elif x=='-':\n",
    "        return np.nan\n",
    "    else:\n",
    "        a=x.split('/')\n",
    "        x=a[0]\n",
    "        return x\n",
    "df['rating']=df['rate'].apply(rating).astype(float)\n",
    "df.head(2)"
   ]
  },
  {
   "cell_type": "code",
   "execution_count": 11,
   "id": "3c80e08c",
   "metadata": {},
   "outputs": [
    {
     "data": {
      "text/plain": [
       "<AxesSubplot:xlabel='rating'>"
      ]
     },
     "execution_count": 11,
     "metadata": {},
     "output_type": "execute_result"
    },
    {
     "data": {
      "image/png": "[encoded data removed]",
      "text/plain": [
       "<Figure size 432x288 with 1 Axes>"
      ]
     },
     "metadata": {
      "needs_background": "light"
     },
     "output_type": "display_data"
    }
   ],
   "source": [
    "sns.boxplot(x=df['rating'])"
   ]
  },
  {
   "cell_type": "markdown",
   "id": "2d2992cc",
   "metadata": {},
   "source": [
    "## 6.\tOnline and Offline orders restaurants percentage."
   ]
  },
  {
   "cell_type": "code",
   "execution_count": 12,
   "id": "e256d179",
   "metadata": {},
   "outputs": [
    {
     "data": {
      "text/plain": [
       "Yes    59.652403\n",
       "No     40.347597\n",
       "Name: online_order, dtype: float64"
      ]
     },
     "execution_count": 12,
     "metadata": {},
     "output_type": "execute_result"
    }
   ],
   "source": [
    "a = df['online_order'].value_counts( normalize=True)*100\n",
    "a"
   ]
  },
  {
   "cell_type": "code",
   "execution_count": 13,
   "id": "c90c0575",
   "metadata": {},
   "outputs": [
    {
     "name": "stdout",
     "output_type": "stream",
     "text": [
      " Online Percentage = 59.652403475965244 %\n",
      " Offline Percentage= 40.34759652403476 %\n"
     ]
    }
   ],
   "source": [
    "print(f''' Online Percentage = {a['Yes']} %''')\n",
    "print(f''' Offline Percentage= {a['No']} %''')"
   ]
  },
  {
   "cell_type": "markdown",
   "id": "67ffc34d",
   "metadata": {},
   "source": [
    "## 7.\t Plot the scatter plot using the Cost vs rating variable with respect to online order. Use apply the function Or other function to remove the “,”.\n"
   ]
  },
  {
   "cell_type": "code",
   "execution_count": 14,
   "id": "8e951298",
   "metadata": {},
   "outputs": [
    {
     "data": {
      "text/plain": [
       "0        500.0\n",
       "1       1700.0\n",
       "2        600.0\n",
       "3        400.0\n",
       "4        400.0\n",
       "         ...  \n",
       "9993     700.0\n",
       "9994     400.0\n",
       "9997    1000.0\n",
       "9998       NaN\n",
       "9999     300.0\n",
       "Name: cost, Length: 9091, dtype: float64"
      ]
     },
     "execution_count": 14,
     "metadata": {},
     "output_type": "execute_result"
    }
   ],
   "source": [
    "df['cost']=df['approx_cost(for two people)'].str.replace(',','').astype(float)\n",
    "df['cost']"
   ]
  },
  {
   "cell_type": "code",
   "execution_count": 15,
   "id": "0e95a0e4",
   "metadata": {},
   "outputs": [
    {
     "data": {
      "text/plain": [
       "<AxesSubplot:xlabel='cost', ylabel='rating'>"
      ]
     },
     "execution_count": 15,
     "metadata": {},
     "output_type": "execute_result"
    },
    {
     "data": {
      "image/png": "[encoded data removed]",
      "text/plain": [
       "<Figure size 432x288 with 1 Axes>"
      ]
     },
     "metadata": {
      "needs_background": "light"
     },
     "output_type": "display_data"
    }
   ],
   "source": [
    "sns.scatterplot(x=df[df['online_order']=='Yes']['cost'],y=df[df['online_order']=='Yes']['rating'])"
   ]
  },
  {
   "cell_type": "markdown",
   "id": "1fb78b0b",
   "metadata": {},
   "source": [
    "## 8.\tFind the distribution of the votes and Approx_cost using a user-defined function and for a loop.\n"
   ]
  },
  {
   "cell_type": "code",
   "execution_count": 31,
   "id": "23c2a1d5",
   "metadata": {},
   "outputs": [
    {
     "data": {
      "text/plain": [
       "<AxesSubplot:xlabel='cost', ylabel='votes'>"
      ]
     },
     "execution_count": 31,
     "metadata": {},
     "output_type": "execute_result"
    },
    {
     "data": {
      "image/png": "[encoded data removed]",
      "text/plain": [
       "<Figure size 432x288 with 1 Axes>"
      ]
     },
     "metadata": {
      "needs_background": "light"
     },
     "output_type": "display_data"
    }
   ],
   "source": [
    "sns.histplot(y=df['votes'],x=df['cost'])"
   ]
  },
  {
   "cell_type": "code",
   "execution_count": 16,
   "id": "afe1ceaf",
   "metadata": {},
   "outputs": [
    {
     "data": {
      "text/plain": [
       "<AxesSubplot:xlabel='cost', ylabel='votes'>"
      ]
     },
     "execution_count": 16,
     "metadata": {},
     "output_type": "execute_result"
    },
    {
     "data": {
      "image/png": "[encoded data removed]",
      "text/plain": [
       "<Figure size 432x288 with 1 Axes>"
      ]
     },
     "metadata": {
      "needs_background": "light"
     },
     "output_type": "display_data"
    }
   ],
   "source": [
    "sns.scatterplot(y=df['votes'],x=df['cost'])\n",
    "    "
   ]
  },
  {
   "cell_type": "markdown",
   "id": "11eb953b",
   "metadata": {},
   "source": [
    "## 9.\tWhich are the most common restaurant type in Banglore?\n"
   ]
  },
  {
   "cell_type": "code",
   "execution_count": 22,
   "id": "2a03d69e",
   "metadata": {},
   "outputs": [
    {
     "data": {
      "text/plain": [
       "Quick Bites           3296\n",
       "Casual Dining         1834\n",
       "Cafe                   644\n",
       "Delivery               455\n",
       "Dessert Parlor         409\n",
       "Takeaway, Delivery     395\n",
       "Bakery                 205\n",
       "Casual Dining, Bar     190\n",
       "Beverage Shop          140\n",
       "Bar                    120\n",
       "Name: rest_type, dtype: int64"
      ]
     },
     "execution_count": 22,
     "metadata": {},
     "output_type": "execute_result"
    }
   ],
   "source": [
    "df['rest_type'].value_counts(ascending=False).head(10)"
   ]
  },
  {
   "cell_type": "markdown",
   "id": "c356cf87",
   "metadata": {},
   "source": [
    "## 10.\tIs there any difference b/w the votes of restaurants accepting and not accepting online orders?\n"
   ]
  },
  {
   "cell_type": "code",
   "execution_count": 23,
   "id": "b0d13761",
   "metadata": {},
   "outputs": [
    {
     "data": {
      "text/plain": [
       "online_order\n",
       "No     1030499\n",
       "Yes    1635259\n",
       "Name: votes, dtype: int64"
      ]
     },
     "execution_count": 23,
     "metadata": {},
     "output_type": "execute_result"
    }
   ],
   "source": [
    "difference=df.groupby('online_order')['votes'].sum()\n",
    "difference"
   ]
  },
  {
   "cell_type": "code",
   "execution_count": 24,
   "id": "31d9b6f6",
   "metadata": {},
   "outputs": [
    {
     "name": "stdout",
     "output_type": "stream",
     "text": [
      " The difference between them is = 604760\n"
     ]
    }
   ],
   "source": [
    "print(f''' The difference between them is = {difference['Yes']-difference['No']}''')"
   ]
  },
  {
   "cell_type": "code",
   "execution_count": 25,
   "id": "9e17168e",
   "metadata": {},
   "outputs": [
    {
     "data": {
      "text/plain": [
       "<AxesSubplot:xlabel='online_order'>"
      ]
     },
     "execution_count": 25,
     "metadata": {},
     "output_type": "execute_result"
    },
    {
     "data": {
      "image/png": "[encoded data removed]",
      "text/plain": [
       "<Figure size 432x288 with 1 Axes>"
      ]
     },
     "metadata": {
      "needs_background": "light"
     },
     "output_type": "display_data"
    }
   ],
   "source": [
    "sns.barplot(x=difference.index,y=difference.values)"
   ]
  },
  {
   "cell_type": "markdown",
   "id": "0dccd726",
   "metadata": {},
   "source": [
    "## 11.\tWhich are the most common restaurant type in Banglore?\n"
   ]
  },
  {
   "cell_type": "code",
   "execution_count": 26,
   "id": "6a745852",
   "metadata": {},
   "outputs": [
    {
     "data": {
      "text/plain": [
       "Quick Bites           3296\n",
       "Casual Dining         1834\n",
       "Cafe                   644\n",
       "Delivery               455\n",
       "Dessert Parlor         409\n",
       "Takeaway, Delivery     395\n",
       "Bakery                 205\n",
       "Casual Dining, Bar     190\n",
       "Beverage Shop          140\n",
       "Bar                    120\n",
       "Name: rest_type, dtype: int64"
      ]
     },
     "execution_count": 26,
     "metadata": {},
     "output_type": "execute_result"
    }
   ],
   "source": [
    "df['rest_type'].value_counts(ascending=False).head(10)"
   ]
  },
  {
   "cell_type": "markdown",
   "id": "1c3cf49c",
   "metadata": {},
   "source": [
    "## 12.\tFind the Best budget Restaurants in any location.\n"
   ]
  },
  {
   "cell_type": "code",
   "execution_count": 27,
   "id": "e1f27e8a",
   "metadata": {},
   "outputs": [
    {
     "name": "stderr",
     "output_type": "stream",
     "text": [
      "C:\\Users\\user\\AppData\\Local\\Temp\\ipykernel_10396\\3824912130.py:2: SettingWithCopyWarning: \n",
      "A value is trying to be set on a copy of a slice from a DataFrame.\n",
      "Try using .loc[row_indexer,col_indexer] = value instead\n",
      "\n",
      "See the caveats in the documentation: https://pandas.pydata.org/pandas-docs/stable/user_guide/indexing.html#returning-a-view-versus-a-copy\n",
      "  a['rank']=a.groupby('location')['cost'].rank(method='dense')\n"
     ]
    },
    {
     "data": {
      "text/html": [
       "<div>\n",
       "<style scoped>\n",
       "    .dataframe tbody tr th:only-of-type {\n",
       "        vertical-align: middle;\n",
       "    }\n",
       "\n",
       "    .dataframe tbody tr th {\n",
       "        vertical-align: top;\n",
       "    }\n",
       "\n",
       "    .dataframe thead th {\n",
       "        text-align: right;\n",
       "    }\n",
       "</style>\n",
       "<table border=\"1\" class=\"dataframe\">\n",
       "  <thead>\n",
       "    <tr style=\"text-align: right;\">\n",
       "      <th></th>\n",
       "      <th>location</th>\n",
       "      <th>restaurant_id</th>\n",
       "      <th>name</th>\n",
       "      <th>cost</th>\n",
       "      <th>rank</th>\n",
       "    </tr>\n",
       "  </thead>\n",
       "  <tbody>\n",
       "    <tr>\n",
       "      <th>485</th>\n",
       "      <td>BTM</td>\n",
       "      <td>10649</td>\n",
       "      <td>Nellore Dosa Camp</td>\n",
       "      <td>70.0</td>\n",
       "      <td>1.0</td>\n",
       "    </tr>\n",
       "    <tr>\n",
       "      <th>7345</th>\n",
       "      <td>BTM</td>\n",
       "      <td>10544</td>\n",
       "      <td>Namaste</td>\n",
       "      <td>70.0</td>\n",
       "      <td>1.0</td>\n",
       "    </tr>\n",
       "    <tr>\n",
       "      <th>6658</th>\n",
       "      <td>Banashankari</td>\n",
       "      <td>632</td>\n",
       "      <td>Taaza Thindi</td>\n",
       "      <td>100.0</td>\n",
       "      <td>1.0</td>\n",
       "    </tr>\n",
       "    <tr>\n",
       "      <th>7791</th>\n",
       "      <td>Banashankari</td>\n",
       "      <td>3714</td>\n",
       "      <td>Foodlieious Multi Cuisine</td>\n",
       "      <td>100.0</td>\n",
       "      <td>1.0</td>\n",
       "    </tr>\n",
       "    <tr>\n",
       "      <th>2250</th>\n",
       "      <td>Banashankari</td>\n",
       "      <td>122</td>\n",
       "      <td>Coffee Bytes</td>\n",
       "      <td>100.0</td>\n",
       "      <td>1.0</td>\n",
       "    </tr>\n",
       "    <tr>\n",
       "      <th>...</th>\n",
       "      <td>...</td>\n",
       "      <td>...</td>\n",
       "      <td>...</td>\n",
       "      <td>...</td>\n",
       "      <td>...</td>\n",
       "    </tr>\n",
       "    <tr>\n",
       "      <th>214</th>\n",
       "      <td>Yelahanka</td>\n",
       "      <td>40352</td>\n",
       "      <td>Prashanth Naati Corner</td>\n",
       "      <td>300.0</td>\n",
       "      <td>1.0</td>\n",
       "    </tr>\n",
       "    <tr>\n",
       "      <th>6115</th>\n",
       "      <td>Yeshwantpur</td>\n",
       "      <td>40400</td>\n",
       "      <td>Ambur Darbar Biriyani Point</td>\n",
       "      <td>200.0</td>\n",
       "      <td>1.0</td>\n",
       "    </tr>\n",
       "    <tr>\n",
       "      <th>3395</th>\n",
       "      <td>Yeshwantpur</td>\n",
       "      <td>39661</td>\n",
       "      <td>Ambur Darbar Biriyani Point</td>\n",
       "      <td>200.0</td>\n",
       "      <td>1.0</td>\n",
       "    </tr>\n",
       "    <tr>\n",
       "      <th>5099</th>\n",
       "      <td>Yeshwantpur</td>\n",
       "      <td>44619</td>\n",
       "      <td>Om Sai Ram Food Junction</td>\n",
       "      <td>200.0</td>\n",
       "      <td>1.0</td>\n",
       "    </tr>\n",
       "    <tr>\n",
       "      <th>405</th>\n",
       "      <td>Yeshwantpur</td>\n",
       "      <td>39988</td>\n",
       "      <td>The Duke Of Juices</td>\n",
       "      <td>200.0</td>\n",
       "      <td>1.0</td>\n",
       "    </tr>\n",
       "  </tbody>\n",
       "</table>\n",
       "<p>251 rows × 5 columns</p>\n",
       "</div>"
      ],
      "text/plain": [
       "          location  restaurant_id                         name   cost  rank\n",
       "485            BTM          10649            Nellore Dosa Camp   70.0   1.0\n",
       "7345           BTM          10544                      Namaste   70.0   1.0\n",
       "6658  Banashankari            632                 Taaza Thindi  100.0   1.0\n",
       "7791  Banashankari           3714    Foodlieious Multi Cuisine  100.0   1.0\n",
       "2250  Banashankari            122                 Coffee Bytes  100.0   1.0\n",
       "...            ...            ...                          ...    ...   ...\n",
       "214      Yelahanka          40352       Prashanth Naati Corner  300.0   1.0\n",
       "6115   Yeshwantpur          40400  Ambur Darbar Biriyani Point  200.0   1.0\n",
       "3395   Yeshwantpur          39661  Ambur Darbar Biriyani Point  200.0   1.0\n",
       "5099   Yeshwantpur          44619     Om Sai Ram Food Junction  200.0   1.0\n",
       "405    Yeshwantpur          39988           The Duke Of Juices  200.0   1.0\n",
       "\n",
       "[251 rows x 5 columns]"
      ]
     },
     "execution_count": 27,
     "metadata": {},
     "output_type": "execute_result"
    }
   ],
   "source": [
    "a=df[['location','restaurant_id','name','cost']]\n",
    "a['rank']=a.groupby('location')['cost'].rank(method='dense')\n",
    "b=a[a['rank'] ==1]\n",
    "b.sort_values('location')"
   ]
  },
  {
   "cell_type": "markdown",
   "id": "0f5b3d78",
   "metadata": {},
   "source": [
    "## 13.\tTop quick bites restaurant chains in Banglore.\n"
   ]
  },
  {
   "cell_type": "code",
   "execution_count": 28,
   "id": "c490716e",
   "metadata": {},
   "outputs": [
    {
     "data": {
      "text/html": [
       "<div>\n",
       "<style scoped>\n",
       "    .dataframe tbody tr th:only-of-type {\n",
       "        vertical-align: middle;\n",
       "    }\n",
       "\n",
       "    .dataframe tbody tr th {\n",
       "        vertical-align: top;\n",
       "    }\n",
       "\n",
       "    .dataframe thead th {\n",
       "        text-align: right;\n",
       "    }\n",
       "</style>\n",
       "<table border=\"1\" class=\"dataframe\">\n",
       "  <thead>\n",
       "    <tr style=\"text-align: right;\">\n",
       "      <th></th>\n",
       "      <th>restaurant_id</th>\n",
       "      <th>name</th>\n",
       "      <th>rest_type</th>\n",
       "      <th>rating</th>\n",
       "    </tr>\n",
       "  </thead>\n",
       "  <tbody>\n",
       "    <tr>\n",
       "      <th>5605</th>\n",
       "      <td>39518</td>\n",
       "      <td>CTR</td>\n",
       "      <td>Quick Bites</td>\n",
       "      <td>4.7</td>\n",
       "    </tr>\n",
       "    <tr>\n",
       "      <th>6658</th>\n",
       "      <td>632</td>\n",
       "      <td>Taaza Thindi</td>\n",
       "      <td>Quick Bites</td>\n",
       "      <td>4.7</td>\n",
       "    </tr>\n",
       "    <tr>\n",
       "      <th>7838</th>\n",
       "      <td>6553</td>\n",
       "      <td>Chikkanna Tiffin Room</td>\n",
       "      <td>Quick Bites</td>\n",
       "      <td>4.5</td>\n",
       "    </tr>\n",
       "    <tr>\n",
       "      <th>8775</th>\n",
       "      <td>46436</td>\n",
       "      <td>Veena Stores</td>\n",
       "      <td>Quick Bites</td>\n",
       "      <td>4.5</td>\n",
       "    </tr>\n",
       "    <tr>\n",
       "      <th>2500</th>\n",
       "      <td>5846</td>\n",
       "      <td>GMT - Gelateria Montecatini Terme</td>\n",
       "      <td>Quick Bites</td>\n",
       "      <td>4.4</td>\n",
       "    </tr>\n",
       "    <tr>\n",
       "      <th>2045</th>\n",
       "      <td>19049</td>\n",
       "      <td>Le Casse CroÃÂÃÂÃÂÃÂÃÂÃÂÃÂÃÂ»te</td>\n",
       "      <td>Quick Bites</td>\n",
       "      <td>4.4</td>\n",
       "    </tr>\n",
       "    <tr>\n",
       "      <th>4894</th>\n",
       "      <td>14992</td>\n",
       "      <td>The Bundle Co.</td>\n",
       "      <td>Quick Bites</td>\n",
       "      <td>4.4</td>\n",
       "    </tr>\n",
       "    <tr>\n",
       "      <th>1075</th>\n",
       "      <td>43532</td>\n",
       "      <td>Siddiqu Kabab Center</td>\n",
       "      <td>Quick Bites</td>\n",
       "      <td>4.4</td>\n",
       "    </tr>\n",
       "    <tr>\n",
       "      <th>8750</th>\n",
       "      <td>3514</td>\n",
       "      <td>Bengaluru Cafe</td>\n",
       "      <td>Quick Bites</td>\n",
       "      <td>4.4</td>\n",
       "    </tr>\n",
       "    <tr>\n",
       "      <th>7961</th>\n",
       "      <td>12329</td>\n",
       "      <td>The Bundle Co.</td>\n",
       "      <td>Quick Bites</td>\n",
       "      <td>4.4</td>\n",
       "    </tr>\n",
       "  </tbody>\n",
       "</table>\n",
       "</div>"
      ],
      "text/plain": [
       "      restaurant_id                                            name  \\\n",
       "5605          39518                                             CTR   \n",
       "6658            632                                    Taaza Thindi   \n",
       "7838           6553                           Chikkanna Tiffin Room   \n",
       "8775          46436                                    Veena Stores   \n",
       "2500           5846               GMT - Gelateria Montecatini Terme   \n",
       "2045          19049  Le Casse CroÃÂÃÂÃÂÃÂÃÂÃÂÃÂÃÂ»te   \n",
       "4894          14992                                  The Bundle Co.   \n",
       "1075          43532                            Siddiqu Kabab Center   \n",
       "8750           3514                                  Bengaluru Cafe   \n",
       "7961          12329                                  The Bundle Co.   \n",
       "\n",
       "        rest_type  rating  \n",
       "5605  Quick Bites     4.7  \n",
       "6658  Quick Bites     4.7  \n",
       "7838  Quick Bites     4.5  \n",
       "8775  Quick Bites     4.5  \n",
       "2500  Quick Bites     4.4  \n",
       "2045  Quick Bites     4.4  \n",
       "4894  Quick Bites     4.4  \n",
       "1075  Quick Bites     4.4  \n",
       "8750  Quick Bites     4.4  \n",
       "7961  Quick Bites     4.4  "
      ]
     },
     "execution_count": 28,
     "metadata": {},
     "output_type": "execute_result"
    }
   ],
   "source": [
    "b=df[df['rest_type']=='Quick Bites']\n",
    "quick_bites=b.sort_values('rating',ascending=False)\n",
    "quick_bites[['restaurant_id','name','rest_type','rating']].head(10)"
   ]
  },
  {
   "cell_type": "markdown",
   "id": "3e13f63a",
   "metadata": {},
   "source": [
    "## 14.\tWhich are the most popular casual dining restaurant chains, Make use of any plot related to this question?\n"
   ]
  },
  {
   "cell_type": "code",
   "execution_count": 29,
   "id": "53a6378e",
   "metadata": {},
   "outputs": [
    {
     "data": {
      "text/plain": [
       "<AxesSubplot:xlabel='name', ylabel='rating'>"
      ]
     },
     "execution_count": 29,
     "metadata": {},
     "output_type": "execute_result"
    },
    {
     "data": {
      "image/png": "[encoded data removed]",
      "text/plain": [
       "<Figure size 1440x720 with 1 Axes>"
      ]
     },
     "metadata": {
      "needs_background": "light"
     },
     "output_type": "display_data"
    }
   ],
   "source": [
    "casual_dining=df[df['rest_type']=='Casual Dining'].loc[:,['name','rating']]\n",
    "# casual_dining\n",
    "casual_dining_bar=casual_dining.groupby('name').mean().sort_values(by='rating',ascending=False)\n",
    "# casual_dining_bar\n",
    "casual_dining_bar.reset_index(inplace=True)\n",
    "plt.figure(figsize=(20,10))\n",
    "sns.barplot(data=casual_dining_bar.head(10),x='name',y='rating')"
   ]
  },
  {
   "cell_type": "markdown",
   "id": "9778c97f",
   "metadata": {},
   "source": [
    "## 15.\tWhich are the most popular cuisines of Bangalore using a related plot?\n"
   ]
  },
  {
   "cell_type": "code",
   "execution_count": 32,
   "id": "e8e60b1b",
   "metadata": {},
   "outputs": [
    {
     "data": {
      "text/plain": [
       "North Indian                           474\n",
       "North Indian, Chinese                  407\n",
       "South Indian                           324\n",
       "Bakery, Desserts                       181\n",
       "Biryani                                146\n",
       "South Indian, North Indian, Chinese    132\n",
       "Desserts                               119\n",
       "Cafe                                   116\n",
       "Fast Food                              114\n",
       "Bakery                                 105\n",
       "Name: cuisines, dtype: int64"
      ]
     },
     "execution_count": 32,
     "metadata": {},
     "output_type": "execute_result"
    }
   ],
   "source": [
    "popular_cuisines=df['cuisines'].value_counts(ascending=False)\n",
    "c=popular_cuisines.head(10)\n",
    "c"
   ]
  },
  {
   "cell_type": "code",
   "execution_count": 33,
   "id": "07db4187",
   "metadata": {},
   "outputs": [
    {
     "data": {
      "text/plain": [
       "<AxesSubplot:>"
      ]
     },
     "execution_count": 33,
     "metadata": {},
     "output_type": "execute_result"
    },
    {
     "data": {
      "image/png": "[encoded data removed]",
      "text/plain": [
       "<Figure size 2160x504 with 1 Axes>"
      ]
     },
     "metadata": {
      "needs_background": "light"
     },
     "output_type": "display_data"
    }
   ],
   "source": [
    "plt.figure(figsize = (30,7))\n",
    "sns.barplot(x=c.index,y=c.values)"
   ]
  },
  {
   "cell_type": "code",
   "execution_count": null,
   "id": "9d003dfb",
   "metadata": {},
   "outputs": [],
   "source": []
  }
 ],
 "metadata": {
  "kernelspec": {
   "display_name": "Python 3 (ipykernel)",
   "language": "python",
   "name": "python3"
  },
  "language_info": {
   "codemirror_mode": {
    "name": "ipython",
    "version": 3
   },
   "file_extension": ".py",
   "mimetype": "text/x-python",
   "name": "python",
   "nbconvert_exporter": "python",
   "pygments_lexer": "ipython3",
   "version": "3.9.12"
  }
 },
 "nbformat": 4,
 "nbformat_minor": 5
}
