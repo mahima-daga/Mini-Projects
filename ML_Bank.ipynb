{
 "cells": [
  {
   "cell_type": "markdown",
   "id": "22107417",
   "metadata": {},
   "source": [
    "# Machine Learning:\n",
    "\n",
    "## About the Data:\n",
    "The dataset consists of all the basic bank details of the customers, and the \n",
    "dataset has categorical and numerical variables. It has missing values and more \n",
    "anomalies. It consists of the customer’s bank and processional details over the years \n",
    "so we can explore more of it. You have given the two data sets namely Train and Test \n",
    "datasets. Kindly use the TRAIN dataset to build and test the model. And use the Test \n",
    "dataset to submit your results.\n",
    "\n",
    "\n",
    "## Section A: Title: Classification model\n",
    "\n",
    "## Steps that are to be followed:\n",
    "## Step 1: Understand the business problem.\n",
    "\n",
    "\n",
    "## Problem Statement:\n",
    "You are working as a data scientist in a global finance company. Over the years, the \n",
    "company has collected basic bank details and gathered a lot of credit-related information. \n",
    "The management wants to build an intelligent system to segregate the people into credit \n",
    "score brackets to reduce manual efforts.\n",
    "\n",
    "\n",
    "## Objective:\n",
    "The objective of this project is to explore the data to identify the pattern that causes \n",
    "the person to have a good or bad or standard type credit score and build a machine \n",
    "learning model that should be able to predict or classify the credit score type. \n"
   ]
  },
  {
   "cell_type": "markdown",
   "id": "5aaaef09",
   "metadata": {},
   "source": [
    "## Step 2: Import all the libraries and set up all the requirements that you will be needed(optional). "
   ]
  },
  {
   "cell_type": "code",
   "execution_count": 1,
   "id": "a8efc02f",
   "metadata": {},
   "outputs": [],
   "source": [
    "import numpy as np\n",
    "import pandas as pd\n",
    "import seaborn as sns\n",
    "import matplotlib.pyplot as plt\n",
    "import scipy.stats as stats\n",
    "from sklearn.model_selection import train_test_split,GridSearchCV\n",
    "\n",
    "plt.rcParams['figure.figsize']=[12,6]\n",
    "\n",
    "import warnings\n",
    "warnings.filterwarnings('ignore')"
   ]
  },
  {
   "cell_type": "markdown",
   "id": "a295636b",
   "metadata": {},
   "source": [
    " ## Step 3: Read the train and test data sets, and check for the datatypes  "
   ]
  },
  {
   "cell_type": "code",
   "execution_count": 2,
   "id": "36d83687",
   "metadata": {},
   "outputs": [
    {
     "data": {
      "text/html": [
       "<div>\n",
       "<style scoped>\n",
       "    .dataframe tbody tr th:only-of-type {\n",
       "        vertical-align: middle;\n",
       "    }\n",
       "\n",
       "    .dataframe tbody tr th {\n",
       "        vertical-align: top;\n",
       "    }\n",
       "\n",
       "    .dataframe thead th {\n",
       "        text-align: right;\n",
       "    }\n",
       "</style>\n",
       "<table border=\"1\" class=\"dataframe\">\n",
       "  <thead>\n",
       "    <tr style=\"text-align: right;\">\n",
       "      <th></th>\n",
       "      <th>ID</th>\n",
       "      <th>Customer_ID</th>\n",
       "      <th>Month</th>\n",
       "      <th>Name</th>\n",
       "      <th>Age</th>\n",
       "      <th>SSN</th>\n",
       "      <th>Occupation</th>\n",
       "      <th>Annual_Income</th>\n",
       "      <th>Monthly_Inhand_Salary</th>\n",
       "      <th>Num_Bank_Accounts</th>\n",
       "      <th>...</th>\n",
       "      <th>Credit_Mix</th>\n",
       "      <th>Outstanding_Debt</th>\n",
       "      <th>Credit_Utilization_Ratio</th>\n",
       "      <th>Credit_History_Age</th>\n",
       "      <th>Payment_of_Min_Amount</th>\n",
       "      <th>Total_EMI_per_month</th>\n",
       "      <th>Amount_invested_monthly</th>\n",
       "      <th>Payment_Behaviour</th>\n",
       "      <th>Monthly_Balance</th>\n",
       "      <th>Credit_Score</th>\n",
       "    </tr>\n",
       "  </thead>\n",
       "  <tbody>\n",
       "    <tr>\n",
       "      <th>0</th>\n",
       "      <td>0x1602</td>\n",
       "      <td>CUS_0xd40</td>\n",
       "      <td>January</td>\n",
       "      <td>Aaron Maashoh</td>\n",
       "      <td>23</td>\n",
       "      <td>821-00-0265</td>\n",
       "      <td>Scientist</td>\n",
       "      <td>19114.12</td>\n",
       "      <td>1824.843333</td>\n",
       "      <td>3</td>\n",
       "      <td>...</td>\n",
       "      <td>_</td>\n",
       "      <td>809.98</td>\n",
       "      <td>26.822620</td>\n",
       "      <td>22 Years and 1 Months</td>\n",
       "      <td>No</td>\n",
       "      <td>49.574949</td>\n",
       "      <td>80.41529543900253</td>\n",
       "      <td>High_spent_Small_value_payments</td>\n",
       "      <td>312.49408867943663</td>\n",
       "      <td>Good</td>\n",
       "    </tr>\n",
       "    <tr>\n",
       "      <th>1</th>\n",
       "      <td>0x1603</td>\n",
       "      <td>CUS_0xd40</td>\n",
       "      <td>February</td>\n",
       "      <td>Aaron Maashoh</td>\n",
       "      <td>23</td>\n",
       "      <td>821-00-0265</td>\n",
       "      <td>Scientist</td>\n",
       "      <td>19114.12</td>\n",
       "      <td>NaN</td>\n",
       "      <td>3</td>\n",
       "      <td>...</td>\n",
       "      <td>Good</td>\n",
       "      <td>809.98</td>\n",
       "      <td>31.944960</td>\n",
       "      <td>NaN</td>\n",
       "      <td>No</td>\n",
       "      <td>49.574949</td>\n",
       "      <td>118.28022162236736</td>\n",
       "      <td>Low_spent_Large_value_payments</td>\n",
       "      <td>284.62916249607184</td>\n",
       "      <td>Good</td>\n",
       "    </tr>\n",
       "    <tr>\n",
       "      <th>2</th>\n",
       "      <td>0x1604</td>\n",
       "      <td>CUS_0xd40</td>\n",
       "      <td>March</td>\n",
       "      <td>Aaron Maashoh</td>\n",
       "      <td>-500</td>\n",
       "      <td>821-00-0265</td>\n",
       "      <td>Scientist</td>\n",
       "      <td>19114.12</td>\n",
       "      <td>NaN</td>\n",
       "      <td>3</td>\n",
       "      <td>...</td>\n",
       "      <td>Good</td>\n",
       "      <td>809.98</td>\n",
       "      <td>28.609352</td>\n",
       "      <td>22 Years and 3 Months</td>\n",
       "      <td>No</td>\n",
       "      <td>49.574949</td>\n",
       "      <td>81.699521264648</td>\n",
       "      <td>Low_spent_Medium_value_payments</td>\n",
       "      <td>331.2098628537912</td>\n",
       "      <td>Good</td>\n",
       "    </tr>\n",
       "    <tr>\n",
       "      <th>3</th>\n",
       "      <td>0x1605</td>\n",
       "      <td>CUS_0xd40</td>\n",
       "      <td>April</td>\n",
       "      <td>Aaron Maashoh</td>\n",
       "      <td>23</td>\n",
       "      <td>821-00-0265</td>\n",
       "      <td>Scientist</td>\n",
       "      <td>19114.12</td>\n",
       "      <td>NaN</td>\n",
       "      <td>3</td>\n",
       "      <td>...</td>\n",
       "      <td>Good</td>\n",
       "      <td>809.98</td>\n",
       "      <td>31.377862</td>\n",
       "      <td>22 Years and 4 Months</td>\n",
       "      <td>No</td>\n",
       "      <td>49.574949</td>\n",
       "      <td>199.4580743910713</td>\n",
       "      <td>Low_spent_Small_value_payments</td>\n",
       "      <td>223.45130972736786</td>\n",
       "      <td>Good</td>\n",
       "    </tr>\n",
       "    <tr>\n",
       "      <th>4</th>\n",
       "      <td>0x1606</td>\n",
       "      <td>CUS_0xd40</td>\n",
       "      <td>May</td>\n",
       "      <td>Aaron Maashoh</td>\n",
       "      <td>23</td>\n",
       "      <td>821-00-0265</td>\n",
       "      <td>Scientist</td>\n",
       "      <td>19114.12</td>\n",
       "      <td>1824.843333</td>\n",
       "      <td>3</td>\n",
       "      <td>...</td>\n",
       "      <td>Good</td>\n",
       "      <td>809.98</td>\n",
       "      <td>24.797347</td>\n",
       "      <td>22 Years and 5 Months</td>\n",
       "      <td>No</td>\n",
       "      <td>49.574949</td>\n",
       "      <td>41.420153086217326</td>\n",
       "      <td>High_spent_Medium_value_payments</td>\n",
       "      <td>341.48923103222177</td>\n",
       "      <td>Good</td>\n",
       "    </tr>\n",
       "  </tbody>\n",
       "</table>\n",
       "<p>5 rows × 28 columns</p>\n",
       "</div>"
      ],
      "text/plain": [
       "       ID Customer_ID     Month           Name   Age          SSN Occupation  \\\n",
       "0  0x1602   CUS_0xd40   January  Aaron Maashoh    23  821-00-0265  Scientist   \n",
       "1  0x1603   CUS_0xd40  February  Aaron Maashoh    23  821-00-0265  Scientist   \n",
       "2  0x1604   CUS_0xd40     March  Aaron Maashoh  -500  821-00-0265  Scientist   \n",
       "3  0x1605   CUS_0xd40     April  Aaron Maashoh    23  821-00-0265  Scientist   \n",
       "4  0x1606   CUS_0xd40       May  Aaron Maashoh    23  821-00-0265  Scientist   \n",
       "\n",
       "  Annual_Income  Monthly_Inhand_Salary  Num_Bank_Accounts  ...  Credit_Mix  \\\n",
       "0      19114.12            1824.843333                  3  ...           _   \n",
       "1      19114.12                    NaN                  3  ...        Good   \n",
       "2      19114.12                    NaN                  3  ...        Good   \n",
       "3      19114.12                    NaN                  3  ...        Good   \n",
       "4      19114.12            1824.843333                  3  ...        Good   \n",
       "\n",
       "   Outstanding_Debt Credit_Utilization_Ratio     Credit_History_Age  \\\n",
       "0            809.98                26.822620  22 Years and 1 Months   \n",
       "1            809.98                31.944960                    NaN   \n",
       "2            809.98                28.609352  22 Years and 3 Months   \n",
       "3            809.98                31.377862  22 Years and 4 Months   \n",
       "4            809.98                24.797347  22 Years and 5 Months   \n",
       "\n",
       "   Payment_of_Min_Amount Total_EMI_per_month Amount_invested_monthly  \\\n",
       "0                     No           49.574949       80.41529543900253   \n",
       "1                     No           49.574949      118.28022162236736   \n",
       "2                     No           49.574949         81.699521264648   \n",
       "3                     No           49.574949       199.4580743910713   \n",
       "4                     No           49.574949      41.420153086217326   \n",
       "\n",
       "                  Payment_Behaviour     Monthly_Balance Credit_Score  \n",
       "0   High_spent_Small_value_payments  312.49408867943663         Good  \n",
       "1    Low_spent_Large_value_payments  284.62916249607184         Good  \n",
       "2   Low_spent_Medium_value_payments   331.2098628537912         Good  \n",
       "3    Low_spent_Small_value_payments  223.45130972736786         Good  \n",
       "4  High_spent_Medium_value_payments  341.48923103222177         Good  \n",
       "\n",
       "[5 rows x 28 columns]"
      ]
     },
     "execution_count": 2,
     "metadata": {},
     "output_type": "execute_result"
    }
   ],
   "source": [
    "train=pd.read_csv('train.csv')\n",
    "test=pd.read_csv('test.csv')\n",
    "train.head()"
   ]
  },
  {
   "cell_type": "code",
   "execution_count": 3,
   "id": "3d2965cb",
   "metadata": {},
   "outputs": [
    {
     "data": {
      "text/html": [
       "<div>\n",
       "<style scoped>\n",
       "    .dataframe tbody tr th:only-of-type {\n",
       "        vertical-align: middle;\n",
       "    }\n",
       "\n",
       "    .dataframe tbody tr th {\n",
       "        vertical-align: top;\n",
       "    }\n",
       "\n",
       "    .dataframe thead th {\n",
       "        text-align: right;\n",
       "    }\n",
       "</style>\n",
       "<table border=\"1\" class=\"dataframe\">\n",
       "  <thead>\n",
       "    <tr style=\"text-align: right;\">\n",
       "      <th></th>\n",
       "      <th>ID</th>\n",
       "      <th>Customer_ID</th>\n",
       "      <th>Month</th>\n",
       "      <th>Name</th>\n",
       "      <th>Age</th>\n",
       "      <th>SSN</th>\n",
       "      <th>Occupation</th>\n",
       "      <th>Annual_Income</th>\n",
       "      <th>Monthly_Inhand_Salary</th>\n",
       "      <th>Num_Bank_Accounts</th>\n",
       "      <th>Num_Credit_Card</th>\n",
       "      <th>Interest_Rate</th>\n",
       "      <th>Num_of_Loan</th>\n",
       "      <th>Type_of_Loan</th>\n",
       "      <th>Delay_from_due_date</th>\n",
       "      <th>Num_of_Delayed_Payment</th>\n",
       "      <th>Changed_Credit_Limit</th>\n",
       "      <th>Num_Credit_Inquiries</th>\n",
       "      <th>Credit_Mix</th>\n",
       "      <th>Outstanding_Debt</th>\n",
       "      <th>Credit_Utilization_Ratio</th>\n",
       "      <th>Credit_History_Age</th>\n",
       "      <th>Payment_of_Min_Amount</th>\n",
       "      <th>Total_EMI_per_month</th>\n",
       "      <th>Amount_invested_monthly</th>\n",
       "      <th>Payment_Behaviour</th>\n",
       "      <th>Monthly_Balance</th>\n",
       "    </tr>\n",
       "  </thead>\n",
       "  <tbody>\n",
       "    <tr>\n",
       "      <th>0</th>\n",
       "      <td>0x160a</td>\n",
       "      <td>CUS_0xd40</td>\n",
       "      <td>September</td>\n",
       "      <td>Aaron Maashoh</td>\n",
       "      <td>23</td>\n",
       "      <td>821-00-0265</td>\n",
       "      <td>Scientist</td>\n",
       "      <td>19114.12</td>\n",
       "      <td>1824.843333</td>\n",
       "      <td>3</td>\n",
       "      <td>4</td>\n",
       "      <td>3</td>\n",
       "      <td>4</td>\n",
       "      <td>Auto Loan, Credit-Builder Loan, Personal Loan,...</td>\n",
       "      <td>3</td>\n",
       "      <td>7</td>\n",
       "      <td>11.27</td>\n",
       "      <td>2022.0</td>\n",
       "      <td>Good</td>\n",
       "      <td>809.98</td>\n",
       "      <td>35.030402</td>\n",
       "      <td>22 Years and 9 Months</td>\n",
       "      <td>No</td>\n",
       "      <td>49.574949</td>\n",
       "      <td>236.64268203272135</td>\n",
       "      <td>Low_spent_Small_value_payments</td>\n",
       "      <td>186.26670208571772</td>\n",
       "    </tr>\n",
       "    <tr>\n",
       "      <th>1</th>\n",
       "      <td>0x160b</td>\n",
       "      <td>CUS_0xd40</td>\n",
       "      <td>October</td>\n",
       "      <td>Aaron Maashoh</td>\n",
       "      <td>24</td>\n",
       "      <td>821-00-0265</td>\n",
       "      <td>Scientist</td>\n",
       "      <td>19114.12</td>\n",
       "      <td>1824.843333</td>\n",
       "      <td>3</td>\n",
       "      <td>4</td>\n",
       "      <td>3</td>\n",
       "      <td>4</td>\n",
       "      <td>Auto Loan, Credit-Builder Loan, Personal Loan,...</td>\n",
       "      <td>3</td>\n",
       "      <td>9</td>\n",
       "      <td>13.27</td>\n",
       "      <td>4.0</td>\n",
       "      <td>Good</td>\n",
       "      <td>809.98</td>\n",
       "      <td>33.053114</td>\n",
       "      <td>22 Years and 10 Months</td>\n",
       "      <td>No</td>\n",
       "      <td>49.574949</td>\n",
       "      <td>21.465380264657146</td>\n",
       "      <td>High_spent_Medium_value_payments</td>\n",
       "      <td>361.44400385378196</td>\n",
       "    </tr>\n",
       "    <tr>\n",
       "      <th>2</th>\n",
       "      <td>0x160c</td>\n",
       "      <td>CUS_0xd40</td>\n",
       "      <td>November</td>\n",
       "      <td>Aaron Maashoh</td>\n",
       "      <td>24</td>\n",
       "      <td>821-00-0265</td>\n",
       "      <td>Scientist</td>\n",
       "      <td>19114.12</td>\n",
       "      <td>1824.843333</td>\n",
       "      <td>3</td>\n",
       "      <td>4</td>\n",
       "      <td>3</td>\n",
       "      <td>4</td>\n",
       "      <td>Auto Loan, Credit-Builder Loan, Personal Loan,...</td>\n",
       "      <td>-1</td>\n",
       "      <td>4</td>\n",
       "      <td>12.27</td>\n",
       "      <td>4.0</td>\n",
       "      <td>Good</td>\n",
       "      <td>809.98</td>\n",
       "      <td>33.811894</td>\n",
       "      <td>NaN</td>\n",
       "      <td>No</td>\n",
       "      <td>49.574949</td>\n",
       "      <td>148.23393788500925</td>\n",
       "      <td>Low_spent_Medium_value_payments</td>\n",
       "      <td>264.67544623342997</td>\n",
       "    </tr>\n",
       "    <tr>\n",
       "      <th>3</th>\n",
       "      <td>0x160d</td>\n",
       "      <td>CUS_0xd40</td>\n",
       "      <td>December</td>\n",
       "      <td>Aaron Maashoh</td>\n",
       "      <td>24_</td>\n",
       "      <td>821-00-0265</td>\n",
       "      <td>Scientist</td>\n",
       "      <td>19114.12</td>\n",
       "      <td>NaN</td>\n",
       "      <td>3</td>\n",
       "      <td>4</td>\n",
       "      <td>3</td>\n",
       "      <td>4</td>\n",
       "      <td>Auto Loan, Credit-Builder Loan, Personal Loan,...</td>\n",
       "      <td>4</td>\n",
       "      <td>5</td>\n",
       "      <td>11.27</td>\n",
       "      <td>4.0</td>\n",
       "      <td>Good</td>\n",
       "      <td>809.98</td>\n",
       "      <td>32.430559</td>\n",
       "      <td>23 Years and 0 Months</td>\n",
       "      <td>No</td>\n",
       "      <td>49.574949</td>\n",
       "      <td>39.08251089460281</td>\n",
       "      <td>High_spent_Medium_value_payments</td>\n",
       "      <td>343.82687322383634</td>\n",
       "    </tr>\n",
       "    <tr>\n",
       "      <th>4</th>\n",
       "      <td>0x1616</td>\n",
       "      <td>CUS_0x21b1</td>\n",
       "      <td>September</td>\n",
       "      <td>Rick Rothackerj</td>\n",
       "      <td>28</td>\n",
       "      <td>004-07-5839</td>\n",
       "      <td>_______</td>\n",
       "      <td>34847.84</td>\n",
       "      <td>3037.986667</td>\n",
       "      <td>2</td>\n",
       "      <td>4</td>\n",
       "      <td>6</td>\n",
       "      <td>1</td>\n",
       "      <td>Credit-Builder Loan</td>\n",
       "      <td>3</td>\n",
       "      <td>1</td>\n",
       "      <td>5.42</td>\n",
       "      <td>5.0</td>\n",
       "      <td>Good</td>\n",
       "      <td>605.03</td>\n",
       "      <td>25.926822</td>\n",
       "      <td>27 Years and 3 Months</td>\n",
       "      <td>No</td>\n",
       "      <td>18.816215</td>\n",
       "      <td>39.684018417945296</td>\n",
       "      <td>High_spent_Large_value_payments</td>\n",
       "      <td>485.2984336755923</td>\n",
       "    </tr>\n",
       "  </tbody>\n",
       "</table>\n",
       "</div>"
      ],
      "text/plain": [
       "       ID Customer_ID      Month             Name  Age          SSN  \\\n",
       "0  0x160a   CUS_0xd40  September    Aaron Maashoh   23  821-00-0265   \n",
       "1  0x160b   CUS_0xd40    October    Aaron Maashoh   24  821-00-0265   \n",
       "2  0x160c   CUS_0xd40   November    Aaron Maashoh   24  821-00-0265   \n",
       "3  0x160d   CUS_0xd40   December    Aaron Maashoh  24_  821-00-0265   \n",
       "4  0x1616  CUS_0x21b1  September  Rick Rothackerj   28  004-07-5839   \n",
       "\n",
       "  Occupation Annual_Income  Monthly_Inhand_Salary  Num_Bank_Accounts  \\\n",
       "0  Scientist      19114.12            1824.843333                  3   \n",
       "1  Scientist      19114.12            1824.843333                  3   \n",
       "2  Scientist      19114.12            1824.843333                  3   \n",
       "3  Scientist      19114.12                    NaN                  3   \n",
       "4    _______      34847.84            3037.986667                  2   \n",
       "\n",
       "   Num_Credit_Card  Interest_Rate Num_of_Loan  \\\n",
       "0                4              3           4   \n",
       "1                4              3           4   \n",
       "2                4              3           4   \n",
       "3                4              3           4   \n",
       "4                4              6           1   \n",
       "\n",
       "                                        Type_of_Loan  Delay_from_due_date  \\\n",
       "0  Auto Loan, Credit-Builder Loan, Personal Loan,...                    3   \n",
       "1  Auto Loan, Credit-Builder Loan, Personal Loan,...                    3   \n",
       "2  Auto Loan, Credit-Builder Loan, Personal Loan,...                   -1   \n",
       "3  Auto Loan, Credit-Builder Loan, Personal Loan,...                    4   \n",
       "4                                Credit-Builder Loan                    3   \n",
       "\n",
       "  Num_of_Delayed_Payment Changed_Credit_Limit  Num_Credit_Inquiries  \\\n",
       "0                      7                11.27                2022.0   \n",
       "1                      9                13.27                   4.0   \n",
       "2                      4                12.27                   4.0   \n",
       "3                      5                11.27                   4.0   \n",
       "4                      1                 5.42                   5.0   \n",
       "\n",
       "  Credit_Mix Outstanding_Debt  Credit_Utilization_Ratio  \\\n",
       "0       Good           809.98                 35.030402   \n",
       "1       Good           809.98                 33.053114   \n",
       "2       Good           809.98                 33.811894   \n",
       "3       Good           809.98                 32.430559   \n",
       "4       Good           605.03                 25.926822   \n",
       "\n",
       "       Credit_History_Age Payment_of_Min_Amount  Total_EMI_per_month  \\\n",
       "0   22 Years and 9 Months                    No            49.574949   \n",
       "1  22 Years and 10 Months                    No            49.574949   \n",
       "2                     NaN                    No            49.574949   \n",
       "3   23 Years and 0 Months                    No            49.574949   \n",
       "4   27 Years and 3 Months                    No            18.816215   \n",
       "\n",
       "  Amount_invested_monthly                 Payment_Behaviour  \\\n",
       "0      236.64268203272135    Low_spent_Small_value_payments   \n",
       "1      21.465380264657146  High_spent_Medium_value_payments   \n",
       "2      148.23393788500925   Low_spent_Medium_value_payments   \n",
       "3       39.08251089460281  High_spent_Medium_value_payments   \n",
       "4      39.684018417945296   High_spent_Large_value_payments   \n",
       "\n",
       "      Monthly_Balance  \n",
       "0  186.26670208571772  \n",
       "1  361.44400385378196  \n",
       "2  264.67544623342997  \n",
       "3  343.82687322383634  \n",
       "4   485.2984336755923  "
      ]
     },
     "execution_count": 3,
     "metadata": {},
     "output_type": "execute_result"
    }
   ],
   "source": [
    "pd.set_option('display.max_columns',30)\n",
    "test.head()"
   ]
  },
  {
   "cell_type": "code",
   "execution_count": 4,
   "id": "3623539c",
   "metadata": {},
   "outputs": [
    {
     "data": {
      "text/plain": [
       "(100000, 28)"
      ]
     },
     "execution_count": 4,
     "metadata": {},
     "output_type": "execute_result"
    }
   ],
   "source": [
    "train.shape"
   ]
  },
  {
   "cell_type": "code",
   "execution_count": 5,
   "id": "1d44ae50",
   "metadata": {},
   "outputs": [
    {
     "data": {
      "text/plain": [
       "(50000, 27)"
      ]
     },
     "execution_count": 5,
     "metadata": {},
     "output_type": "execute_result"
    }
   ],
   "source": [
    "test.shape"
   ]
  },
  {
   "cell_type": "code",
   "execution_count": 6,
   "id": "e6b34f60",
   "metadata": {},
   "outputs": [
    {
     "data": {
      "text/plain": [
       "ID                           object\n",
       "Customer_ID                  object\n",
       "Month                        object\n",
       "Name                         object\n",
       "Age                          object\n",
       "SSN                          object\n",
       "Occupation                   object\n",
       "Annual_Income                object\n",
       "Monthly_Inhand_Salary       float64\n",
       "Num_Bank_Accounts             int64\n",
       "Num_Credit_Card               int64\n",
       "Interest_Rate                 int64\n",
       "Num_of_Loan                  object\n",
       "Type_of_Loan                 object\n",
       "Delay_from_due_date           int64\n",
       "Num_of_Delayed_Payment       object\n",
       "Changed_Credit_Limit         object\n",
       "Num_Credit_Inquiries        float64\n",
       "Credit_Mix                   object\n",
       "Outstanding_Debt             object\n",
       "Credit_Utilization_Ratio    float64\n",
       "Credit_History_Age           object\n",
       "Payment_of_Min_Amount        object\n",
       "Total_EMI_per_month         float64\n",
       "Amount_invested_monthly      object\n",
       "Payment_Behaviour            object\n",
       "Monthly_Balance              object\n",
       "Credit_Score                 object\n",
       "dtype: object"
      ]
     },
     "execution_count": 6,
     "metadata": {},
     "output_type": "execute_result"
    }
   ],
   "source": [
    "# check for the datatypes\n",
    "train.dtypes      # of train dataset"
   ]
  },
  {
   "cell_type": "code",
   "execution_count": 7,
   "id": "67e82941",
   "metadata": {},
   "outputs": [
    {
     "data": {
      "text/plain": [
       "ID                           object\n",
       "Customer_ID                  object\n",
       "Month                        object\n",
       "Name                         object\n",
       "Age                          object\n",
       "SSN                          object\n",
       "Occupation                   object\n",
       "Annual_Income                object\n",
       "Monthly_Inhand_Salary       float64\n",
       "Num_Bank_Accounts             int64\n",
       "Num_Credit_Card               int64\n",
       "Interest_Rate                 int64\n",
       "Num_of_Loan                  object\n",
       "Type_of_Loan                 object\n",
       "Delay_from_due_date           int64\n",
       "Num_of_Delayed_Payment       object\n",
       "Changed_Credit_Limit         object\n",
       "Num_Credit_Inquiries        float64\n",
       "Credit_Mix                   object\n",
       "Outstanding_Debt             object\n",
       "Credit_Utilization_Ratio    float64\n",
       "Credit_History_Age           object\n",
       "Payment_of_Min_Amount        object\n",
       "Total_EMI_per_month         float64\n",
       "Amount_invested_monthly      object\n",
       "Payment_Behaviour            object\n",
       "Monthly_Balance              object\n",
       "dtype: object"
      ]
     },
     "execution_count": 7,
     "metadata": {},
     "output_type": "execute_result"
    }
   ],
   "source": [
    "test.dtypes             # of test dataset"
   ]
  },
  {
   "cell_type": "markdown",
   "id": "b72fde4e",
   "metadata": {},
   "source": [
    "## Step 4: Fix the problem that the features have been wrongly identified.\n",
    " Note: One way to clean the training and testing data is to combine both train and test \n",
    "datasets. Then do the cleaning. "
   ]
  },
  {
   "cell_type": "code",
   "execution_count": 8,
   "id": "c99f2702",
   "metadata": {},
   "outputs": [
    {
     "data": {
      "text/html": [
       "<div>\n",
       "<style scoped>\n",
       "    .dataframe tbody tr th:only-of-type {\n",
       "        vertical-align: middle;\n",
       "    }\n",
       "\n",
       "    .dataframe tbody tr th {\n",
       "        vertical-align: top;\n",
       "    }\n",
       "\n",
       "    .dataframe thead th {\n",
       "        text-align: right;\n",
       "    }\n",
       "</style>\n",
       "<table border=\"1\" class=\"dataframe\">\n",
       "  <thead>\n",
       "    <tr style=\"text-align: right;\">\n",
       "      <th></th>\n",
       "      <th>ID</th>\n",
       "      <th>Customer_ID</th>\n",
       "      <th>Month</th>\n",
       "      <th>Name</th>\n",
       "      <th>Age</th>\n",
       "      <th>SSN</th>\n",
       "      <th>Occupation</th>\n",
       "      <th>Annual_Income</th>\n",
       "      <th>Monthly_Inhand_Salary</th>\n",
       "      <th>Num_Bank_Accounts</th>\n",
       "      <th>Num_Credit_Card</th>\n",
       "      <th>Interest_Rate</th>\n",
       "      <th>Num_of_Loan</th>\n",
       "      <th>Type_of_Loan</th>\n",
       "      <th>Delay_from_due_date</th>\n",
       "      <th>Num_of_Delayed_Payment</th>\n",
       "      <th>Changed_Credit_Limit</th>\n",
       "      <th>Num_Credit_Inquiries</th>\n",
       "      <th>Credit_Mix</th>\n",
       "      <th>Outstanding_Debt</th>\n",
       "      <th>Credit_Utilization_Ratio</th>\n",
       "      <th>Credit_History_Age</th>\n",
       "      <th>Payment_of_Min_Amount</th>\n",
       "      <th>Total_EMI_per_month</th>\n",
       "      <th>Amount_invested_monthly</th>\n",
       "      <th>Payment_Behaviour</th>\n",
       "      <th>Monthly_Balance</th>\n",
       "      <th>Credit_Score</th>\n",
       "    </tr>\n",
       "  </thead>\n",
       "  <tbody>\n",
       "    <tr>\n",
       "      <th>0</th>\n",
       "      <td>0x1602</td>\n",
       "      <td>CUS_0xd40</td>\n",
       "      <td>January</td>\n",
       "      <td>Aaron Maashoh</td>\n",
       "      <td>23</td>\n",
       "      <td>821-00-0265</td>\n",
       "      <td>Scientist</td>\n",
       "      <td>19114.12</td>\n",
       "      <td>1824.843333</td>\n",
       "      <td>3</td>\n",
       "      <td>4</td>\n",
       "      <td>3</td>\n",
       "      <td>4</td>\n",
       "      <td>Auto Loan, Credit-Builder Loan, Personal Loan,...</td>\n",
       "      <td>3</td>\n",
       "      <td>7</td>\n",
       "      <td>11.27</td>\n",
       "      <td>4.0</td>\n",
       "      <td>_</td>\n",
       "      <td>809.98</td>\n",
       "      <td>26.822620</td>\n",
       "      <td>22 Years and 1 Months</td>\n",
       "      <td>No</td>\n",
       "      <td>49.574949</td>\n",
       "      <td>80.41529543900253</td>\n",
       "      <td>High_spent_Small_value_payments</td>\n",
       "      <td>312.49408867943663</td>\n",
       "      <td>Good</td>\n",
       "    </tr>\n",
       "    <tr>\n",
       "      <th>1</th>\n",
       "      <td>0x1603</td>\n",
       "      <td>CUS_0xd40</td>\n",
       "      <td>February</td>\n",
       "      <td>Aaron Maashoh</td>\n",
       "      <td>23</td>\n",
       "      <td>821-00-0265</td>\n",
       "      <td>Scientist</td>\n",
       "      <td>19114.12</td>\n",
       "      <td>NaN</td>\n",
       "      <td>3</td>\n",
       "      <td>4</td>\n",
       "      <td>3</td>\n",
       "      <td>4</td>\n",
       "      <td>Auto Loan, Credit-Builder Loan, Personal Loan,...</td>\n",
       "      <td>-1</td>\n",
       "      <td>NaN</td>\n",
       "      <td>11.27</td>\n",
       "      <td>4.0</td>\n",
       "      <td>Good</td>\n",
       "      <td>809.98</td>\n",
       "      <td>31.944960</td>\n",
       "      <td>NaN</td>\n",
       "      <td>No</td>\n",
       "      <td>49.574949</td>\n",
       "      <td>118.28022162236736</td>\n",
       "      <td>Low_spent_Large_value_payments</td>\n",
       "      <td>284.62916249607184</td>\n",
       "      <td>Good</td>\n",
       "    </tr>\n",
       "    <tr>\n",
       "      <th>2</th>\n",
       "      <td>0x1604</td>\n",
       "      <td>CUS_0xd40</td>\n",
       "      <td>March</td>\n",
       "      <td>Aaron Maashoh</td>\n",
       "      <td>-500</td>\n",
       "      <td>821-00-0265</td>\n",
       "      <td>Scientist</td>\n",
       "      <td>19114.12</td>\n",
       "      <td>NaN</td>\n",
       "      <td>3</td>\n",
       "      <td>4</td>\n",
       "      <td>3</td>\n",
       "      <td>4</td>\n",
       "      <td>Auto Loan, Credit-Builder Loan, Personal Loan,...</td>\n",
       "      <td>3</td>\n",
       "      <td>7</td>\n",
       "      <td>_</td>\n",
       "      <td>4.0</td>\n",
       "      <td>Good</td>\n",
       "      <td>809.98</td>\n",
       "      <td>28.609352</td>\n",
       "      <td>22 Years and 3 Months</td>\n",
       "      <td>No</td>\n",
       "      <td>49.574949</td>\n",
       "      <td>81.699521264648</td>\n",
       "      <td>Low_spent_Medium_value_payments</td>\n",
       "      <td>331.2098628537912</td>\n",
       "      <td>Good</td>\n",
       "    </tr>\n",
       "    <tr>\n",
       "      <th>3</th>\n",
       "      <td>0x1605</td>\n",
       "      <td>CUS_0xd40</td>\n",
       "      <td>April</td>\n",
       "      <td>Aaron Maashoh</td>\n",
       "      <td>23</td>\n",
       "      <td>821-00-0265</td>\n",
       "      <td>Scientist</td>\n",
       "      <td>19114.12</td>\n",
       "      <td>NaN</td>\n",
       "      <td>3</td>\n",
       "      <td>4</td>\n",
       "      <td>3</td>\n",
       "      <td>4</td>\n",
       "      <td>Auto Loan, Credit-Builder Loan, Personal Loan,...</td>\n",
       "      <td>5</td>\n",
       "      <td>4</td>\n",
       "      <td>6.27</td>\n",
       "      <td>4.0</td>\n",
       "      <td>Good</td>\n",
       "      <td>809.98</td>\n",
       "      <td>31.377862</td>\n",
       "      <td>22 Years and 4 Months</td>\n",
       "      <td>No</td>\n",
       "      <td>49.574949</td>\n",
       "      <td>199.4580743910713</td>\n",
       "      <td>Low_spent_Small_value_payments</td>\n",
       "      <td>223.45130972736786</td>\n",
       "      <td>Good</td>\n",
       "    </tr>\n",
       "    <tr>\n",
       "      <th>4</th>\n",
       "      <td>0x1606</td>\n",
       "      <td>CUS_0xd40</td>\n",
       "      <td>May</td>\n",
       "      <td>Aaron Maashoh</td>\n",
       "      <td>23</td>\n",
       "      <td>821-00-0265</td>\n",
       "      <td>Scientist</td>\n",
       "      <td>19114.12</td>\n",
       "      <td>1824.843333</td>\n",
       "      <td>3</td>\n",
       "      <td>4</td>\n",
       "      <td>3</td>\n",
       "      <td>4</td>\n",
       "      <td>Auto Loan, Credit-Builder Loan, Personal Loan,...</td>\n",
       "      <td>6</td>\n",
       "      <td>NaN</td>\n",
       "      <td>11.27</td>\n",
       "      <td>4.0</td>\n",
       "      <td>Good</td>\n",
       "      <td>809.98</td>\n",
       "      <td>24.797347</td>\n",
       "      <td>22 Years and 5 Months</td>\n",
       "      <td>No</td>\n",
       "      <td>49.574949</td>\n",
       "      <td>41.420153086217326</td>\n",
       "      <td>High_spent_Medium_value_payments</td>\n",
       "      <td>341.48923103222177</td>\n",
       "      <td>Good</td>\n",
       "    </tr>\n",
       "  </tbody>\n",
       "</table>\n",
       "</div>"
      ],
      "text/plain": [
       "       ID Customer_ID     Month           Name   Age          SSN Occupation  \\\n",
       "0  0x1602   CUS_0xd40   January  Aaron Maashoh    23  821-00-0265  Scientist   \n",
       "1  0x1603   CUS_0xd40  February  Aaron Maashoh    23  821-00-0265  Scientist   \n",
       "2  0x1604   CUS_0xd40     March  Aaron Maashoh  -500  821-00-0265  Scientist   \n",
       "3  0x1605   CUS_0xd40     April  Aaron Maashoh    23  821-00-0265  Scientist   \n",
       "4  0x1606   CUS_0xd40       May  Aaron Maashoh    23  821-00-0265  Scientist   \n",
       "\n",
       "  Annual_Income  Monthly_Inhand_Salary  Num_Bank_Accounts  Num_Credit_Card  \\\n",
       "0      19114.12            1824.843333                  3                4   \n",
       "1      19114.12                    NaN                  3                4   \n",
       "2      19114.12                    NaN                  3                4   \n",
       "3      19114.12                    NaN                  3                4   \n",
       "4      19114.12            1824.843333                  3                4   \n",
       "\n",
       "   Interest_Rate Num_of_Loan  \\\n",
       "0              3           4   \n",
       "1              3           4   \n",
       "2              3           4   \n",
       "3              3           4   \n",
       "4              3           4   \n",
       "\n",
       "                                        Type_of_Loan  Delay_from_due_date  \\\n",
       "0  Auto Loan, Credit-Builder Loan, Personal Loan,...                    3   \n",
       "1  Auto Loan, Credit-Builder Loan, Personal Loan,...                   -1   \n",
       "2  Auto Loan, Credit-Builder Loan, Personal Loan,...                    3   \n",
       "3  Auto Loan, Credit-Builder Loan, Personal Loan,...                    5   \n",
       "4  Auto Loan, Credit-Builder Loan, Personal Loan,...                    6   \n",
       "\n",
       "  Num_of_Delayed_Payment Changed_Credit_Limit  Num_Credit_Inquiries  \\\n",
       "0                      7                11.27                   4.0   \n",
       "1                    NaN                11.27                   4.0   \n",
       "2                      7                    _                   4.0   \n",
       "3                      4                 6.27                   4.0   \n",
       "4                    NaN                11.27                   4.0   \n",
       "\n",
       "  Credit_Mix Outstanding_Debt  Credit_Utilization_Ratio  \\\n",
       "0          _           809.98                 26.822620   \n",
       "1       Good           809.98                 31.944960   \n",
       "2       Good           809.98                 28.609352   \n",
       "3       Good           809.98                 31.377862   \n",
       "4       Good           809.98                 24.797347   \n",
       "\n",
       "      Credit_History_Age Payment_of_Min_Amount  Total_EMI_per_month  \\\n",
       "0  22 Years and 1 Months                    No            49.574949   \n",
       "1                    NaN                    No            49.574949   \n",
       "2  22 Years and 3 Months                    No            49.574949   \n",
       "3  22 Years and 4 Months                    No            49.574949   \n",
       "4  22 Years and 5 Months                    No            49.574949   \n",
       "\n",
       "  Amount_invested_monthly                 Payment_Behaviour  \\\n",
       "0       80.41529543900253   High_spent_Small_value_payments   \n",
       "1      118.28022162236736    Low_spent_Large_value_payments   \n",
       "2         81.699521264648   Low_spent_Medium_value_payments   \n",
       "3       199.4580743910713    Low_spent_Small_value_payments   \n",
       "4      41.420153086217326  High_spent_Medium_value_payments   \n",
       "\n",
       "      Monthly_Balance Credit_Score  \n",
       "0  312.49408867943663         Good  \n",
       "1  284.62916249607184         Good  \n",
       "2   331.2098628537912         Good  \n",
       "3  223.45130972736786         Good  \n",
       "4  341.48923103222177         Good  "
      ]
     },
     "execution_count": 8,
     "metadata": {},
     "output_type": "execute_result"
    }
   ],
   "source": [
    "df=pd.concat([train,test],axis=0)\n",
    "df.head()"
   ]
  },
  {
   "cell_type": "code",
   "execution_count": 9,
   "id": "566774f0",
   "metadata": {},
   "outputs": [
    {
     "data": {
      "text/html": [
       "<div>\n",
       "<style scoped>\n",
       "    .dataframe tbody tr th:only-of-type {\n",
       "        vertical-align: middle;\n",
       "    }\n",
       "\n",
       "    .dataframe tbody tr th {\n",
       "        vertical-align: top;\n",
       "    }\n",
       "\n",
       "    .dataframe thead th {\n",
       "        text-align: right;\n",
       "    }\n",
       "</style>\n",
       "<table border=\"1\" class=\"dataframe\">\n",
       "  <thead>\n",
       "    <tr style=\"text-align: right;\">\n",
       "      <th></th>\n",
       "      <th>count</th>\n",
       "      <th>unique</th>\n",
       "      <th>top</th>\n",
       "      <th>freq</th>\n",
       "    </tr>\n",
       "  </thead>\n",
       "  <tbody>\n",
       "    <tr>\n",
       "      <th>ID</th>\n",
       "      <td>150000</td>\n",
       "      <td>150000</td>\n",
       "      <td>0x1602</td>\n",
       "      <td>1</td>\n",
       "    </tr>\n",
       "    <tr>\n",
       "      <th>Customer_ID</th>\n",
       "      <td>150000</td>\n",
       "      <td>12500</td>\n",
       "      <td>CUS_0xd40</td>\n",
       "      <td>12</td>\n",
       "    </tr>\n",
       "    <tr>\n",
       "      <th>Month</th>\n",
       "      <td>150000</td>\n",
       "      <td>12</td>\n",
       "      <td>January</td>\n",
       "      <td>12500</td>\n",
       "    </tr>\n",
       "    <tr>\n",
       "      <th>Name</th>\n",
       "      <td>135000</td>\n",
       "      <td>10139</td>\n",
       "      <td>Stevex</td>\n",
       "      <td>66</td>\n",
       "    </tr>\n",
       "    <tr>\n",
       "      <th>Age</th>\n",
       "      <td>150000</td>\n",
       "      <td>2524</td>\n",
       "      <td>39</td>\n",
       "      <td>4198</td>\n",
       "    </tr>\n",
       "    <tr>\n",
       "      <th>SSN</th>\n",
       "      <td>150000</td>\n",
       "      <td>12501</td>\n",
       "      <td>#F%$D@*&amp;8</td>\n",
       "      <td>8400</td>\n",
       "    </tr>\n",
       "    <tr>\n",
       "      <th>Occupation</th>\n",
       "      <td>150000</td>\n",
       "      <td>16</td>\n",
       "      <td>_______</td>\n",
       "      <td>10500</td>\n",
       "    </tr>\n",
       "    <tr>\n",
       "      <th>Annual_Income</th>\n",
       "      <td>150000</td>\n",
       "      <td>21192</td>\n",
       "      <td>36585.12</td>\n",
       "      <td>24</td>\n",
       "    </tr>\n",
       "    <tr>\n",
       "      <th>Num_of_Loan</th>\n",
       "      <td>150000</td>\n",
       "      <td>623</td>\n",
       "      <td>3</td>\n",
       "      <td>21500</td>\n",
       "    </tr>\n",
       "    <tr>\n",
       "      <th>Type_of_Loan</th>\n",
       "      <td>132888</td>\n",
       "      <td>6260</td>\n",
       "      <td>Not Specified</td>\n",
       "      <td>2112</td>\n",
       "    </tr>\n",
       "    <tr>\n",
       "      <th>Num_of_Delayed_Payment</th>\n",
       "      <td>139500</td>\n",
       "      <td>1058</td>\n",
       "      <td>19</td>\n",
       "      <td>7949</td>\n",
       "    </tr>\n",
       "    <tr>\n",
       "      <th>Changed_Credit_Limit</th>\n",
       "      <td>150000</td>\n",
       "      <td>4605</td>\n",
       "      <td>_</td>\n",
       "      <td>3150</td>\n",
       "    </tr>\n",
       "    <tr>\n",
       "      <th>Credit_Mix</th>\n",
       "      <td>150000</td>\n",
       "      <td>4</td>\n",
       "      <td>Standard</td>\n",
       "      <td>54858</td>\n",
       "    </tr>\n",
       "    <tr>\n",
       "      <th>Outstanding_Debt</th>\n",
       "      <td>150000</td>\n",
       "      <td>13622</td>\n",
       "      <td>1360.45</td>\n",
       "      <td>36</td>\n",
       "    </tr>\n",
       "    <tr>\n",
       "      <th>Credit_History_Age</th>\n",
       "      <td>136500</td>\n",
       "      <td>408</td>\n",
       "      <td>17 Years and 11 Months</td>\n",
       "      <td>628</td>\n",
       "    </tr>\n",
       "    <tr>\n",
       "      <th>Payment_of_Min_Amount</th>\n",
       "      <td>150000</td>\n",
       "      <td>3</td>\n",
       "      <td>Yes</td>\n",
       "      <td>78484</td>\n",
       "    </tr>\n",
       "    <tr>\n",
       "      <th>Amount_invested_monthly</th>\n",
       "      <td>143250</td>\n",
       "      <td>136497</td>\n",
       "      <td>__10000__</td>\n",
       "      <td>6480</td>\n",
       "    </tr>\n",
       "    <tr>\n",
       "      <th>Payment_Behaviour</th>\n",
       "      <td>150000</td>\n",
       "      <td>7</td>\n",
       "      <td>Low_spent_Small_value_payments</td>\n",
       "      <td>38207</td>\n",
       "    </tr>\n",
       "    <tr>\n",
       "      <th>Monthly_Balance</th>\n",
       "      <td>148238</td>\n",
       "      <td>148224</td>\n",
       "      <td>__-333333333333333333333333333__</td>\n",
       "      <td>15</td>\n",
       "    </tr>\n",
       "    <tr>\n",
       "      <th>Credit_Score</th>\n",
       "      <td>100000</td>\n",
       "      <td>3</td>\n",
       "      <td>Standard</td>\n",
       "      <td>53174</td>\n",
       "    </tr>\n",
       "  </tbody>\n",
       "</table>\n",
       "</div>"
      ],
      "text/plain": [
       "                          count  unique                               top  \\\n",
       "ID                       150000  150000                            0x1602   \n",
       "Customer_ID              150000   12500                         CUS_0xd40   \n",
       "Month                    150000      12                           January   \n",
       "Name                     135000   10139                            Stevex   \n",
       "Age                      150000    2524                                39   \n",
       "SSN                      150000   12501                         #F%$D@*&8   \n",
       "Occupation               150000      16                           _______   \n",
       "Annual_Income            150000   21192                          36585.12   \n",
       "Num_of_Loan              150000     623                                 3   \n",
       "Type_of_Loan             132888    6260                     Not Specified   \n",
       "Num_of_Delayed_Payment   139500    1058                                19   \n",
       "Changed_Credit_Limit     150000    4605                                 _   \n",
       "Credit_Mix               150000       4                          Standard   \n",
       "Outstanding_Debt         150000   13622                           1360.45   \n",
       "Credit_History_Age       136500     408            17 Years and 11 Months   \n",
       "Payment_of_Min_Amount    150000       3                               Yes   \n",
       "Amount_invested_monthly  143250  136497                         __10000__   \n",
       "Payment_Behaviour        150000       7    Low_spent_Small_value_payments   \n",
       "Monthly_Balance          148238  148224  __-333333333333333333333333333__   \n",
       "Credit_Score             100000       3                          Standard   \n",
       "\n",
       "                          freq  \n",
       "ID                           1  \n",
       "Customer_ID                 12  \n",
       "Month                    12500  \n",
       "Name                        66  \n",
       "Age                       4198  \n",
       "SSN                       8400  \n",
       "Occupation               10500  \n",
       "Annual_Income               24  \n",
       "Num_of_Loan              21500  \n",
       "Type_of_Loan              2112  \n",
       "Num_of_Delayed_Payment    7949  \n",
       "Changed_Credit_Limit      3150  \n",
       "Credit_Mix               54858  \n",
       "Outstanding_Debt            36  \n",
       "Credit_History_Age         628  \n",
       "Payment_of_Min_Amount    78484  \n",
       "Amount_invested_monthly   6480  \n",
       "Payment_Behaviour        38207  \n",
       "Monthly_Balance             15  \n",
       "Credit_Score             53174  "
      ]
     },
     "execution_count": 9,
     "metadata": {},
     "output_type": "execute_result"
    }
   ],
   "source": [
    "df.describe(include='object').T"
   ]
  },
  {
   "cell_type": "code",
   "execution_count": 10,
   "id": "3ad40c5e",
   "metadata": {},
   "outputs": [
    {
     "data": {
      "text/plain": [
       "array(['23', '-500', '28_', ..., '326', '7910', '5826'], dtype=object)"
      ]
     },
     "execution_count": 10,
     "metadata": {},
     "output_type": "execute_result"
    }
   ],
   "source": [
    "df.Age.unique()"
   ]
  },
  {
   "cell_type": "code",
   "execution_count": 11,
   "id": "181aa9ca",
   "metadata": {},
   "outputs": [],
   "source": [
    "# cleaning converting age column to int\n",
    "df['Age']=list(map(lambda x: x.strip('_').strip('-'),df['Age']))\n",
    "df['Age']=df['Age'].astype(int)"
   ]
  },
  {
   "cell_type": "code",
   "execution_count": 12,
   "id": "74518897",
   "metadata": {},
   "outputs": [
    {
     "data": {
      "text/plain": [
       "array(['19114.12', '34847.84', '34847.84_', ..., '14937.49_', '71025.4_',\n",
       "       '22620.79_'], dtype=object)"
      ]
     },
     "execution_count": 12,
     "metadata": {},
     "output_type": "execute_result"
    }
   ],
   "source": [
    "df.Annual_Income.unique()"
   ]
  },
  {
   "cell_type": "code",
   "execution_count": 13,
   "id": "e08dbd4c",
   "metadata": {},
   "outputs": [],
   "source": [
    "# cleaning converting Annual_Income column to float\n",
    "df['Annual_Income']=list(map(lambda x: x.strip('_'),df['Annual_Income']))\n",
    "df['Annual_Income']=df['Annual_Income'].astype(float)"
   ]
  },
  {
   "cell_type": "code",
   "execution_count": 14,
   "id": "771ea1cb",
   "metadata": {},
   "outputs": [],
   "source": [
    "# df.Num_of_Loan.unique()"
   ]
  },
  {
   "cell_type": "code",
   "execution_count": 15,
   "id": "9460a43b",
   "metadata": {},
   "outputs": [],
   "source": [
    "# cleaning converting Num_of_Loan column to int\n",
    "df['Num_of_Loan']=list(map(lambda x: x.strip('_'),df['Num_of_Loan']))\n",
    "df['Num_of_Loan']=df['Num_of_Loan'].astype(int)"
   ]
  },
  {
   "cell_type": "code",
   "execution_count": 16,
   "id": "9883efb2",
   "metadata": {},
   "outputs": [
    {
     "data": {
      "text/plain": [
       "array(['7', nan, '4', ..., '533', '332', '2034'], dtype=object)"
      ]
     },
     "execution_count": 16,
     "metadata": {},
     "output_type": "execute_result"
    }
   ],
   "source": [
    "df.Num_of_Delayed_Payment.unique()"
   ]
  },
  {
   "cell_type": "code",
   "execution_count": 17,
   "id": "e0383203",
   "metadata": {},
   "outputs": [],
   "source": [
    "# cleaning converting Num_of_Delayed_Payment column to float\n",
    "df['Num_of_Delayed_Payment']=list(map(lambda x: str(x).strip('_'),df['Num_of_Delayed_Payment']))\n",
    "df['Num_of_Delayed_Payment']=df['Num_of_Delayed_Payment'].astype(float)"
   ]
  },
  {
   "cell_type": "code",
   "execution_count": 18,
   "id": "612e0d7f",
   "metadata": {},
   "outputs": [
    {
     "data": {
      "text/plain": [
       "array(['11.27', '_', '6.27', ..., '35.53', '-4.6', '29.17'], dtype=object)"
      ]
     },
     "execution_count": 18,
     "metadata": {},
     "output_type": "execute_result"
    }
   ],
   "source": [
    "df.Changed_Credit_Limit.unique()"
   ]
  },
  {
   "cell_type": "code",
   "execution_count": 19,
   "id": "aff4f428",
   "metadata": {},
   "outputs": [],
   "source": [
    "# cleaning converting Changed_Credit_Limit column to float\n",
    "df['Changed_Credit_Limit']=list(map(lambda x: str(x).strip('-').replace('_','NAN'),df['Changed_Credit_Limit']))\n",
    "df['Changed_Credit_Limit']=df['Changed_Credit_Limit'].astype(float)"
   ]
  },
  {
   "cell_type": "code",
   "execution_count": 20,
   "id": "3ad67dae",
   "metadata": {},
   "outputs": [
    {
     "data": {
      "text/plain": [
       "array(['809.98', '605.03', '1303.01', ..., '559.18_', '3711.23_',\n",
       "       '732.11_'], dtype=object)"
      ]
     },
     "execution_count": 20,
     "metadata": {},
     "output_type": "execute_result"
    }
   ],
   "source": [
    "df.Outstanding_Debt.unique()"
   ]
  },
  {
   "cell_type": "code",
   "execution_count": 21,
   "id": "c20e0d58",
   "metadata": {},
   "outputs": [],
   "source": [
    "# cleaning converting Outstanding_Debt column to float\n",
    "df['Outstanding_Debt']=list(map(lambda x: str(x).strip('_'),df['Outstanding_Debt']))\n",
    "df['Outstanding_Debt']=df['Outstanding_Debt'].astype(float)"
   ]
  },
  {
   "cell_type": "code",
   "execution_count": 22,
   "id": "6f1072bc",
   "metadata": {},
   "outputs": [
    {
     "data": {
      "text/plain": [
       "array(['80.41529543900253', '118.28022162236736', '81.699521264648', ...,\n",
       "       '181.44299902757518', '97.59857973344877', '220.45787812168732'],\n",
       "      dtype=object)"
      ]
     },
     "execution_count": 22,
     "metadata": {},
     "output_type": "execute_result"
    }
   ],
   "source": [
    "df.Amount_invested_monthly.unique()"
   ]
  },
  {
   "cell_type": "code",
   "execution_count": 23,
   "id": "c11f88c9",
   "metadata": {},
   "outputs": [],
   "source": [
    "# cleaning converting Amount_invested_monthly column to float\n",
    "df['Amount_invested_monthly']=df['Amount_invested_monthly'].map(lambda x : str(x).strip('_'))\n",
    "df['Amount_invested_monthly']=df['Amount_invested_monthly'].astype(float)"
   ]
  },
  {
   "cell_type": "code",
   "execution_count": 24,
   "id": "003f8a6b",
   "metadata": {},
   "outputs": [
    {
     "data": {
      "text/plain": [
       "array(['312.49408867943663', '284.62916249607184', '331.2098628537912',\n",
       "       ..., '349.7263321025098', '463.23898098947717',\n",
       "       '360.37968260123847'], dtype=object)"
      ]
     },
     "execution_count": 24,
     "metadata": {},
     "output_type": "execute_result"
    }
   ],
   "source": [
    "df.Monthly_Balance.unique()"
   ]
  },
  {
   "cell_type": "code",
   "execution_count": 25,
   "id": "35f2f05c",
   "metadata": {},
   "outputs": [],
   "source": [
    "# cleaning converting Monthly_Balance column to float\n",
    "df['Monthly_Balance']=df['Monthly_Balance'].map(lambda x : str(x).strip('_'))\n",
    "# assigin the dtypes correctly\n",
    "df['Monthly_Balance']=df['Monthly_Balance'].astype(float)"
   ]
  },
  {
   "cell_type": "code",
   "execution_count": 26,
   "id": "3717680f",
   "metadata": {},
   "outputs": [
    {
     "data": {
      "text/plain": [
       "ID                           object\n",
       "Customer_ID                  object\n",
       "Month                        object\n",
       "Name                         object\n",
       "Age                           int32\n",
       "SSN                          object\n",
       "Occupation                   object\n",
       "Annual_Income               float64\n",
       "Monthly_Inhand_Salary       float64\n",
       "Num_Bank_Accounts             int64\n",
       "Num_Credit_Card               int64\n",
       "Interest_Rate                 int64\n",
       "Num_of_Loan                   int32\n",
       "Type_of_Loan                 object\n",
       "Delay_from_due_date           int64\n",
       "Num_of_Delayed_Payment      float64\n",
       "Changed_Credit_Limit        float64\n",
       "Num_Credit_Inquiries        float64\n",
       "Credit_Mix                   object\n",
       "Outstanding_Debt            float64\n",
       "Credit_Utilization_Ratio    float64\n",
       "Credit_History_Age           object\n",
       "Payment_of_Min_Amount        object\n",
       "Total_EMI_per_month         float64\n",
       "Amount_invested_monthly     float64\n",
       "Payment_Behaviour            object\n",
       "Monthly_Balance             float64\n",
       "Credit_Score                 object\n",
       "dtype: object"
      ]
     },
     "execution_count": 26,
     "metadata": {},
     "output_type": "execute_result"
    }
   ],
   "source": [
    "df.dtypes"
   ]
  },
  {
   "cell_type": "markdown",
   "id": "a4e95928",
   "metadata": {},
   "source": [
    "### i) Clean the anomalies in the categorical variables. A few anomalies have been mentioned here. \n",
    "* 1. Occupation - _______\n",
    "* 2. SSN - #F%$D@*&8\n",
    "* 3. Payment Behaviour - !@9#%8\n",
    "Replace the above anomalies by replacing them with the mode of each customer."
   ]
  },
  {
   "cell_type": "code",
   "execution_count": 27,
   "id": "6efd0e46",
   "metadata": {},
   "outputs": [],
   "source": [
    "# cleaning  Occupation column \n",
    "df['Occupation']=df['Occupation'].map(lambda x : x.replace('_______','Lawyer'))"
   ]
  },
  {
   "cell_type": "code",
   "execution_count": 28,
   "id": "deefffb4",
   "metadata": {},
   "outputs": [
    {
     "data": {
      "text/plain": [
       "array(['Scientist', 'Lawyer', 'Teacher', 'Engineer', 'Entrepreneur',\n",
       "       'Developer', 'Media_Manager', 'Doctor', 'Journalist', 'Manager',\n",
       "       'Accountant', 'Musician', 'Mechanic', 'Writer', 'Architect'],\n",
       "      dtype=object)"
      ]
     },
     "execution_count": 28,
     "metadata": {},
     "output_type": "execute_result"
    }
   ],
   "source": [
    "df.Occupation.unique()"
   ]
  },
  {
   "cell_type": "code",
   "execution_count": 29,
   "id": "55deac9d",
   "metadata": {},
   "outputs": [
    {
     "data": {
      "text/plain": [
       "#F%$D@*&8      8400\n",
       "839-25-8518      12\n",
       "467-31-3749      12\n",
       "647-50-0887      12\n",
       "167-92-5388      12\n",
       "               ... \n",
       "414-76-9835       7\n",
       "695-71-7676       7\n",
       "803-44-6289       7\n",
       "074-52-8105       7\n",
       "642-73-7670       6\n",
       "Name: SSN, Length: 12501, dtype: int64"
      ]
     },
     "execution_count": 29,
     "metadata": {},
     "output_type": "execute_result"
    }
   ],
   "source": [
    "df.SSN.value_counts().sort_values(ascending=False)"
   ]
  },
  {
   "cell_type": "code",
   "execution_count": 30,
   "id": "855bd282",
   "metadata": {},
   "outputs": [],
   "source": [
    "# cleaning  SSN column \n",
    "df['SSN']=df['SSN'].map(lambda x : x.replace('#F%$D@*&8','NAN'))"
   ]
  },
  {
   "cell_type": "code",
   "execution_count": 31,
   "id": "2f417e10",
   "metadata": {},
   "outputs": [
    {
     "data": {
      "text/plain": [
       "array(['821-00-0265', 'NAN', '004-07-5839', ..., '133-16-7738',\n",
       "       '031-35-0942', '078-73-5990'], dtype=object)"
      ]
     },
     "execution_count": 31,
     "metadata": {},
     "output_type": "execute_result"
    }
   ],
   "source": [
    "df.SSN.unique()"
   ]
  },
  {
   "cell_type": "code",
   "execution_count": 32,
   "id": "6095a0ee",
   "metadata": {},
   "outputs": [
    {
     "data": {
      "text/plain": [
       "Low_spent_Small_value_payments      38207\n",
       "High_spent_Medium_value_payments    26462\n",
       "Low_spent_Medium_value_payments     20698\n",
       "High_spent_Large_value_payments     20565\n",
       "High_spent_Small_value_payments     16991\n",
       "Low_spent_Large_value_payments      15677\n",
       "!@9#%8                              11400\n",
       "Name: Payment_Behaviour, dtype: int64"
      ]
     },
     "execution_count": 32,
     "metadata": {},
     "output_type": "execute_result"
    }
   ],
   "source": [
    "df.Payment_Behaviour.value_counts().sort_values(ascending=False)"
   ]
  },
  {
   "cell_type": "code",
   "execution_count": 33,
   "id": "a7226237",
   "metadata": {},
   "outputs": [
    {
     "data": {
      "text/plain": [
       "array(['High_spent_Small_value_payments',\n",
       "       'Low_spent_Large_value_payments',\n",
       "       'Low_spent_Medium_value_payments',\n",
       "       'Low_spent_Small_value_payments',\n",
       "       'High_spent_Medium_value_payments',\n",
       "       'High_spent_Large_value_payments'], dtype=object)"
      ]
     },
     "execution_count": 33,
     "metadata": {},
     "output_type": "execute_result"
    }
   ],
   "source": [
    "df['Payment_Behaviour']=df['Payment_Behaviour'].map(lambda x : x.replace('!@9#%8','Low_spent_Small_value_payments'))\n",
    "df.Payment_Behaviour.unique()"
   ]
  },
  {
   "cell_type": "markdown",
   "id": "98c27784",
   "metadata": {},
   "source": [
    "### ii) Clean the anomalies for numerical variables. \n",
    "Ex: \n",
    "* 1. Age has above 8000 values therefore replace the values that are above 100 or 85 with median values.\n",
    "Note: I encourage you to replace the abnormal values with customer ID-wise \n",
    "median replacement for the customers who have above and below abnormal values. \n",
    "(customer-wise median means the median value for each customer. Example: customer aaa \n",
    "Annual Income has anomaly value in one row so replace that with customer aaa Annual \n",
    "Income median value. )"
   ]
  },
  {
   "cell_type": "code",
   "execution_count": null,
   "id": "64a4fc83",
   "metadata": {},
   "outputs": [],
   "source": [
    "num_cols=df.select_dtypes(include=np.number)"
   ]
  },
  {
   "cell_type": "markdown",
   "id": "c177dd83",
   "metadata": {},
   "source": [
    "### 2. Few columns have - negative values but they are not supposed to have negative values. So replace the negative values with the median by doing a customer-wise median. "
   ]
  },
  {
   "cell_type": "code",
   "execution_count": null,
   "id": "17746ee0",
   "metadata": {},
   "outputs": [],
   "source": []
  },
  {
   "cell_type": "markdown",
   "id": "49e19060",
   "metadata": {},
   "source": [
    "### 3. Go through each variable and find out the other mistakes. And handle them"
   ]
  },
  {
   "cell_type": "code",
   "execution_count": null,
   "id": "4d38024c",
   "metadata": {},
   "outputs": [],
   "source": []
  },
  {
   "cell_type": "markdown",
   "id": "fc16f862",
   "metadata": {},
   "source": [
    "## Step 6: Convert the Credit_History_Age datatype variable into float data types by taking only year and month. Example. 22 years and 1 month → 22.1. And the Payment_of_Min_Amount column you might find some other weird values apart from Yes and No. And If you have combined the train and test datasets, then change the month's names into its number.\n"
   ]
  },
  {
   "cell_type": "code",
   "execution_count": null,
   "id": "1182fcd9",
   "metadata": {},
   "outputs": [],
   "source": []
  },
  {
   "cell_type": "markdown",
   "id": "34e52b72",
   "metadata": {},
   "source": [
    "## Step 7: Find out the missing values in the data frame and handle them in the best way possible. One way of solving this is by imputing the missing values with a customer-wise median.\n"
   ]
  },
  {
   "cell_type": "code",
   "execution_count": null,
   "id": "5ba49801",
   "metadata": {},
   "outputs": [],
   "source": []
  },
  {
   "cell_type": "markdown",
   "id": "dbdc8735",
   "metadata": {},
   "source": [
    "## Step 8: Perform Univariate, Bivariate, and Multivariate analyses to find the factors that affect the Target variables."
   ]
  },
  {
   "cell_type": "code",
   "execution_count": null,
   "id": "2a3203bb",
   "metadata": {},
   "outputs": [],
   "source": []
  },
  {
   "cell_type": "markdown",
   "id": "d34075f6",
   "metadata": {},
   "source": [
    "## Step 9: Separate your Train dataset and test data set if you combined them in the initial steps. (In this step only segregate train and test datasets based on the length of the train and test dataset)\n",
    "Note: Your given test dataset is only for validating and submitting the results. Only \n",
    "Use the Train dataset to perform the train test split in the coming steps. Do not use Test to \n",
    "build the model and test the model, Since there is no target variable in the test data set you \n",
    "can not test the model performance with the test data set. Thus we only consider the \n",
    "training dataset and split that into X_train and X_test.\n"
   ]
  },
  {
   "cell_type": "code",
   "execution_count": null,
   "id": "e2313948",
   "metadata": {},
   "outputs": [],
   "source": []
  },
  {
   "cell_type": "markdown",
   "id": "cc1c6741",
   "metadata": {},
   "source": [
    "## Step 11: Perform the Statistical analysis to prove where the independent variables have an effect on the Target variables.\n",
    " Example: Few statistical analyses:\n",
    "* 1. Check whether the Annual income across all the target variables is significantly the same. Let's fix the alpha is 0.05. Make sure the data is normal and the variance is equal. If not use a Non-parametric statistical test."
   ]
  },
  {
   "cell_type": "code",
   "execution_count": null,
   "id": "a892d4ed",
   "metadata": {},
   "outputs": [],
   "source": []
  },
  {
   "cell_type": "markdown",
   "id": "31173669",
   "metadata": {},
   "source": [
    "* 2. Check if there is an independence of the Occupation and Credit Score. The significant level is 0.05."
   ]
  },
  {
   "cell_type": "code",
   "execution_count": null,
   "id": "9c3e41b2",
   "metadata": {},
   "outputs": [],
   "source": []
  },
  {
   "cell_type": "markdown",
   "id": "ffcc48f2",
   "metadata": {},
   "source": [
    "* 3. Check if there is a relationship between the Payment Behaviour and Credit Score."
   ]
  },
  {
   "cell_type": "code",
   "execution_count": null,
   "id": "d5dbeb0e",
   "metadata": {},
   "outputs": [],
   "source": []
  },
  {
   "cell_type": "markdown",
   "id": "1c42c023",
   "metadata": {},
   "source": [
    "* 4. Check Statistically that the Credit_Utilization_Ratio median values are significantly not different across the target variable classes."
   ]
  },
  {
   "cell_type": "markdown",
   "id": "24b990e8",
   "metadata": {},
   "source": [
    "## Step 12: Encode the categorical variables with related technologies. Change the target variable classes as (poor to 0, Standard to 1, Good to 2)."
   ]
  },
  {
   "cell_type": "code",
   "execution_count": null,
   "id": "ce616b0c",
   "metadata": {},
   "outputs": [],
   "source": []
  },
  {
   "cell_type": "markdown",
   "id": "4c4c5371",
   "metadata": {},
   "source": [
    "## Step 13: Scale the numerical features (optional)."
   ]
  },
  {
   "cell_type": "code",
   "execution_count": null,
   "id": "ff3037d1",
   "metadata": {},
   "outputs": [],
   "source": []
  },
  {
   "cell_type": "markdown",
   "id": "2960ed62",
   "metadata": {},
   "source": [
    "## Step 14: Use a train test split on the dataset called a train.."
   ]
  },
  {
   "cell_type": "code",
   "execution_count": null,
   "id": "d6e3f533",
   "metadata": {},
   "outputs": [],
   "source": []
  },
  {
   "cell_type": "markdown",
   "id": "39746f3d",
   "metadata": {},
   "source": [
    "## Step 15: Build the base model. Observe how the model is performing."
   ]
  },
  {
   "cell_type": "code",
   "execution_count": null,
   "id": "93fa2ac8",
   "metadata": {},
   "outputs": [],
   "source": []
  },
  {
   "cell_type": "markdown",
   "id": "879f6e69",
   "metadata": {},
   "source": [
    "## Step 16: Build other models and choose the model which gives the best results."
   ]
  },
  {
   "cell_type": "code",
   "execution_count": null,
   "id": "0db54dac",
   "metadata": {},
   "outputs": [],
   "source": []
  },
  {
   "cell_type": "markdown",
   "id": "ec1765a5",
   "metadata": {},
   "source": [
    "## Step 17: Perform Feature selection using different feature selection methods."
   ]
  },
  {
   "cell_type": "code",
   "execution_count": null,
   "id": "df5eeb21",
   "metadata": {},
   "outputs": [],
   "source": []
  },
  {
   "cell_type": "markdown",
   "id": "37a37afb",
   "metadata": {},
   "source": [
    "## Step 18: Tune the final model using Grid search CV or Randomized CV or any other methods."
   ]
  },
  {
   "cell_type": "code",
   "execution_count": null,
   "id": "91649435",
   "metadata": {},
   "outputs": [],
   "source": []
  },
  {
   "cell_type": "markdown",
   "id": "bc3bf9b4",
   "metadata": {},
   "source": [
    "## Step 19: Perform Cross-validation for the final model by setting the best parameters."
   ]
  },
  {
   "cell_type": "code",
   "execution_count": null,
   "id": "c455ca85",
   "metadata": {},
   "outputs": [],
   "source": []
  },
  {
   "cell_type": "markdown",
   "id": "e5586669",
   "metadata": {},
   "source": [
    "## Step 20: Use the validation data set called test dataset to get predict the target variables once it is done create a data frame with ID and predicted values. "
   ]
  },
  {
   "cell_type": "code",
   "execution_count": null,
   "id": "387650f1",
   "metadata": {},
   "outputs": [],
   "source": []
  },
  {
   "cell_type": "markdown",
   "id": "c9894195",
   "metadata": {},
   "source": [
    "## Step 21: Write down the overall business insight. "
   ]
  },
  {
   "cell_type": "code",
   "execution_count": null,
   "id": "18385dfd",
   "metadata": {},
   "outputs": [],
   "source": []
  },
  {
   "cell_type": "markdown",
   "id": "31e717ba",
   "metadata": {},
   "source": [
    "## Step 22: Save the dataset that you created in step 22."
   ]
  },
  {
   "cell_type": "code",
   "execution_count": null,
   "id": "07f83b44",
   "metadata": {},
   "outputs": [],
   "source": []
  },
  {
   "cell_type": "markdown",
   "id": "68b586ed",
   "metadata": {},
   "source": [
    "## Step 23. Submit the solution file and output dataset"
   ]
  },
  {
   "cell_type": "code",
   "execution_count": null,
   "id": "283d4644",
   "metadata": {},
   "outputs": [],
   "source": []
  }
 ],
 "metadata": {
  "kernelspec": {
   "display_name": "Python 3 (ipykernel)",
   "language": "python",
   "name": "python3"
  },
  "language_info": {
   "codemirror_mode": {
    "name": "ipython",
    "version": 3
   },
   "file_extension": ".py",
   "mimetype": "text/x-python",
   "name": "python",
   "nbconvert_exporter": "python",
   "pygments_lexer": "ipython3",
   "version": "3.9.12"
  }
 },
 "nbformat": 4,
 "nbformat_minor": 5
}
