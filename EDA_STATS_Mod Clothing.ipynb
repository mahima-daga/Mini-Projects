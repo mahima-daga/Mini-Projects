{
 "cells": [
  {
   "cell_type": "markdown",
   "id": "8ac689fa",
   "metadata": {},
   "source": [
    "# EDA and Statistical Analysis of Mod Clothing Dataset"
   ]
  },
  {
   "cell_type": "markdown",
   "id": "3ff140eb",
   "metadata": {},
   "source": [
    "## PART-A ( Concept Based)--25 points"
   ]
  },
  {
   "cell_type": "code",
   "execution_count": 12,
   "id": "3039a023",
   "metadata": {},
   "outputs": [],
   "source": [
    "import numpy as np\n",
    "import pandas as pd\n",
    "import seaborn as sns\n",
    "import matplotlib.pyplot as plt\n",
    "import random\n",
    "from warnings import filterwarnings\n",
    "filterwarnings('ignore')\n",
    "from scipy import stats\n",
    "from scipy.stats import randint\n",
    "from scipy.stats import skewnorm\n",
    "from math import factorial\n",
    "import statsmodels.api as sm\n",
    "from scipy.stats import chi2_contingency\n",
    "from scipy.stats import chi2\n",
    "from scipy.stats import chisquare"
   ]
  },
  {
   "cell_type": "code",
   "execution_count": 13,
   "id": "9771815a",
   "metadata": {},
   "outputs": [
    {
     "data": {
      "text/html": [
       "<div>\n",
       "<style scoped>\n",
       "    .dataframe tbody tr th:only-of-type {\n",
       "        vertical-align: middle;\n",
       "    }\n",
       "\n",
       "    .dataframe tbody tr th {\n",
       "        vertical-align: top;\n",
       "    }\n",
       "\n",
       "    .dataframe thead th {\n",
       "        text-align: right;\n",
       "    }\n",
       "</style>\n",
       "<table border=\"1\" class=\"dataframe\">\n",
       "  <thead>\n",
       "    <tr style=\"text-align: right;\">\n",
       "      <th></th>\n",
       "      <th>price</th>\n",
       "    </tr>\n",
       "  </thead>\n",
       "  <tbody>\n",
       "    <tr>\n",
       "      <th>0</th>\n",
       "      <td>23</td>\n",
       "    </tr>\n",
       "    <tr>\n",
       "      <th>1</th>\n",
       "      <td>30</td>\n",
       "    </tr>\n",
       "    <tr>\n",
       "      <th>2</th>\n",
       "      <td>20</td>\n",
       "    </tr>\n",
       "    <tr>\n",
       "      <th>3</th>\n",
       "      <td>27</td>\n",
       "    </tr>\n",
       "    <tr>\n",
       "      <th>4</th>\n",
       "      <td>44</td>\n",
       "    </tr>\n",
       "  </tbody>\n",
       "</table>\n",
       "</div>"
      ],
      "text/plain": [
       "   price\n",
       "0     23\n",
       "1     30\n",
       "2     20\n",
       "3     27\n",
       "4     44"
      ]
     },
     "execution_count": 13,
     "metadata": {},
     "output_type": "execute_result"
    }
   ],
   "source": [
    "l=[23, 30, 20, 27, 44, 26, 35, 20, 29, 29,25, 15, 18, 27, 19, 22, 12, 26, 34, 15,27 ,35, 26, 43, 35, 14, 24, 12, 23, 31,\n",
    "40, 35, 38, 57, 22, 42, 24, 21, 27, 33]\n",
    "df=pd.DataFrame({'price':l})\n",
    "df.head()"
   ]
  },
  {
   "cell_type": "markdown",
   "id": "eef292e7",
   "metadata": {},
   "source": [
    "## Q1. Compute the mean, median and the mode of the data\n"
   ]
  },
  {
   "cell_type": "code",
   "execution_count": 14,
   "id": "7737a939",
   "metadata": {},
   "outputs": [
    {
     "name": "stdout",
     "output_type": "stream",
     "text": [
      "The mean of price is  27.625\n",
      "The median of price is  26.5\n",
      "The mode of price is\n",
      " 0    27\n",
      "1    35\n",
      "Name: price, dtype: int64\n"
     ]
    }
   ],
   "source": [
    "mean=df['price'].mean()\n",
    "median=df['price'].median()\n",
    "mode=df['price'].mode()\n",
    "\n",
    "print('The mean of price is ',mean)\n",
    "print('The median of price is ',median)\n",
    "print('The mode of price is\\n',mode)"
   ]
  },
  {
   "cell_type": "markdown",
   "id": "b634696d",
   "metadata": {},
   "source": [
    "## Q2. Compute the range , variance and standard deviation of the data"
   ]
  },
  {
   "cell_type": "code",
   "execution_count": 15,
   "id": "4bd04ceb",
   "metadata": {},
   "outputs": [
    {
     "name": "stdout",
     "output_type": "stream",
     "text": [
      "The range is  45\n",
      "The variance is  92.59935897435898\n",
      "The standard deviation is  9.622856071580774\n"
     ]
    }
   ],
   "source": [
    "Ran=df['price'].max()-df['price'].min()\n",
    "variance=df['price'].var()\n",
    "std=df['price'].std()\n",
    "\n",
    "print('The range is ',Ran)\n",
    "print('The variance is ',variance)\n",
    "print('The standard deviation is ',std)"
   ]
  },
  {
   "cell_type": "markdown",
   "id": "87ed6541",
   "metadata": {},
   "source": [
    "## Q3.Find the mean deviation for the data."
   ]
  },
  {
   "cell_type": "code",
   "execution_count": 16,
   "id": "9faaafee",
   "metadata": {},
   "outputs": [
    {
     "name": "stdout",
     "output_type": "stream",
     "text": [
      "The Mean Deviation is  7.400000000000001\n"
     ]
    }
   ],
   "source": [
    "# mean deviation\n",
    "n=len(df)\n",
    "x_bar=np.mean(df['price'])\n",
    "md= sum(np.abs(df['price']-x_bar)/n)\n",
    "print('The Mean Deviation is ',md)"
   ]
  },
  {
   "cell_type": "markdown",
   "id": "a310ea70",
   "metadata": {},
   "source": [
    "## Q4. Calculate the Pearson coefficient of skewness and comment on the skewness of the data\n"
   ]
  },
  {
   "cell_type": "code",
   "execution_count": 17,
   "id": "438452fa",
   "metadata": {},
   "outputs": [
    {
     "name": "stdout",
     "output_type": "stream",
     "text": [
      "The skewness of the data is  0.3507274737245009\n"
     ]
    }
   ],
   "source": [
    "skew=(3*(mean-median))/std\n",
    "print('The skewness of the data is ',skew)"
   ]
  },
  {
   "cell_type": "raw",
   "id": "19a43490",
   "metadata": {},
   "source": [
    "The Pearson coefficient of skewness of price is 0.350 \n",
    "Hence when coefficient is near zero its distribution is nearly symmentric."
   ]
  },
  {
   "cell_type": "markdown",
   "id": "81e4cbf5",
   "metadata": {},
   "source": [
    "## Q5. Count the number of data values that fall within two standard deviations ofthe mean. Compare this with the answer from Chebyshev’s Theorem."
   ]
  },
  {
   "cell_type": "code",
   "execution_count": 18,
   "id": "7e96193f",
   "metadata": {},
   "outputs": [
    {
     "name": "stdout",
     "output_type": "stream",
     "text": [
      "39 observations fall between 2 standard deviations\n"
     ]
    }
   ],
   "source": [
    "left_standard_deviation=mean-(2*std)\n",
    "right_standard_deviation=mean+(2*std)\n",
    "values_fall=df[(df['price']>=left_standard_deviation)&(df['price']<=right_standard_deviation)]\n",
    "count=len(values_fall)\n",
    "print(count,'observations fall between 2 standard deviations')"
   ]
  },
  {
   "cell_type": "code",
   "execution_count": 19,
   "id": "b8c136e6",
   "metadata": {},
   "outputs": [
    {
     "name": "stdout",
     "output_type": "stream",
     "text": [
      "97.5 % falls in 2 standard deviation\n"
     ]
    }
   ],
   "source": [
    "percentage=(count/len(df))*100\n",
    "print(percentage,'% falls in 2 standard deviation')"
   ]
  },
  {
   "cell_type": "raw",
   "id": "dc980ee8",
   "metadata": {},
   "source": [
    "According to Chebyshev's Theorem, atleast 75% of the data lies between 2 standard deviations.And we have 97.5 % of the data values that fall within two standard deviations of the mean"
   ]
  },
  {
   "cell_type": "markdown",
   "id": "42947f44",
   "metadata": {},
   "source": [
    "\n",
    "## Q6. Find the three quartiles and the interquartile range (IQR)."
   ]
  },
  {
   "cell_type": "code",
   "execution_count": 20,
   "id": "da7f8621",
   "metadata": {},
   "outputs": [
    {
     "name": "stdout",
     "output_type": "stream",
     "text": [
      "The First Quantile  is  21.75\n",
      "The Second Quantile is  26.5\n",
      "The Third Quantile  is  34.25\n",
      "The Inter Quantile Range is  12.5\n"
     ]
    }
   ],
   "source": [
    "Q1=df['price'].quantile(0.25)\n",
    "Q2=df['price'].quantile(0.50)\n",
    "Q3=df['price'].quantile(0.75)\n",
    "IQR=Q3-Q1\n",
    "print('The First Quantile  is ',Q1)\n",
    "print('The Second Quantile is ',Q2)\n",
    "print('The Third Quantile  is ',Q3)\n",
    "print('The Inter Quantile Range is ',IQR)"
   ]
  },
  {
   "cell_type": "markdown",
   "id": "e4607fcb",
   "metadata": {},
   "source": [
    "## Q7. Are there any outliers in the data set ?"
   ]
  },
  {
   "cell_type": "code",
   "execution_count": 21,
   "id": "2553e7ee",
   "metadata": {},
   "outputs": [
    {
     "data": {
      "text/html": [
       "<div>\n",
       "<style scoped>\n",
       "    .dataframe tbody tr th:only-of-type {\n",
       "        vertical-align: middle;\n",
       "    }\n",
       "\n",
       "    .dataframe tbody tr th {\n",
       "        vertical-align: top;\n",
       "    }\n",
       "\n",
       "    .dataframe thead th {\n",
       "        text-align: right;\n",
       "    }\n",
       "</style>\n",
       "<table border=\"1\" class=\"dataframe\">\n",
       "  <thead>\n",
       "    <tr style=\"text-align: right;\">\n",
       "      <th></th>\n",
       "      <th>price</th>\n",
       "    </tr>\n",
       "  </thead>\n",
       "  <tbody>\n",
       "    <tr>\n",
       "      <th>33</th>\n",
       "      <td>57</td>\n",
       "    </tr>\n",
       "  </tbody>\n",
       "</table>\n",
       "</div>"
      ],
      "text/plain": [
       "    price\n",
       "33     57"
      ]
     },
     "execution_count": 21,
     "metadata": {},
     "output_type": "execute_result"
    }
   ],
   "source": [
    "LL=Q1-(1.5*IQR)\n",
    "UL=Q3+(1.5*IQR)\n",
    "df[(df['price']<=LL)|(df['price']>=UL)]"
   ]
  },
  {
   "cell_type": "markdown",
   "id": "4c1ba8c5",
   "metadata": {},
   "source": [
    "There is one outlier"
   ]
  },
  {
   "cell_type": "markdown",
   "id": "e69027b8",
   "metadata": {},
   "source": [
    "## Q8. Draw a boxplot of the dataset to confirm ."
   ]
  },
  {
   "cell_type": "code",
   "execution_count": 22,
   "id": "665d6381",
   "metadata": {},
   "outputs": [
    {
     "data": {
      "image/png": "[encoded data removed]",
      "text/plain": [
       "<Figure size 432x288 with 1 Axes>"
      ]
     },
     "metadata": {
      "needs_background": "light"
     },
     "output_type": "display_data"
    }
   ],
   "source": [
    "sns.boxplot(data=df,x='price')\n",
    "plt.show()"
   ]
  },
  {
   "cell_type": "markdown",
   "id": "a6637031",
   "metadata": {},
   "source": [
    "## Q9. Find the percentile rank of the datapoint 25.\n"
   ]
  },
  {
   "cell_type": "code",
   "execution_count": 23,
   "id": "12e619bf",
   "metadata": {},
   "outputs": [
    {
     "data": {
      "text/html": [
       "<div>\n",
       "<style scoped>\n",
       "    .dataframe tbody tr th:only-of-type {\n",
       "        vertical-align: middle;\n",
       "    }\n",
       "\n",
       "    .dataframe tbody tr th {\n",
       "        vertical-align: top;\n",
       "    }\n",
       "\n",
       "    .dataframe thead th {\n",
       "        text-align: right;\n",
       "    }\n",
       "</style>\n",
       "<table border=\"1\" class=\"dataframe\">\n",
       "  <thead>\n",
       "    <tr style=\"text-align: right;\">\n",
       "      <th></th>\n",
       "      <th>price</th>\n",
       "      <th>rank</th>\n",
       "    </tr>\n",
       "  </thead>\n",
       "  <tbody>\n",
       "    <tr>\n",
       "      <th>10</th>\n",
       "      <td>25</td>\n",
       "      <td>42.5</td>\n",
       "    </tr>\n",
       "  </tbody>\n",
       "</table>\n",
       "</div>"
      ],
      "text/plain": [
       "    price  rank\n",
       "10     25  42.5"
      ]
     },
     "execution_count": 23,
     "metadata": {},
     "output_type": "execute_result"
    }
   ],
   "source": [
    "df['rank']=df['price'].rank(pct=True)*100\n",
    "df[df['price']==25]"
   ]
  },
  {
   "cell_type": "markdown",
   "id": "2002030d",
   "metadata": {},
   "source": [
    "## Q10. What is the probability that a shirt cost is above 25 dollars?"
   ]
  },
  {
   "cell_type": "code",
   "execution_count": 24,
   "id": "eb6ad788",
   "metadata": {},
   "outputs": [
    {
     "name": "stdout",
     "output_type": "stream",
     "text": [
      "The probability that a shirt cost is above 25 dollars is  0.575\n"
     ]
    }
   ],
   "source": [
    "favorable_outcomes=len(df[df['price']>25])\n",
    "total_outcomes=len(df)\n",
    "probability=favorable_outcomes/total_outcomes\n",
    "print(\"The probability that a shirt cost is above 25 dollars is \",probability)"
   ]
  },
  {
   "cell_type": "markdown",
   "id": "15007535",
   "metadata": {},
   "source": [
    "## Q11. Create a frequency distribution for the data and visualize it appropriately"
   ]
  },
  {
   "cell_type": "code",
   "execution_count": 25,
   "id": "8d0cef5b",
   "metadata": {},
   "outputs": [
    {
     "data": {
      "image/png": "[encoded data removed]",
      "text/plain": [
       "<Figure size 432x288 with 1 Axes>"
      ]
     },
     "metadata": {
      "needs_background": "light"
     },
     "output_type": "display_data"
    }
   ],
   "source": [
    "sns.histplot(data=df,x='price')\n",
    "plt.show()"
   ]
  },
  {
   "cell_type": "raw",
   "id": "64c26bb0",
   "metadata": {},
   "source": [
    "Most number of shirts ranges approximately from $20-$30"
   ]
  },
  {
   "cell_type": "markdown",
   "id": "2c3522f7",
   "metadata": {},
   "source": [
    "## Q12. Create a probability distribution of the data and visualize it appropriately. "
   ]
  },
  {
   "cell_type": "code",
   "execution_count": 26,
   "id": "c3061ca8",
   "metadata": {},
   "outputs": [
    {
     "data": {
      "image/png": "[encoded data removed]",
      "text/plain": [
       "<Figure size 432x288 with 1 Axes>"
      ]
     },
     "metadata": {
      "needs_background": "light"
     },
     "output_type": "display_data"
    }
   ],
   "source": [
    "sns.kdeplot(data=df,x='price',cumulative=True)\n",
    "plt.show()"
   ]
  },
  {
   "cell_type": "markdown",
   "id": "9b11061f",
   "metadata": {},
   "source": [
    "## Q13. What is the shape of the distribution of this dataset? Create an appropriate graph to determine that. Take 100 random samples with replacement from this dataset of size 5 each. Create a sampling distribution of the mean shirt prices. Compare with other sampling distributions of sample size 10, 15, 20, 25, 30. State your observations. Does it corroborate the Central Limit Theorem?\n"
   ]
  },
  {
   "cell_type": "code",
   "execution_count": 27,
   "id": "67597cb5",
   "metadata": {},
   "outputs": [
    {
     "data": {
      "text/plain": [
       "(40, 2)"
      ]
     },
     "execution_count": 27,
     "metadata": {},
     "output_type": "execute_result"
    }
   ],
   "source": [
    "df.shape"
   ]
  },
  {
   "cell_type": "code",
   "execution_count": 28,
   "id": "9eb8e0f2",
   "metadata": {},
   "outputs": [
    {
     "data": {
      "image/png": "[encoded data removed]",
      "text/plain": [
       "<Figure size 432x288 with 1 Axes>"
      ]
     },
     "metadata": {
      "needs_background": "light"
     },
     "output_type": "display_data"
    }
   ],
   "source": [
    "sns.histplot(data=df,x='price')\n",
    "plt.show()"
   ]
  },
  {
   "cell_type": "code",
   "execution_count": 32,
   "id": "74b65b44",
   "metadata": {},
   "outputs": [],
   "source": [
    "def sampling_distribution(x,no_of_sample,sample_size):\n",
    "    sample_mean_list=[]\n",
    "    for i in range(no_of_sample):\n",
    "        sample=np.random.choice(x,sample_size)\n",
    "        sample_mean=np.mean(sample)\n",
    "        sample_mean_list.append(sample_mean)\n",
    "    return sample_mean_list    "
   ]
  },
  {
   "cell_type": "code",
   "execution_count": 33,
   "id": "f8b0e177",
   "metadata": {},
   "outputs": [
    {
     "data": {
      "image/png": "[encoded data removed]",
      "text/plain": [
       "<Figure size 1296x648 with 6 Axes>"
      ]
     },
     "metadata": {
      "needs_background": "light"
     },
     "output_type": "display_data"
    }
   ],
   "source": [
    "plt.figure(figsize=(18,9))\n",
    "plt.subplot(2,3,1)\n",
    "sns.kdeplot(x=sampling_distribution(df['price'],100,5))\n",
    "plt.title('Sample size = 5')\n",
    "plt.subplot(2,3,2)\n",
    "sns.kdeplot(x=sampling_distribution(df['price'],100,10))\n",
    "plt.title(\"Sample Size = 10\")\n",
    "plt.subplot(2,3,3)\n",
    "sns.kdeplot(x=sampling_distribution(df['price'],100,15))\n",
    "plt.title(\"Sample Size = 15\")\n",
    "plt.subplot(2,3,4)\n",
    "sns.kdeplot(x=sampling_distribution(df['price'],100,20))\n",
    "plt.title(\"Sample Size = 20\")\n",
    "plt.subplot(2,3,5)\n",
    "sns.kdeplot(x=sampling_distribution(df['price'],100,25))\n",
    "plt.title(\"Sample Size = 25\")\n",
    "plt.subplot(2,3,6)\n",
    "sns.kdeplot(x=sampling_distribution(df['price'],100,30))\n",
    "plt.title(\"Sample Size = 30\")\n",
    "plt.show()"
   ]
  },
  {
   "cell_type": "markdown",
   "id": "c18907a0",
   "metadata": {},
   "source": [
    "## Q14. Treat this dataset as a binomial distribution where p is the probability that a shirt costs above 25 dollars. What is the probability that out of a random sample of 10 shirts 7 are costing more than 25 dollars?"
   ]
  },
  {
   "cell_type": "code",
   "execution_count": 34,
   "id": "35244b0f",
   "metadata": {},
   "outputs": [
    {
     "name": "stdout",
     "output_type": "stream",
     "text": [
      "The probability that sample of 10 shirts 7 are costing more than 25 dollars  0.19143570809682064\n"
     ]
    }
   ],
   "source": [
    "n=10\n",
    "x=7\n",
    "p=len(df[df['price']>25])/len(df)\n",
    "probability=stats.binom.pmf(x,n,p)\n",
    "print('The probability that sample of 10 shirts 7 are costing more than 25 dollars ',probability)"
   ]
  },
  {
   "cell_type": "markdown",
   "id": "41839a68",
   "metadata": {},
   "source": [
    "## Q15. NuCloth Claims that 60% of all shirts in their website cost less than 25 dollars . Using the Normal approximation of a Binomial distribution, find the probability that in a random sample of 10 shirts 7 of them will cost less than 25 dollars"
   ]
  },
  {
   "cell_type": "code",
   "execution_count": 35,
   "id": "679dfd73",
   "metadata": {},
   "outputs": [
    {
     "name": "stdout",
     "output_type": "stream",
     "text": [
      "The probability that out of a random sample of 100 young adults were exactly 50 are having BMI greater than 25 is 0.19143570809682064\n"
     ]
    }
   ],
   "source": [
    "n=10\n",
    "x=7\n",
    "print(f\"The probability that out of a random sample of 100 young adults were exactly 50 are having BMI greater than 25 is {stats.binom.pmf(x,n,p)}\")"
   ]
  },
  {
   "cell_type": "markdown",
   "id": "d3f5f177",
   "metadata": {},
   "source": [
    "## Q16. Compute a 95% Confidence Interval for the true price of a shirt in the NuCloth website using appropriate distribution.( State reasons as to why did you use a z or t distribution)"
   ]
  },
  {
   "cell_type": "code",
   "execution_count": 36,
   "id": "2ff0cb37",
   "metadata": {},
   "outputs": [
    {
     "name": "stdout",
     "output_type": "stream",
     "text": [
      "Confidence inteval for population of young adults is:\n",
      "  (24.642900805126224, 30.607099194873776)\n"
     ]
    }
   ],
   "source": [
    "c=0.95\n",
    "alpha=1-c\n",
    "z_alpha=stats.norm.isf(alpha/2)\n",
    "x_bar=df['price'].mean()\n",
    "std=df['price'].std()\n",
    "n=len(df)\n",
    "\n",
    "# margin of error\n",
    "me=(z_alpha*std)/np.sqrt(n)\n",
    "\n",
    "# confidence inteval\n",
    "CI=(x_bar-me),(x_bar+me)\n",
    "print('Confidence inteval for population of young adults is:\\n ',CI)"
   ]
  },
  {
   "cell_type": "raw",
   "id": "4d17a6e7",
   "metadata": {},
   "source": [
    "As the size of the dataset is 40 we consider it as large sample and we use z distribution."
   ]
  },
  {
   "cell_type": "markdown",
   "id": "10851cff",
   "metadata": {},
   "source": [
    "\n",
    "## Q17. A data scientist wants to estimate with 95% confidence the true proportion of shirts having price greater than 25 dollars in the NuCloth website. A recent study showed that 60% of all shirts have a price greater than 25 dollars. The data scientist wants to be accurate within 2% of the true proportion. Find the minimum sample size necessary."
   ]
  },
  {
   "cell_type": "code",
   "execution_count": 37,
   "id": "d681782e",
   "metadata": {},
   "outputs": [
    {
     "name": "stdout",
     "output_type": "stream",
     "text": [
      "The minimum sample size is  2305\n"
     ]
    }
   ],
   "source": [
    "c=0.95\n",
    "alpha=1-c\n",
    "z_alpha=stats.norm.isf(alpha/2)\n",
    "me=0.02\n",
    "p=0.60\n",
    "q=1-p\n",
    "\n",
    "# sample size\n",
    "n=(z_alpha*(np.sqrt(p*q)/me))**2\n",
    "print('The minimum sample size is ',round(n))"
   ]
  },
  {
   "cell_type": "markdown",
   "id": "f45853db",
   "metadata": {},
   "source": [
    "## Q18. The same data scientist wants to estimate the true proportion of shirts having price greater than 25 dollars. She wants to be 90% confident and accurate within 5% of true proportion. Find the minimum sample size necessary."
   ]
  },
  {
   "cell_type": "code",
   "execution_count": 154,
   "id": "8ba63f3c",
   "metadata": {},
   "outputs": [
    {
     "name": "stdout",
     "output_type": "stream",
     "text": [
      "The minimum sample size is  260\n"
     ]
    }
   ],
   "source": [
    "c=0.90\n",
    "alpha=1-c\n",
    "z_alpha=stats.norm.isf(alpha/2)\n",
    "me=0.05\n",
    "p=0.60\n",
    "q=1-p\n",
    "\n",
    "# sample size\n",
    "n=(z_alpha*(np.sqrt(p*q)/me))**2\n",
    "print('The minimum sample size is ',round(n))"
   ]
  },
  {
   "cell_type": "markdown",
   "id": "e476852a",
   "metadata": {},
   "source": [
    "## Q19. NuCloth claims that currently 80% of all shirts have prices greater than 25 dollars . Test this claim with an alpha =0.05 if out of a random sample of 30 shirts only 23 are having prices above 25 dollars."
   ]
  },
  {
   "cell_type": "code",
   "execution_count": 155,
   "id": "0d810b11",
   "metadata": {},
   "outputs": [
    {
     "name": "stdout",
     "output_type": "stream",
     "text": [
      "z_alpha is  -1.96\n",
      "z is  -0.456\n"
     ]
    }
   ],
   "source": [
    "\n",
    "# testing hypothesis\n",
    "# ho:mu=0.80\n",
    "# ha:mu<>0.80\n",
    "\n",
    "# decision criteria\n",
    "alpha=0.05\n",
    "z_alpha=stats.norm.ppf(alpha/2)\n",
    "\n",
    "# sample statistics\n",
    "n=30\n",
    "x=23\n",
    "p=x/n\n",
    "p_bar=0.80\n",
    "z=(p-p_bar)/np.sqrt((p_bar*(1-p_bar))/n)\n",
    "print('z_alpha is ',round(z_alpha,3))\n",
    "print('z is ',round(z,3))"
   ]
  },
  {
   "cell_type": "raw",
   "id": "36a3a3af",
   "metadata": {},
   "source": [
    "In the Left area z_alpha < z and falls in non-rejection zone. so we fail to reject the null-hypothesis.thus, currently 80% of all shirts have prices greater than 25 dollars."
   ]
  },
  {
   "cell_type": "markdown",
   "id": "4edbd51f",
   "metadata": {},
   "source": [
    "## Q20. A data scientist is researching the hypothesis that the average price of a shirt in NuCloth is higher than the supermarket. So he collects data from NuCloth and the supermarket that the average shirt price of shirts in NuCloth is 36 dollars vs 34 dollars in the supermarket. The standard deviations are 7.6 and 5.8 respectively.Suppose the data scientist got these values after randomly selecting 100 shirts from each place."
   ]
  },
  {
   "cell_type": "markdown",
   "id": "68ddbfa8",
   "metadata": {},
   "source": [
    "###  a. What hypothesis would he use to compare the shirt prices of NuCloth vs Supermarket"
   ]
  },
  {
   "cell_type": "raw",
   "id": "eb8fe78e",
   "metadata": {},
   "source": [
    "# testing hypothesis\n",
    "ho:mun-mus<=0\n",
    "ha:mun-mus>0"
   ]
  },
  {
   "cell_type": "markdown",
   "id": "ff39ced3",
   "metadata": {},
   "source": [
    "### b. What are critical values to be used?\n"
   ]
  },
  {
   "cell_type": "code",
   "execution_count": 38,
   "id": "6e2ade9e",
   "metadata": {},
   "outputs": [],
   "source": [
    "alpha=0.05\n",
    "x1=36\n",
    "x2=34\n",
    "s1=7.6\n",
    "s2=5.8\n",
    "n1=100\n",
    "n2=100\n"
   ]
  },
  {
   "cell_type": "markdown",
   "id": "d16b7033",
   "metadata": {},
   "source": [
    "### c. What statistical test will be used to compare these prices?"
   ]
  },
  {
   "cell_type": "raw",
   "id": "a0c07858",
   "metadata": {},
   "source": [
    "We use z test because the the sample size is 100. Hence greater than 30"
   ]
  },
  {
   "cell_type": "markdown",
   "id": "0fd13c83",
   "metadata": {},
   "source": [
    "### d. Complete the test and obtain the P-value."
   ]
  },
  {
   "cell_type": "code",
   "execution_count": 39,
   "id": "9829ce5c",
   "metadata": {},
   "outputs": [
    {
     "name": "stdout",
     "output_type": "stream",
     "text": [
      "z_alpha is  1.6449\n",
      "The z is  2.092\n",
      "The p_value is  0.018\n",
      "The alpha is 0.05\n"
     ]
    }
   ],
   "source": [
    "# decision criteria\n",
    "z_alpha=stats.norm.isf(alpha)\n",
    "print('z_alpha is ',round(z_alpha,4))\n",
    "\n",
    "# sample statistic\n",
    "\n",
    "z=(x1-x2)/np.sqrt(((s1**2)/n1)+((s2**2)/n2))\n",
    "print('The z is ',round(z,3))\n",
    "\n",
    "# p_value\n",
    "\n",
    "p_value=stats.norm.sf(z)\n",
    "print('The p_value is ',round(p_value,3))\n",
    "print('The alpha is',alpha)\n"
   ]
  },
  {
   "cell_type": "raw",
   "id": "20fd0cdc",
   "metadata": {},
   "source": [
    "z_alpha < z which falls in rejection zone. hence we  reject the null-hypothesis."
   ]
  },
  {
   "cell_type": "markdown",
   "id": "fcf07c32",
   "metadata": {},
   "source": [
    "### e. Summarize his conclusion based on the P-value."
   ]
  },
  {
   "cell_type": "raw",
   "id": "6ae6d15d",
   "metadata": {},
   "source": [
    "As the p_value < alpha we  reject the null-hypothesis.Thus,the average price of a shirt in NuCloth is higher than the supermarket. "
   ]
  },
  {
   "cell_type": "markdown",
   "id": "b5499f80",
   "metadata": {},
   "source": [
    "# PART-B ( Dataset Based)--25 points"
   ]
  },
  {
   "cell_type": "markdown",
   "id": "5379a252",
   "metadata": {},
   "source": [
    "## 1. Read the datasets, Check the data types and Change the data types appropriately."
   ]
  },
  {
   "cell_type": "code",
   "execution_count": 40,
   "id": "8eb7a1de",
   "metadata": {
    "scrolled": true
   },
   "outputs": [
    {
     "data": {
      "text/html": [
       "<div>\n",
       "<style scoped>\n",
       "    .dataframe tbody tr th:only-of-type {\n",
       "        vertical-align: middle;\n",
       "    }\n",
       "\n",
       "    .dataframe tbody tr th {\n",
       "        vertical-align: top;\n",
       "    }\n",
       "\n",
       "    .dataframe thead th {\n",
       "        text-align: right;\n",
       "    }\n",
       "</style>\n",
       "<table border=\"1\" class=\"dataframe\">\n",
       "  <thead>\n",
       "    <tr style=\"text-align: right;\">\n",
       "      <th></th>\n",
       "      <th>item_id</th>\n",
       "      <th>waist</th>\n",
       "      <th>size</th>\n",
       "      <th>quality</th>\n",
       "      <th>cup size</th>\n",
       "      <th>hips</th>\n",
       "      <th>bra size</th>\n",
       "      <th>category</th>\n",
       "      <th>bust</th>\n",
       "      <th>height</th>\n",
       "      <th>user_name</th>\n",
       "      <th>length</th>\n",
       "      <th>fit</th>\n",
       "      <th>user_id</th>\n",
       "      <th>shoe size</th>\n",
       "      <th>shoe width</th>\n",
       "      <th>review_summary</th>\n",
       "      <th>review_text</th>\n",
       "    </tr>\n",
       "  </thead>\n",
       "  <tbody>\n",
       "    <tr>\n",
       "      <th>0</th>\n",
       "      <td>123373</td>\n",
       "      <td>29.0</td>\n",
       "      <td>7</td>\n",
       "      <td>5.0</td>\n",
       "      <td>d</td>\n",
       "      <td>38.0</td>\n",
       "      <td>34.0</td>\n",
       "      <td>new</td>\n",
       "      <td>36</td>\n",
       "      <td>5ft 6in</td>\n",
       "      <td>Emily</td>\n",
       "      <td>just right</td>\n",
       "      <td>small</td>\n",
       "      <td>991571</td>\n",
       "      <td>NaN</td>\n",
       "      <td>NaN</td>\n",
       "      <td>NaN</td>\n",
       "      <td>NaN</td>\n",
       "    </tr>\n",
       "    <tr>\n",
       "      <th>1</th>\n",
       "      <td>123373</td>\n",
       "      <td>31.0</td>\n",
       "      <td>13</td>\n",
       "      <td>3.0</td>\n",
       "      <td>b</td>\n",
       "      <td>30.0</td>\n",
       "      <td>36.0</td>\n",
       "      <td>new</td>\n",
       "      <td>NaN</td>\n",
       "      <td>5ft 2in</td>\n",
       "      <td>sydneybraden2001</td>\n",
       "      <td>just right</td>\n",
       "      <td>small</td>\n",
       "      <td>587883</td>\n",
       "      <td>NaN</td>\n",
       "      <td>NaN</td>\n",
       "      <td>NaN</td>\n",
       "      <td>NaN</td>\n",
       "    </tr>\n",
       "    <tr>\n",
       "      <th>2</th>\n",
       "      <td>123373</td>\n",
       "      <td>30.0</td>\n",
       "      <td>7</td>\n",
       "      <td>2.0</td>\n",
       "      <td>b</td>\n",
       "      <td>NaN</td>\n",
       "      <td>32.0</td>\n",
       "      <td>new</td>\n",
       "      <td>NaN</td>\n",
       "      <td>5ft 7in</td>\n",
       "      <td>Ugggh</td>\n",
       "      <td>slightly long</td>\n",
       "      <td>small</td>\n",
       "      <td>395665</td>\n",
       "      <td>9.0</td>\n",
       "      <td>NaN</td>\n",
       "      <td>NaN</td>\n",
       "      <td>NaN</td>\n",
       "    </tr>\n",
       "    <tr>\n",
       "      <th>3</th>\n",
       "      <td>123373</td>\n",
       "      <td>NaN</td>\n",
       "      <td>21</td>\n",
       "      <td>5.0</td>\n",
       "      <td>dd/e</td>\n",
       "      <td>NaN</td>\n",
       "      <td>NaN</td>\n",
       "      <td>new</td>\n",
       "      <td>NaN</td>\n",
       "      <td>NaN</td>\n",
       "      <td>alexmeyer626</td>\n",
       "      <td>just right</td>\n",
       "      <td>fit</td>\n",
       "      <td>875643</td>\n",
       "      <td>NaN</td>\n",
       "      <td>NaN</td>\n",
       "      <td>NaN</td>\n",
       "      <td>NaN</td>\n",
       "    </tr>\n",
       "    <tr>\n",
       "      <th>4</th>\n",
       "      <td>123373</td>\n",
       "      <td>NaN</td>\n",
       "      <td>18</td>\n",
       "      <td>5.0</td>\n",
       "      <td>b</td>\n",
       "      <td>NaN</td>\n",
       "      <td>36.0</td>\n",
       "      <td>new</td>\n",
       "      <td>NaN</td>\n",
       "      <td>5ft 2in</td>\n",
       "      <td>dberrones1</td>\n",
       "      <td>slightly long</td>\n",
       "      <td>small</td>\n",
       "      <td>944840</td>\n",
       "      <td>NaN</td>\n",
       "      <td>NaN</td>\n",
       "      <td>NaN</td>\n",
       "      <td>NaN</td>\n",
       "    </tr>\n",
       "    <tr>\n",
       "      <th>...</th>\n",
       "      <td>...</td>\n",
       "      <td>...</td>\n",
       "      <td>...</td>\n",
       "      <td>...</td>\n",
       "      <td>...</td>\n",
       "      <td>...</td>\n",
       "      <td>...</td>\n",
       "      <td>...</td>\n",
       "      <td>...</td>\n",
       "      <td>...</td>\n",
       "      <td>...</td>\n",
       "      <td>...</td>\n",
       "      <td>...</td>\n",
       "      <td>...</td>\n",
       "      <td>...</td>\n",
       "      <td>...</td>\n",
       "      <td>...</td>\n",
       "      <td>...</td>\n",
       "    </tr>\n",
       "    <tr>\n",
       "      <th>82785</th>\n",
       "      <td>807722</td>\n",
       "      <td>NaN</td>\n",
       "      <td>8</td>\n",
       "      <td>4.0</td>\n",
       "      <td>b</td>\n",
       "      <td>NaN</td>\n",
       "      <td>36.0</td>\n",
       "      <td>outerwear</td>\n",
       "      <td>NaN</td>\n",
       "      <td>5ft 8in</td>\n",
       "      <td>Jennifer</td>\n",
       "      <td>just right</td>\n",
       "      <td>fit</td>\n",
       "      <td>727820</td>\n",
       "      <td>8.5</td>\n",
       "      <td>average</td>\n",
       "      <td>Cute jacket!</td>\n",
       "      <td>Cute jacket!</td>\n",
       "    </tr>\n",
       "    <tr>\n",
       "      <th>82786</th>\n",
       "      <td>807722</td>\n",
       "      <td>NaN</td>\n",
       "      <td>12</td>\n",
       "      <td>5.0</td>\n",
       "      <td>ddd/f</td>\n",
       "      <td>NaN</td>\n",
       "      <td>34.0</td>\n",
       "      <td>outerwear</td>\n",
       "      <td>NaN</td>\n",
       "      <td>5ft 5in</td>\n",
       "      <td>Kelli</td>\n",
       "      <td>slightly long</td>\n",
       "      <td>small</td>\n",
       "      <td>197040</td>\n",
       "      <td>NaN</td>\n",
       "      <td>NaN</td>\n",
       "      <td>It's a beautiful jacket.</td>\n",
       "      <td>It's a beautiful jacket. I love how it's knit ...</td>\n",
       "    </tr>\n",
       "    <tr>\n",
       "      <th>82787</th>\n",
       "      <td>807722</td>\n",
       "      <td>NaN</td>\n",
       "      <td>12</td>\n",
       "      <td>5.0</td>\n",
       "      <td>dddd/g</td>\n",
       "      <td>36.0</td>\n",
       "      <td>32.0</td>\n",
       "      <td>outerwear</td>\n",
       "      <td>NaN</td>\n",
       "      <td>5ft 4in</td>\n",
       "      <td>elacount</td>\n",
       "      <td>just right</td>\n",
       "      <td>fit</td>\n",
       "      <td>102493</td>\n",
       "      <td>NaN</td>\n",
       "      <td>NaN</td>\n",
       "      <td>I love this blazer. It is</td>\n",
       "      <td>I love this blazer. It is a great office piece...</td>\n",
       "    </tr>\n",
       "    <tr>\n",
       "      <th>82788</th>\n",
       "      <td>807722</td>\n",
       "      <td>NaN</td>\n",
       "      <td>12</td>\n",
       "      <td>4.0</td>\n",
       "      <td>NaN</td>\n",
       "      <td>NaN</td>\n",
       "      <td>NaN</td>\n",
       "      <td>outerwear</td>\n",
       "      <td>NaN</td>\n",
       "      <td>5ft 3in</td>\n",
       "      <td>jennaklinner</td>\n",
       "      <td>just right</td>\n",
       "      <td>fit</td>\n",
       "      <td>756491</td>\n",
       "      <td>NaN</td>\n",
       "      <td>NaN</td>\n",
       "      <td>I love this blazer!! I wo</td>\n",
       "      <td>I love this blazer!! I wore it yesterday and g...</td>\n",
       "    </tr>\n",
       "    <tr>\n",
       "      <th>82789</th>\n",
       "      <td>807722</td>\n",
       "      <td>NaN</td>\n",
       "      <td>4</td>\n",
       "      <td>4.0</td>\n",
       "      <td>d</td>\n",
       "      <td>39.0</td>\n",
       "      <td>32.0</td>\n",
       "      <td>outerwear</td>\n",
       "      <td>NaN</td>\n",
       "      <td>6ft</td>\n",
       "      <td>maireadsteadman</td>\n",
       "      <td>just right</td>\n",
       "      <td>fit</td>\n",
       "      <td>78305</td>\n",
       "      <td>NaN</td>\n",
       "      <td>NaN</td>\n",
       "      <td>I love this piece. I'm re</td>\n",
       "      <td>I love this piece. I'm really happy with it!</td>\n",
       "    </tr>\n",
       "  </tbody>\n",
       "</table>\n",
       "<p>82790 rows × 18 columns</p>\n",
       "</div>"
      ],
      "text/plain": [
       "       item_id  waist  size  quality cup size  hips  bra size   category bust  \\\n",
       "0       123373   29.0     7      5.0        d  38.0      34.0        new   36   \n",
       "1       123373   31.0    13      3.0        b  30.0      36.0        new  NaN   \n",
       "2       123373   30.0     7      2.0        b   NaN      32.0        new  NaN   \n",
       "3       123373    NaN    21      5.0     dd/e   NaN       NaN        new  NaN   \n",
       "4       123373    NaN    18      5.0        b   NaN      36.0        new  NaN   \n",
       "...        ...    ...   ...      ...      ...   ...       ...        ...  ...   \n",
       "82785   807722    NaN     8      4.0        b   NaN      36.0  outerwear  NaN   \n",
       "82786   807722    NaN    12      5.0    ddd/f   NaN      34.0  outerwear  NaN   \n",
       "82787   807722    NaN    12      5.0   dddd/g  36.0      32.0  outerwear  NaN   \n",
       "82788   807722    NaN    12      4.0      NaN   NaN       NaN  outerwear  NaN   \n",
       "82789   807722    NaN     4      4.0        d  39.0      32.0  outerwear  NaN   \n",
       "\n",
       "        height         user_name         length    fit  user_id  shoe size  \\\n",
       "0      5ft 6in             Emily     just right  small   991571        NaN   \n",
       "1      5ft 2in  sydneybraden2001     just right  small   587883        NaN   \n",
       "2      5ft 7in             Ugggh  slightly long  small   395665        9.0   \n",
       "3          NaN      alexmeyer626     just right    fit   875643        NaN   \n",
       "4      5ft 2in        dberrones1  slightly long  small   944840        NaN   \n",
       "...        ...               ...            ...    ...      ...        ...   \n",
       "82785  5ft 8in          Jennifer     just right    fit   727820        8.5   \n",
       "82786  5ft 5in             Kelli  slightly long  small   197040        NaN   \n",
       "82787  5ft 4in          elacount     just right    fit   102493        NaN   \n",
       "82788  5ft 3in      jennaklinner     just right    fit   756491        NaN   \n",
       "82789      6ft   maireadsteadman     just right    fit    78305        NaN   \n",
       "\n",
       "      shoe width             review_summary  \\\n",
       "0            NaN                        NaN   \n",
       "1            NaN                        NaN   \n",
       "2            NaN                        NaN   \n",
       "3            NaN                        NaN   \n",
       "4            NaN                        NaN   \n",
       "...          ...                        ...   \n",
       "82785    average               Cute jacket!   \n",
       "82786        NaN   It's a beautiful jacket.   \n",
       "82787        NaN  I love this blazer. It is   \n",
       "82788        NaN  I love this blazer!! I wo   \n",
       "82789        NaN  I love this piece. I'm re   \n",
       "\n",
       "                                             review_text  \n",
       "0                                                    NaN  \n",
       "1                                                    NaN  \n",
       "2                                                    NaN  \n",
       "3                                                    NaN  \n",
       "4                                                    NaN  \n",
       "...                                                  ...  \n",
       "82785                                       Cute jacket!  \n",
       "82786  It's a beautiful jacket. I love how it's knit ...  \n",
       "82787  I love this blazer. It is a great office piece...  \n",
       "82788  I love this blazer!! I wore it yesterday and g...  \n",
       "82789       I love this piece. I'm really happy with it!  \n",
       "\n",
       "[82790 rows x 18 columns]"
      ]
     },
     "execution_count": 40,
     "metadata": {},
     "output_type": "execute_result"
    }
   ],
   "source": [
    "df=pd.read_json('modcloth_final_data.json',lines=True)\n",
    "df"
   ]
  },
  {
   "cell_type": "code",
   "execution_count": 42,
   "id": "c1fdd05b",
   "metadata": {},
   "outputs": [
    {
     "data": {
      "text/plain": [
       "item_id             int64\n",
       "waist             float64\n",
       "size                int64\n",
       "quality           float64\n",
       "cup size           object\n",
       "hips              float64\n",
       "bra size          float64\n",
       "category           object\n",
       "bust               object\n",
       "height             object\n",
       "user_name          object\n",
       "length             object\n",
       "fit                object\n",
       "user_id             int64\n",
       "shoe size         float64\n",
       "shoe width         object\n",
       "review_summary     object\n",
       "review_text        object\n",
       "dtype: object"
      ]
     },
     "execution_count": 42,
     "metadata": {},
     "output_type": "execute_result"
    }
   ],
   "source": [
    "df.dtypes"
   ]
  },
  {
   "cell_type": "code",
   "execution_count": 43,
   "id": "e3159745",
   "metadata": {},
   "outputs": [],
   "source": [
    "# converting to object\n",
    "df['item_id']=df['item_id'].astype('O')\n",
    "df['user_id']=df['user_id'].astype('O')"
   ]
  },
  {
   "cell_type": "code",
   "execution_count": 44,
   "id": "6ebc7285",
   "metadata": {},
   "outputs": [
    {
     "data": {
      "text/plain": [
       "item_id            object\n",
       "waist             float64\n",
       "size                int64\n",
       "quality           float64\n",
       "cup size           object\n",
       "hips              float64\n",
       "bra size          float64\n",
       "category           object\n",
       "bust               object\n",
       "height             object\n",
       "user_name          object\n",
       "length             object\n",
       "fit                object\n",
       "user_id            object\n",
       "shoe size         float64\n",
       "shoe width         object\n",
       "review_summary     object\n",
       "review_text        object\n",
       "dtype: object"
      ]
     },
     "execution_count": 44,
     "metadata": {},
     "output_type": "execute_result"
    }
   ],
   "source": [
    "df.dtypes"
   ]
  },
  {
   "cell_type": "code",
   "execution_count": 45,
   "id": "6c43e713",
   "metadata": {},
   "outputs": [
    {
     "data": {
      "text/plain": [
       "array(['5ft 6in', '5ft 2in', '5ft 7in', nan, '5ft 4in', '5ft 3in',\n",
       "       '5ft 5in', '5ft 10in', '5ft 8in', '5ft', '5ft 9in', '5ft 1in',\n",
       "       '5ft 11in', '4ft 11in', '4ft 10in', '6ft', '3ft 4in', '4ft 9in',\n",
       "       '6ft 3in', '6ft 1in', '6ft 2in', '3ft', '4ft 7in', '4ft 4in',\n",
       "       '7ft 11in', '4ft 2in', '6ft 6in', '4ft 8in', '6ft 4in', '3ft 11in',\n",
       "       '6ft 5in', '7ft 6in', '3ft 6in', '3ft 3in', '6ft 8in', '7ft 5in',\n",
       "       '7ft 3in', '7ft 7in', '6ft 7in', '4ft 5in', '3ft 2in', '4ft 6in'],\n",
       "      dtype=object)"
      ]
     },
     "execution_count": 45,
     "metadata": {},
     "output_type": "execute_result"
    }
   ],
   "source": [
    "df['height'].unique()"
   ]
  },
  {
   "cell_type": "markdown",
   "id": "0c3fbb04",
   "metadata": {},
   "source": [
    "## 2. Change the height column datatype to float after converting the values"
   ]
  },
  {
   "cell_type": "code",
   "execution_count": 46,
   "id": "f4e365c1",
   "metadata": {},
   "outputs": [
    {
     "data": {
      "text/plain": [
       "dtype('float64')"
      ]
     },
     "execution_count": 46,
     "metadata": {},
     "output_type": "execute_result"
    }
   ],
   "source": [
    "df['height']=list(map(lambda x : str(x).replace(' ','.').replace('ft','').replace('in',''),df['height']))\n",
    "df['height']=df['height'].astype(float)\n",
    "df['height'].dtypes"
   ]
  },
  {
   "cell_type": "markdown",
   "id": "489eebfc",
   "metadata": {},
   "source": [
    "## 3. Rename the names of the columns which have space in between the column.\n",
    "Ex: shoe size as shoe_size etc."
   ]
  },
  {
   "cell_type": "code",
   "execution_count": 53,
   "id": "8c6e45ed",
   "metadata": {
    "scrolled": true
   },
   "outputs": [
    {
     "data": {
      "text/html": [
       "<div>\n",
       "<style scoped>\n",
       "    .dataframe tbody tr th:only-of-type {\n",
       "        vertical-align: middle;\n",
       "    }\n",
       "\n",
       "    .dataframe tbody tr th {\n",
       "        vertical-align: top;\n",
       "    }\n",
       "\n",
       "    .dataframe thead th {\n",
       "        text-align: right;\n",
       "    }\n",
       "</style>\n",
       "<table border=\"1\" class=\"dataframe\">\n",
       "  <thead>\n",
       "    <tr style=\"text-align: right;\">\n",
       "      <th></th>\n",
       "      <th>item_id</th>\n",
       "      <th>waist</th>\n",
       "      <th>size</th>\n",
       "      <th>quality</th>\n",
       "      <th>cup_size</th>\n",
       "      <th>hips</th>\n",
       "      <th>bra_size</th>\n",
       "      <th>category</th>\n",
       "      <th>bust</th>\n",
       "      <th>height</th>\n",
       "      <th>user_name</th>\n",
       "      <th>length</th>\n",
       "      <th>fit</th>\n",
       "      <th>user_id</th>\n",
       "      <th>shoe_size</th>\n",
       "      <th>shoe_width</th>\n",
       "      <th>review_summary</th>\n",
       "      <th>review_text</th>\n",
       "    </tr>\n",
       "  </thead>\n",
       "  <tbody>\n",
       "    <tr>\n",
       "      <th>0</th>\n",
       "      <td>123373</td>\n",
       "      <td>29.0</td>\n",
       "      <td>7</td>\n",
       "      <td>5.0</td>\n",
       "      <td>d</td>\n",
       "      <td>38.0</td>\n",
       "      <td>34.0</td>\n",
       "      <td>new</td>\n",
       "      <td>36</td>\n",
       "      <td>5.6</td>\n",
       "      <td>Emily</td>\n",
       "      <td>just right</td>\n",
       "      <td>small</td>\n",
       "      <td>991571</td>\n",
       "      <td>NaN</td>\n",
       "      <td>NaN</td>\n",
       "      <td>NaN</td>\n",
       "      <td>NaN</td>\n",
       "    </tr>\n",
       "    <tr>\n",
       "      <th>1</th>\n",
       "      <td>123373</td>\n",
       "      <td>31.0</td>\n",
       "      <td>13</td>\n",
       "      <td>3.0</td>\n",
       "      <td>b</td>\n",
       "      <td>30.0</td>\n",
       "      <td>36.0</td>\n",
       "      <td>new</td>\n",
       "      <td>NaN</td>\n",
       "      <td>5.2</td>\n",
       "      <td>sydneybraden2001</td>\n",
       "      <td>just right</td>\n",
       "      <td>small</td>\n",
       "      <td>587883</td>\n",
       "      <td>NaN</td>\n",
       "      <td>NaN</td>\n",
       "      <td>NaN</td>\n",
       "      <td>NaN</td>\n",
       "    </tr>\n",
       "  </tbody>\n",
       "</table>\n",
       "</div>"
      ],
      "text/plain": [
       "  item_id  waist  size  quality cup_size  hips  bra_size category bust  \\\n",
       "0  123373   29.0     7      5.0        d  38.0      34.0      new   36   \n",
       "1  123373   31.0    13      3.0        b  30.0      36.0      new  NaN   \n",
       "\n",
       "   height         user_name      length    fit user_id  shoe_size shoe_width  \\\n",
       "0     5.6             Emily  just right  small  991571        NaN        NaN   \n",
       "1     5.2  sydneybraden2001  just right  small  587883        NaN        NaN   \n",
       "\n",
       "  review_summary review_text  \n",
       "0            NaN         NaN  \n",
       "1            NaN         NaN  "
      ]
     },
     "execution_count": 53,
     "metadata": {},
     "output_type": "execute_result"
    }
   ],
   "source": [
    "df=df.rename(columns={'cup size':'cup_size','bra size':'bra_size','shoe size':'shoe_size','shoe width':'shoe_width'})\n",
    "df.head(2)"
   ]
  },
  {
   "cell_type": "markdown",
   "id": "a932d39f",
   "metadata": {},
   "source": [
    "## 4. Check the missing values and Identify the distribution of the variables to impute the missing values. Explain based on your analysis decide the features which can be dropped and Which can be imputed. And also explain the reason to choose the metric that you have chosen to impute the null values.\n",
    "Note: Kindly copy the datasets and work on the new data frame"
   ]
  },
  {
   "cell_type": "code",
   "execution_count": 49,
   "id": "3e028dbc",
   "metadata": {},
   "outputs": [
    {
     "data": {
      "text/html": [
       "<div>\n",
       "<style scoped>\n",
       "    .dataframe tbody tr th:only-of-type {\n",
       "        vertical-align: middle;\n",
       "    }\n",
       "\n",
       "    .dataframe tbody tr th {\n",
       "        vertical-align: top;\n",
       "    }\n",
       "\n",
       "    .dataframe thead th {\n",
       "        text-align: right;\n",
       "    }\n",
       "</style>\n",
       "<table border=\"1\" class=\"dataframe\">\n",
       "  <thead>\n",
       "    <tr style=\"text-align: right;\">\n",
       "      <th></th>\n",
       "      <th>item_id</th>\n",
       "      <th>waist</th>\n",
       "      <th>size</th>\n",
       "      <th>quality</th>\n",
       "      <th>cup_size</th>\n",
       "      <th>hips</th>\n",
       "      <th>bra_size</th>\n",
       "      <th>category</th>\n",
       "      <th>bust</th>\n",
       "      <th>height</th>\n",
       "      <th>user_name</th>\n",
       "      <th>length</th>\n",
       "      <th>fit</th>\n",
       "      <th>user_id</th>\n",
       "      <th>shoe_size</th>\n",
       "      <th>shoe_width</th>\n",
       "      <th>review_summary</th>\n",
       "      <th>review_text</th>\n",
       "    </tr>\n",
       "  </thead>\n",
       "  <tbody>\n",
       "    <tr>\n",
       "      <th>0</th>\n",
       "      <td>123373</td>\n",
       "      <td>29.0</td>\n",
       "      <td>7</td>\n",
       "      <td>5.0</td>\n",
       "      <td>d</td>\n",
       "      <td>38.0</td>\n",
       "      <td>34.0</td>\n",
       "      <td>new</td>\n",
       "      <td>36</td>\n",
       "      <td>5.6</td>\n",
       "      <td>Emily</td>\n",
       "      <td>just right</td>\n",
       "      <td>small</td>\n",
       "      <td>991571</td>\n",
       "      <td>NaN</td>\n",
       "      <td>NaN</td>\n",
       "      <td>NaN</td>\n",
       "      <td>NaN</td>\n",
       "    </tr>\n",
       "    <tr>\n",
       "      <th>1</th>\n",
       "      <td>123373</td>\n",
       "      <td>31.0</td>\n",
       "      <td>13</td>\n",
       "      <td>3.0</td>\n",
       "      <td>b</td>\n",
       "      <td>30.0</td>\n",
       "      <td>36.0</td>\n",
       "      <td>new</td>\n",
       "      <td>NaN</td>\n",
       "      <td>5.2</td>\n",
       "      <td>sydneybraden2001</td>\n",
       "      <td>just right</td>\n",
       "      <td>small</td>\n",
       "      <td>587883</td>\n",
       "      <td>NaN</td>\n",
       "      <td>NaN</td>\n",
       "      <td>NaN</td>\n",
       "      <td>NaN</td>\n",
       "    </tr>\n",
       "  </tbody>\n",
       "</table>\n",
       "</div>"
      ],
      "text/plain": [
       "  item_id  waist  size  quality cup_size  hips  bra_size category bust  \\\n",
       "0  123373   29.0     7      5.0        d  38.0      34.0      new   36   \n",
       "1  123373   31.0    13      3.0        b  30.0      36.0      new  NaN   \n",
       "\n",
       "   height         user_name      length    fit user_id  shoe_size shoe_width  \\\n",
       "0     5.6             Emily  just right  small  991571        NaN        NaN   \n",
       "1     5.2  sydneybraden2001  just right  small  587883        NaN        NaN   \n",
       "\n",
       "  review_summary review_text  \n",
       "0            NaN         NaN  \n",
       "1            NaN         NaN  "
      ]
     },
     "execution_count": 49,
     "metadata": {},
     "output_type": "execute_result"
    }
   ],
   "source": [
    "df1=df.copy()\n",
    "df1.head(2)"
   ]
  },
  {
   "cell_type": "markdown",
   "id": "bea54f4b",
   "metadata": {},
   "source": [
    "### 4.1 Check the count and percentage of missing values.\n"
   ]
  },
  {
   "cell_type": "code",
   "execution_count": 54,
   "id": "1c0008fd",
   "metadata": {},
   "outputs": [
    {
     "data": {
      "text/plain": [
       "item_id               0\n",
       "waist             79908\n",
       "size                  0\n",
       "quality              68\n",
       "cup_size           6255\n",
       "hips              26726\n",
       "bra_size           6018\n",
       "category              0\n",
       "bust              70936\n",
       "height             1107\n",
       "user_name             0\n",
       "length               35\n",
       "fit                   0\n",
       "user_id               0\n",
       "shoe_size         54875\n",
       "shoe_width        64183\n",
       "review_summary     6725\n",
       "review_text        6725\n",
       "dtype: int64"
      ]
     },
     "execution_count": 54,
     "metadata": {},
     "output_type": "execute_result"
    }
   ],
   "source": [
    "sum=df1.isnull().sum()\n",
    "sum"
   ]
  },
  {
   "cell_type": "code",
   "execution_count": 55,
   "id": "e370ff69",
   "metadata": {},
   "outputs": [
    {
     "data": {
      "text/plain": [
       "item_id            0.000000\n",
       "waist             96.518903\n",
       "size               0.000000\n",
       "quality            0.082136\n",
       "cup_size           7.555260\n",
       "hips              32.281677\n",
       "bra_size           7.268994\n",
       "category           0.000000\n",
       "bust              85.681846\n",
       "height             1.337118\n",
       "user_name          0.000000\n",
       "length             0.042276\n",
       "fit                0.000000\n",
       "user_id            0.000000\n",
       "shoe_size         66.282160\n",
       "shoe_width        77.525063\n",
       "review_summary     8.122962\n",
       "review_text        8.122962\n",
       "dtype: float64"
      ]
     },
     "execution_count": 55,
     "metadata": {},
     "output_type": "execute_result"
    }
   ],
   "source": [
    "# percentage of missing values\n",
    "(sum/len(df))*100"
   ]
  },
  {
   "cell_type": "markdown",
   "id": "008f8302",
   "metadata": {},
   "source": [
    "### 4.2 check the Mean and Median."
   ]
  },
  {
   "cell_type": "code",
   "execution_count": 56,
   "id": "5a4f2dfd",
   "metadata": {},
   "outputs": [
    {
     "data": {
      "text/plain": [
       "item_id      469325.229170\n",
       "waist            31.319223\n",
       "size             12.661602\n",
       "quality           3.949058\n",
       "hips             40.358501\n",
       "bra_size         35.972125\n",
       "height            5.456365\n",
       "user_id      498849.564718\n",
       "shoe_size         8.145818\n",
       "dtype: float64"
      ]
     },
     "execution_count": 56,
     "metadata": {},
     "output_type": "execute_result"
    }
   ],
   "source": [
    "# mean\n",
    "df1.mean()"
   ]
  },
  {
   "cell_type": "code",
   "execution_count": 57,
   "id": "a7b2ba5a",
   "metadata": {},
   "outputs": [
    {
     "data": {
      "text/plain": [
       "item_id      454030.0\n",
       "waist            30.0\n",
       "size             12.0\n",
       "quality           4.0\n",
       "hips             39.0\n",
       "bra_size         36.0\n",
       "height            5.5\n",
       "user_id      497913.5\n",
       "shoe_size         8.0\n",
       "dtype: float64"
      ]
     },
     "execution_count": 57,
     "metadata": {},
     "output_type": "execute_result"
    }
   ],
   "source": [
    "# median\n",
    "df1.median()"
   ]
  },
  {
   "cell_type": "code",
   "execution_count": 22,
   "id": "0c387f5c",
   "metadata": {},
   "outputs": [
    {
     "data": {
      "text/plain": [
       "item_id            object\n",
       "waist             float64\n",
       "size                int64\n",
       "quality           float64\n",
       "cup_size           object\n",
       "hips              float64\n",
       "bra_size          float64\n",
       "category           object\n",
       "bust               object\n",
       "height            float64\n",
       "user_name          object\n",
       "length             object\n",
       "fit                object\n",
       "user_id            object\n",
       "shoe_size         float64\n",
       "shoe_width         object\n",
       "review_summary     object\n",
       "review_text        object\n",
       "dtype: object"
      ]
     },
     "execution_count": 22,
     "metadata": {},
     "output_type": "execute_result"
    }
   ],
   "source": [
    "df1.dtypes"
   ]
  },
  {
   "cell_type": "markdown",
   "id": "dbccef7f",
   "metadata": {},
   "source": [
    "### 4.3 Check the distribution of the variables using Histogram or Dist plot or KDE and boxplot etc. Kindly explore at least two"
   ]
  },
  {
   "cell_type": "code",
   "execution_count": 58,
   "id": "4b33d767",
   "metadata": {},
   "outputs": [
    {
     "data": {
      "image/png": "[encoded data removed]",
      "text/plain": [
       "<Figure size 1296x1080 with 10 Axes>"
      ]
     },
     "metadata": {
      "needs_background": "light"
     },
     "output_type": "display_data"
    }
   ],
   "source": [
    "plt.figure(figsize=(18,15))\n",
    "plt.subplot(3,3,1)\n",
    "sns.kdeplot(df1['waist'])\n",
    "plt.title('The distribution of waist variable')\n",
    "plt.subplot(3,3,2)\n",
    "sns.boxplot(data=df1,y='size',x='fit')\n",
    "plt.title('The distribution of size vs fit  variable')\n",
    "plt.subplot(3,3,3)\n",
    "sns.kdeplot(data=df1,x='quality')\n",
    "plt.title('The distribution of quality variable')\n",
    "plt.subplot(3,3,4)\n",
    "sns.barplot(data=df1,x='cup_size',y='bra_size')\n",
    "plt.title('The distribution of cup_size vs bra_size variable')\n",
    "plt.xticks(rotation=45)\n",
    "plt.subplot(3,3,5)\n",
    "sns.scatterplot(data=df1,x='hips',y='waist')\n",
    "plt.title('The distribution of hips vs waist variable')\n",
    "plt.subplot(3,3,6)\n",
    "plt.pie(df1['category'].value_counts(),autopct='%.2f%%')\n",
    "plt.title('The distribution of category variable')\n",
    "plt.subplot(3,3,7)\n",
    "sns.violinplot(data=df1,x='shoe_size',y='shoe_width')\n",
    "plt.title('The distribution of shoe_size vs shoe_width variable')\n",
    "plt.subplot(3,3,8)\n",
    "sns.barplot(data=df1,x='length',y='height')\n",
    "plt.title('The distribution of length vs height variable')\n",
    "plt.subplot(3,3,9)\n",
    "sns.heatmap(df.corr(),annot=True)\n",
    "plt.title('The correlation of variable')\n",
    "plt.show()"
   ]
  },
  {
   "cell_type": "markdown",
   "id": "12e4b056",
   "metadata": {},
   "source": [
    "### 4.4 Check the Skewness and Kurtosis. Explain what the Skewness and Kurtosis describe"
   ]
  },
  {
   "cell_type": "code",
   "execution_count": 24,
   "id": "42782236",
   "metadata": {},
   "outputs": [
    {
     "name": "stdout",
     "output_type": "stream",
     "text": [
      "Skewness of the variable :\n"
     ]
    },
    {
     "data": {
      "text/plain": [
       "item_id     -0.120644\n",
       "waist        0.993061\n",
       "size         1.128301\n",
       "quality     -0.676777\n",
       "hips         0.969187\n",
       "bra_size     0.901004\n",
       "height      -1.095275\n",
       "user_id      0.008201\n",
       "shoe_size    0.436713\n",
       "dtype: float64"
      ]
     },
     "execution_count": 24,
     "metadata": {},
     "output_type": "execute_result"
    }
   ],
   "source": [
    "#skewness\n",
    "print('Skewness of the variable :')\n",
    "df1.skew()"
   ]
  },
  {
   "cell_type": "code",
   "execution_count": 25,
   "id": "2f4d4efb",
   "metadata": {},
   "outputs": [
    {
     "name": "stdout",
     "output_type": "stream",
     "text": [
      "Kurtorsis of the variable :\n"
     ]
    },
    {
     "data": {
      "text/plain": [
       "item_id     -1.215909\n",
       "waist        0.836624\n",
       "size         0.760010\n",
       "quality     -0.167085\n",
       "hips         0.848464\n",
       "bra_size     1.039445\n",
       "height       5.311308\n",
       "user_id     -1.182436\n",
       "shoe_size    8.448820\n",
       "dtype: float64"
      ]
     },
     "execution_count": 25,
     "metadata": {},
     "output_type": "execute_result"
    }
   ],
   "source": [
    "#Kurtorsis\n",
    "print('Kurtorsis of the variable :')\n",
    "df1.kurt()"
   ]
  },
  {
   "cell_type": "markdown",
   "id": "4be9eaad",
   "metadata": {},
   "source": [
    "**skewness:**\n",
    "Skewness refers to the degree of symmetry, or more precisely, the degree of lack of symmetry.The value of the coefficient if skewness usually ranges from –3 to 3.\n",
    "1. When the distribution is symmetric, the coefficient is zero\n",
    "2. when the distribution is positively skewed , the coefficient is positive\n",
    "3. when the distribution is negatively skewed the coefficient is negative. \n",
    "\n",
    "**Kurtosis:**\n",
    "Kurtosis refers to the proportion of data that is heavy-tailed or light-tailed in comparison with a normal distribution.\n",
    "1. When k>0 it is said to be leptokurtic\n",
    "2. When k=0 it is said to be mesokurtic\n",
    "3. When k<0 it is said to be platykurtic. "
   ]
  },
  {
   "cell_type": "markdown",
   "id": "5e9f8fe4",
   "metadata": {},
   "source": [
    "### 4.5 Based on the above approach impute the missing values with the right metric. Or If you want to get some analysis before imputing missing values feel free to explore the analysis."
   ]
  },
  {
   "cell_type": "code",
   "execution_count": 26,
   "id": "9783d55d",
   "metadata": {},
   "outputs": [
    {
     "data": {
      "text/plain": [
       "item_id            0.000000\n",
       "waist             96.518903\n",
       "size               0.000000\n",
       "quality            0.082136\n",
       "cup_size           7.555260\n",
       "hips              32.281677\n",
       "bra_size           7.268994\n",
       "category           0.000000\n",
       "bust              85.681846\n",
       "height             1.337118\n",
       "user_name          0.000000\n",
       "length             0.042276\n",
       "fit                0.000000\n",
       "user_id            0.000000\n",
       "shoe_size         66.282160\n",
       "shoe_width        77.525063\n",
       "review_summary     8.122962\n",
       "review_text        8.122962\n",
       "dtype: float64"
      ]
     },
     "execution_count": 26,
     "metadata": {},
     "output_type": "execute_result"
    }
   ],
   "source": [
    "(sum/len(df))*100"
   ]
  },
  {
   "cell_type": "code",
   "execution_count": 27,
   "id": "62eeeea6",
   "metadata": {},
   "outputs": [],
   "source": [
    "# waist,bust column has above 85 % of null-values so we drop that column\n",
    "df1.drop(columns=['waist','bust'],inplace=True)"
   ]
  },
  {
   "cell_type": "code",
   "execution_count": 28,
   "id": "f4b97157",
   "metadata": {},
   "outputs": [],
   "source": [
    "# shoe_width column"
   ]
  },
  {
   "cell_type": "code",
   "execution_count": 29,
   "id": "65b45938",
   "metadata": {},
   "outputs": [
    {
     "data": {
      "image/png": "[encoded data removed]",
      "text/plain": [
       "<Figure size 432x288 with 1 Axes>"
      ]
     },
     "metadata": {
      "needs_background": "light"
     },
     "output_type": "display_data"
    }
   ],
   "source": [
    "# quality column has 0.8% has null-values. \n",
    "sns.kdeplot(df1['quality'])\n",
    "df1['quality']=df1['quality'].fillna(df1['quality'].median())"
   ]
  },
  {
   "cell_type": "markdown",
   "id": "fe2e501d",
   "metadata": {},
   "source": [
    "it is symmentric but the quality cannot be replaced with mean so we impute by median"
   ]
  },
  {
   "cell_type": "code",
   "execution_count": 30,
   "id": "219fc3e2",
   "metadata": {},
   "outputs": [],
   "source": [
    "# cup_size column has 7.5 % of missing values \n",
    "# its catergorial so we fill by mode\n",
    "df1['cup_size']=df1['cup_size'].fillna(df1['cup_size'].mode()[0])"
   ]
  },
  {
   "cell_type": "code",
   "execution_count": 31,
   "id": "652822af",
   "metadata": {},
   "outputs": [
    {
     "data": {
      "text/plain": [
       "0.9691874732078445"
      ]
     },
     "execution_count": 31,
     "metadata": {},
     "output_type": "execute_result"
    },
    {
     "data": {
      "image/png": "[encoded data removed]",
      "text/plain": [
       "<Figure size 432x288 with 1 Axes>"
      ]
     },
     "metadata": {
      "needs_background": "light"
     },
     "output_type": "display_data"
    }
   ],
   "source": [
    "# hips column has 32.2 % of missing values \n",
    "# we fill by median\n",
    "sns.kdeplot(df1['hips'])\n",
    "df1['hips'].skew()"
   ]
  },
  {
   "cell_type": "code",
   "execution_count": 32,
   "id": "8b932702",
   "metadata": {},
   "outputs": [
    {
     "data": {
      "text/plain": [
       "<AxesSubplot:>"
      ]
     },
     "execution_count": 32,
     "metadata": {},
     "output_type": "execute_result"
    },
    {
     "data": {
      "image/png": "[encoded data removed]",
      "text/plain": [
       "<Figure size 720x648 with 2 Axes>"
      ]
     },
     "metadata": {
      "needs_background": "light"
     },
     "output_type": "display_data"
    }
   ],
   "source": [
    "plt.figure(figsize=(10,9))\n",
    "sns.heatmap(df1.corr(),annot=True)"
   ]
  },
  {
   "cell_type": "code",
   "execution_count": 33,
   "id": "0ea64354",
   "metadata": {},
   "outputs": [],
   "source": [
    "df1['hips']=df1['hips'].fillna(df1.groupby('size')['hips'].median())   #doubt"
   ]
  },
  {
   "cell_type": "markdown",
   "id": "4492cdc8",
   "metadata": {},
   "source": [
    "we do groupby with hips column because both column as positive relation and hips size can be besr determined for null values \n"
   ]
  },
  {
   "cell_type": "code",
   "execution_count": 34,
   "id": "49eb85ca",
   "metadata": {},
   "outputs": [],
   "source": [
    "# bra_size column has 7.2 % of missing values \n",
    "#  so we fill by median\n",
    "df1['bra_size']=df1['bra_size'].fillna(df1['bra_size'].median())"
   ]
  },
  {
   "cell_type": "code",
   "execution_count": 35,
   "id": "5236da82",
   "metadata": {},
   "outputs": [],
   "source": [
    "# height column has 1.3 % of missing values \n",
    "# we drop the records\n",
    "df1=df1.dropna(subset='height')"
   ]
  },
  {
   "cell_type": "code",
   "execution_count": 36,
   "id": "830f8b59",
   "metadata": {},
   "outputs": [],
   "source": [
    "# length column has 35  missing values \n",
    "# we drop the records\n",
    "df1=df1.dropna(subset='length')"
   ]
  },
  {
   "cell_type": "code",
   "execution_count": 37,
   "id": "6a47c752",
   "metadata": {},
   "outputs": [
    {
     "data": {
      "text/plain": [
       "array([5.6 , 5.2 , 5.7 , 5.4 , 5.3 , 5.5 , 5.1 , 5.8 , 5.  , 5.9 , 5.11,\n",
       "       4.11, 4.1 , 6.  , 3.4 , 4.9 , 6.3 , 6.1 , 6.2 , 3.  , 4.7 , 4.4 ,\n",
       "       7.11, 4.2 , 6.6 , 4.8 , 6.4 , 3.11, 6.5 , 7.6 , 3.6 , 3.3 , 6.8 ,\n",
       "       7.5 , 7.3 , 7.7 , 6.7 , 4.5 , 3.2 , 4.6 ])"
      ]
     },
     "execution_count": 37,
     "metadata": {},
     "output_type": "execute_result"
    }
   ],
   "source": [
    "df1['height'].unique()"
   ]
  },
  {
   "cell_type": "code",
   "execution_count": 38,
   "id": "781e0a04",
   "metadata": {},
   "outputs": [],
   "source": [
    "# shoe_size column has 66.2 % of missing values \n",
    "# so we fill by                               # doubt "
   ]
  },
  {
   "cell_type": "code",
   "execution_count": 39,
   "id": "74f9dc5d",
   "metadata": {},
   "outputs": [],
   "source": [
    "# review_summary and review_text columns has 8.122 % each of missing values \n",
    "# we fill by no review as there is no review received from that customer.\n",
    "df1[['review_summary','review_text']]=df1[['review_summary','review_text']].fillna('no review')"
   ]
  },
  {
   "cell_type": "code",
   "execution_count": 40,
   "id": "4f6405bb",
   "metadata": {},
   "outputs": [
    {
     "data": {
      "text/plain": [
       "item_id               0\n",
       "size                  0\n",
       "quality               0\n",
       "cup_size              0\n",
       "hips              25826\n",
       "bra_size              0\n",
       "category              0\n",
       "height                0\n",
       "user_name             0\n",
       "length                0\n",
       "fit                   0\n",
       "user_id               0\n",
       "shoe_size         54110\n",
       "shoe_width        63252\n",
       "review_summary        0\n",
       "review_text           0\n",
       "dtype: int64"
      ]
     },
     "execution_count": 40,
     "metadata": {},
     "output_type": "execute_result"
    }
   ],
   "source": [
    "df1.isnull().sum()"
   ]
  },
  {
   "cell_type": "markdown",
   "id": "ddf70624",
   "metadata": {},
   "source": [
    "\n",
    "\n",
    "## 5. Find the outliers which are below and above 2.5 * IQR - Q1 and 2.5 * IQR + Q3. "
   ]
  },
  {
   "cell_type": "code",
   "execution_count": 41,
   "id": "680fca6a",
   "metadata": {},
   "outputs": [
    {
     "data": {
      "image/png": "[encoded data removed]",
      "text/plain": [
       "<Figure size 432x288 with 1 Axes>"
      ]
     },
     "metadata": {
      "needs_background": "light"
     },
     "output_type": "display_data"
    },
    {
     "data": {
      "image/png": "[encoded data removed]",
      "text/plain": [
       "<Figure size 432x288 with 1 Axes>"
      ]
     },
     "metadata": {
      "needs_background": "light"
     },
     "output_type": "display_data"
    },
    {
     "data": {
      "image/png": "[encoded data removed]",
      "text/plain": [
       "<Figure size 432x288 with 1 Axes>"
      ]
     },
     "metadata": {
      "needs_background": "light"
     },
     "output_type": "display_data"
    },
    {
     "data": {
      "image/png": "[encoded data removed]",
      "text/plain": [
       "<Figure size 432x288 with 1 Axes>"
      ]
     },
     "metadata": {
      "needs_background": "light"
     },
     "output_type": "display_data"
    },
    {
     "data": {
      "image/png": "[encoded data removed]",
      "text/plain": [
       "<Figure size 432x288 with 1 Axes>"
      ]
     },
     "metadata": {
      "needs_background": "light"
     },
     "output_type": "display_data"
    },
    {
     "data": {
      "image/png": "[encoded data removed]",
      "text/plain": [
       "<Figure size 432x288 with 1 Axes>"
      ]
     },
     "metadata": {
      "needs_background": "light"
     },
     "output_type": "display_data"
    }
   ],
   "source": [
    "num=df1.select_dtypes(include=np.number).columns\n",
    "for i in num:\n",
    "    plt.title(f\"The outlier for {i}\")\n",
    "    sns.boxplot(df1[i],whis=2.5)\n",
    "    plt.show()"
   ]
  },
  {
   "cell_type": "code",
   "execution_count": 42,
   "id": "872f515e",
   "metadata": {},
   "outputs": [
    {
     "data": {
      "text/html": [
       "<div>\n",
       "<style scoped>\n",
       "    .dataframe tbody tr th:only-of-type {\n",
       "        vertical-align: middle;\n",
       "    }\n",
       "\n",
       "    .dataframe tbody tr th {\n",
       "        vertical-align: top;\n",
       "    }\n",
       "\n",
       "    .dataframe thead th {\n",
       "        text-align: right;\n",
       "    }\n",
       "</style>\n",
       "<table border=\"1\" class=\"dataframe\">\n",
       "  <thead>\n",
       "    <tr style=\"text-align: right;\">\n",
       "      <th></th>\n",
       "      <th>item_id</th>\n",
       "      <th>size</th>\n",
       "      <th>quality</th>\n",
       "      <th>cup_size</th>\n",
       "      <th>hips</th>\n",
       "      <th>bra_size</th>\n",
       "      <th>category</th>\n",
       "      <th>height</th>\n",
       "      <th>user_name</th>\n",
       "      <th>length</th>\n",
       "      <th>fit</th>\n",
       "      <th>user_id</th>\n",
       "      <th>shoe_size</th>\n",
       "      <th>shoe_width</th>\n",
       "      <th>review_summary</th>\n",
       "      <th>review_text</th>\n",
       "    </tr>\n",
       "  </thead>\n",
       "  <tbody>\n",
       "    <tr>\n",
       "      <th>2</th>\n",
       "      <td>NaN</td>\n",
       "      <td>7.0</td>\n",
       "      <td>NaN</td>\n",
       "      <td>NaN</td>\n",
       "      <td>NaN</td>\n",
       "      <td>NaN</td>\n",
       "      <td>NaN</td>\n",
       "      <td>NaN</td>\n",
       "      <td>NaN</td>\n",
       "      <td>NaN</td>\n",
       "      <td>NaN</td>\n",
       "      <td>NaN</td>\n",
       "      <td>NaN</td>\n",
       "      <td>NaN</td>\n",
       "      <td>NaN</td>\n",
       "      <td>NaN</td>\n",
       "    </tr>\n",
       "    <tr>\n",
       "      <th>4</th>\n",
       "      <td>NaN</td>\n",
       "      <td>NaN</td>\n",
       "      <td>NaN</td>\n",
       "      <td>NaN</td>\n",
       "      <td>NaN</td>\n",
       "      <td>NaN</td>\n",
       "      <td>NaN</td>\n",
       "      <td>NaN</td>\n",
       "      <td>NaN</td>\n",
       "      <td>NaN</td>\n",
       "      <td>NaN</td>\n",
       "      <td>NaN</td>\n",
       "      <td>NaN</td>\n",
       "      <td>NaN</td>\n",
       "      <td>NaN</td>\n",
       "      <td>NaN</td>\n",
       "    </tr>\n",
       "    <tr>\n",
       "      <th>5</th>\n",
       "      <td>NaN</td>\n",
       "      <td>NaN</td>\n",
       "      <td>NaN</td>\n",
       "      <td>NaN</td>\n",
       "      <td>NaN</td>\n",
       "      <td>NaN</td>\n",
       "      <td>NaN</td>\n",
       "      <td>NaN</td>\n",
       "      <td>NaN</td>\n",
       "      <td>NaN</td>\n",
       "      <td>NaN</td>\n",
       "      <td>NaN</td>\n",
       "      <td>NaN</td>\n",
       "      <td>NaN</td>\n",
       "      <td>NaN</td>\n",
       "      <td>NaN</td>\n",
       "    </tr>\n",
       "    <tr>\n",
       "      <th>7</th>\n",
       "      <td>NaN</td>\n",
       "      <td>NaN</td>\n",
       "      <td>NaN</td>\n",
       "      <td>NaN</td>\n",
       "      <td>NaN</td>\n",
       "      <td>NaN</td>\n",
       "      <td>NaN</td>\n",
       "      <td>NaN</td>\n",
       "      <td>NaN</td>\n",
       "      <td>NaN</td>\n",
       "      <td>NaN</td>\n",
       "      <td>NaN</td>\n",
       "      <td>NaN</td>\n",
       "      <td>NaN</td>\n",
       "      <td>NaN</td>\n",
       "      <td>NaN</td>\n",
       "    </tr>\n",
       "    <tr>\n",
       "      <th>8</th>\n",
       "      <td>NaN</td>\n",
       "      <td>NaN</td>\n",
       "      <td>NaN</td>\n",
       "      <td>NaN</td>\n",
       "      <td>NaN</td>\n",
       "      <td>NaN</td>\n",
       "      <td>NaN</td>\n",
       "      <td>NaN</td>\n",
       "      <td>NaN</td>\n",
       "      <td>NaN</td>\n",
       "      <td>NaN</td>\n",
       "      <td>NaN</td>\n",
       "      <td>NaN</td>\n",
       "      <td>NaN</td>\n",
       "      <td>NaN</td>\n",
       "      <td>NaN</td>\n",
       "    </tr>\n",
       "    <tr>\n",
       "      <th>...</th>\n",
       "      <td>...</td>\n",
       "      <td>...</td>\n",
       "      <td>...</td>\n",
       "      <td>...</td>\n",
       "      <td>...</td>\n",
       "      <td>...</td>\n",
       "      <td>...</td>\n",
       "      <td>...</td>\n",
       "      <td>...</td>\n",
       "      <td>...</td>\n",
       "      <td>...</td>\n",
       "      <td>...</td>\n",
       "      <td>...</td>\n",
       "      <td>...</td>\n",
       "      <td>...</td>\n",
       "      <td>...</td>\n",
       "    </tr>\n",
       "    <tr>\n",
       "      <th>82785</th>\n",
       "      <td>NaN</td>\n",
       "      <td>8.0</td>\n",
       "      <td>NaN</td>\n",
       "      <td>NaN</td>\n",
       "      <td>NaN</td>\n",
       "      <td>NaN</td>\n",
       "      <td>NaN</td>\n",
       "      <td>NaN</td>\n",
       "      <td>NaN</td>\n",
       "      <td>NaN</td>\n",
       "      <td>NaN</td>\n",
       "      <td>NaN</td>\n",
       "      <td>NaN</td>\n",
       "      <td>NaN</td>\n",
       "      <td>NaN</td>\n",
       "      <td>NaN</td>\n",
       "    </tr>\n",
       "    <tr>\n",
       "      <th>82786</th>\n",
       "      <td>NaN</td>\n",
       "      <td>NaN</td>\n",
       "      <td>NaN</td>\n",
       "      <td>NaN</td>\n",
       "      <td>NaN</td>\n",
       "      <td>NaN</td>\n",
       "      <td>NaN</td>\n",
       "      <td>NaN</td>\n",
       "      <td>NaN</td>\n",
       "      <td>NaN</td>\n",
       "      <td>NaN</td>\n",
       "      <td>NaN</td>\n",
       "      <td>NaN</td>\n",
       "      <td>NaN</td>\n",
       "      <td>NaN</td>\n",
       "      <td>NaN</td>\n",
       "    </tr>\n",
       "    <tr>\n",
       "      <th>82787</th>\n",
       "      <td>NaN</td>\n",
       "      <td>NaN</td>\n",
       "      <td>NaN</td>\n",
       "      <td>NaN</td>\n",
       "      <td>NaN</td>\n",
       "      <td>NaN</td>\n",
       "      <td>NaN</td>\n",
       "      <td>NaN</td>\n",
       "      <td>NaN</td>\n",
       "      <td>NaN</td>\n",
       "      <td>NaN</td>\n",
       "      <td>NaN</td>\n",
       "      <td>NaN</td>\n",
       "      <td>NaN</td>\n",
       "      <td>NaN</td>\n",
       "      <td>NaN</td>\n",
       "    </tr>\n",
       "    <tr>\n",
       "      <th>82788</th>\n",
       "      <td>NaN</td>\n",
       "      <td>NaN</td>\n",
       "      <td>NaN</td>\n",
       "      <td>NaN</td>\n",
       "      <td>NaN</td>\n",
       "      <td>NaN</td>\n",
       "      <td>NaN</td>\n",
       "      <td>NaN</td>\n",
       "      <td>NaN</td>\n",
       "      <td>NaN</td>\n",
       "      <td>NaN</td>\n",
       "      <td>NaN</td>\n",
       "      <td>NaN</td>\n",
       "      <td>NaN</td>\n",
       "      <td>NaN</td>\n",
       "      <td>NaN</td>\n",
       "    </tr>\n",
       "    <tr>\n",
       "      <th>82789</th>\n",
       "      <td>NaN</td>\n",
       "      <td>4.0</td>\n",
       "      <td>NaN</td>\n",
       "      <td>NaN</td>\n",
       "      <td>NaN</td>\n",
       "      <td>NaN</td>\n",
       "      <td>NaN</td>\n",
       "      <td>NaN</td>\n",
       "      <td>NaN</td>\n",
       "      <td>NaN</td>\n",
       "      <td>NaN</td>\n",
       "      <td>NaN</td>\n",
       "      <td>NaN</td>\n",
       "      <td>NaN</td>\n",
       "      <td>NaN</td>\n",
       "      <td>NaN</td>\n",
       "    </tr>\n",
       "  </tbody>\n",
       "</table>\n",
       "<p>81613 rows × 16 columns</p>\n",
       "</div>"
      ],
      "text/plain": [
       "      item_id  size  quality cup_size  hips  bra_size category  height  \\\n",
       "2         NaN   7.0      NaN      NaN   NaN       NaN      NaN     NaN   \n",
       "4         NaN   NaN      NaN      NaN   NaN       NaN      NaN     NaN   \n",
       "5         NaN   NaN      NaN      NaN   NaN       NaN      NaN     NaN   \n",
       "7         NaN   NaN      NaN      NaN   NaN       NaN      NaN     NaN   \n",
       "8         NaN   NaN      NaN      NaN   NaN       NaN      NaN     NaN   \n",
       "...       ...   ...      ...      ...   ...       ...      ...     ...   \n",
       "82785     NaN   8.0      NaN      NaN   NaN       NaN      NaN     NaN   \n",
       "82786     NaN   NaN      NaN      NaN   NaN       NaN      NaN     NaN   \n",
       "82787     NaN   NaN      NaN      NaN   NaN       NaN      NaN     NaN   \n",
       "82788     NaN   NaN      NaN      NaN   NaN       NaN      NaN     NaN   \n",
       "82789     NaN   4.0      NaN      NaN   NaN       NaN      NaN     NaN   \n",
       "\n",
       "      user_name length  fit user_id  shoe_size shoe_width review_summary  \\\n",
       "2           NaN    NaN  NaN     NaN        NaN        NaN            NaN   \n",
       "4           NaN    NaN  NaN     NaN        NaN        NaN            NaN   \n",
       "5           NaN    NaN  NaN     NaN        NaN        NaN            NaN   \n",
       "7           NaN    NaN  NaN     NaN        NaN        NaN            NaN   \n",
       "8           NaN    NaN  NaN     NaN        NaN        NaN            NaN   \n",
       "...         ...    ...  ...     ...        ...        ...            ...   \n",
       "82785       NaN    NaN  NaN     NaN        NaN        NaN            NaN   \n",
       "82786       NaN    NaN  NaN     NaN        NaN        NaN            NaN   \n",
       "82787       NaN    NaN  NaN     NaN        NaN        NaN            NaN   \n",
       "82788       NaN    NaN  NaN     NaN        NaN        NaN            NaN   \n",
       "82789       NaN    NaN  NaN     NaN        NaN        NaN            NaN   \n",
       "\n",
       "      review_text  \n",
       "2             NaN  \n",
       "4             NaN  \n",
       "5             NaN  \n",
       "7             NaN  \n",
       "8             NaN  \n",
       "...           ...  \n",
       "82785         NaN  \n",
       "82786         NaN  \n",
       "82787         NaN  \n",
       "82788         NaN  \n",
       "82789         NaN  \n",
       "\n",
       "[81613 rows x 16 columns]"
      ]
     },
     "execution_count": 42,
     "metadata": {},
     "output_type": "execute_result"
    }
   ],
   "source": [
    "Q1=df1.quantile(0.25)                                    # doubt\n",
    "Q2=df1.quantile(0.50)\n",
    "Q3=df1.quantile(0.75)\n",
    "IQR=Q3-Q1\n",
    "LL=(2.5*IQR)-Q1\n",
    "UL=(2.5*IQR)+Q3\n",
    "a=df1[(df1<LL)|(df1>UL)]\n",
    "a[a.duplicated()]"
   ]
  },
  {
   "cell_type": "code",
   "execution_count": 43,
   "id": "d1765b43",
   "metadata": {},
   "outputs": [
    {
     "name": "stdout",
     "output_type": "stream",
     "text": [
      "The number of outliers of size column is 38062\n",
      "The number of outliers of quality column is 1321\n",
      "The number of outliers of hips column is 0\n",
      "The number of outliers of bra_size column is 0\n",
      "The number of outliers of height column is 31\n",
      "The number of outliers of shoe_size column is 1\n"
     ]
    }
   ],
   "source": [
    "for i in num:\n",
    "    Q1=df1[i].quantile(0.25)\n",
    "    Q2=df1[i].quantile(0.50)\n",
    "    Q3=df1[i].quantile(0.75)\n",
    "    IQR=Q3-Q1\n",
    "    LL=(2.5*IQR)-Q1\n",
    "    UL=(2.5*IQR)+Q3\n",
    "    a=df1[(df1[i]<LL)|(df1[i]>UL)]\n",
    "    print(f\"The number of outliers of {i} column is {len(a)}\")\n"
   ]
  },
  {
   "cell_type": "code",
   "execution_count": 44,
   "id": "88875562",
   "metadata": {},
   "outputs": [],
   "source": [
    "# outliers=pd.DataFrame({})\n",
    "# for i in num:\n",
    "#     Q1=df1[i].quantile(0.25)\n",
    "#     Q2=df1[i].quantile(0.50)\n",
    "#     Q3=df1[i].quantile(0.75)\n",
    "#     IQR=Q3-Q1\n",
    "#     LL=(2.5*IQR)-Q1\n",
    "#     UL=(2.5*IQR)+Q3\n",
    "#     a=df1[(df1[i]<LL)|(df1[i]>UL)]\n",
    "# #     print(a,axis=0)\n",
    "#     print(pd.concat(outliers,a))"
   ]
  },
  {
   "cell_type": "markdown",
   "id": "1bb9bd37",
   "metadata": {},
   "source": [
    "## 6.Check for the category dress review and visualize the top 10 reviews using any relevant plot. Identify the negative reviews if there are any."
   ]
  },
  {
   "cell_type": "code",
   "execution_count": 45,
   "id": "865ae670",
   "metadata": {},
   "outputs": [],
   "source": [
    "a=df1[df1['category']=='dresses']"
   ]
  },
  {
   "cell_type": "code",
   "execution_count": 46,
   "id": "e89bbb88",
   "metadata": {},
   "outputs": [
    {
     "data": {
      "text/plain": [
       "<AxesSubplot:>"
      ]
     },
     "execution_count": 46,
     "metadata": {},
     "output_type": "execute_result"
    },
    {
     "data": {
      "image/png": "[encoded data removed]",
      "text/plain": [
       "<Figure size 432x288 with 1 Axes>"
      ]
     },
     "metadata": {
      "needs_background": "light"
     },
     "output_type": "display_data"
    }
   ],
   "source": [
    "a['review_summary'].value_counts().head(10).plot(kind='bar')"
   ]
  },
  {
   "cell_type": "markdown",
   "id": "d1559742",
   "metadata": {},
   "source": [
    "There are no negative reviews in top 10 reviews"
   ]
  },
  {
   "cell_type": "markdown",
   "id": "3f1be0cd",
   "metadata": {},
   "source": [
    "## 7. Find out the average shoe size for the different fits of the customer. Visualize  using any relevant plot. Explain that, Is there any significant different shoe sizes for different fits?"
   ]
  },
  {
   "cell_type": "code",
   "execution_count": 47,
   "id": "b3a87e06",
   "metadata": {},
   "outputs": [
    {
     "data": {
      "text/plain": [
       "fit\n",
       "fit      8.096849\n",
       "large    8.206374\n",
       "small    8.298404\n",
       "Name: shoe_size, dtype: float64"
      ]
     },
     "execution_count": 47,
     "metadata": {},
     "output_type": "execute_result"
    }
   ],
   "source": [
    "df1.groupby('fit')['shoe_size'].mean()"
   ]
  },
  {
   "cell_type": "code",
   "execution_count": 48,
   "id": "c634c547",
   "metadata": {},
   "outputs": [
    {
     "data": {
      "text/plain": [
       "<AxesSubplot:xlabel='fit'>"
      ]
     },
     "execution_count": 48,
     "metadata": {},
     "output_type": "execute_result"
    },
    {
     "data": {
      "image/png": "[encoded data removed]",
      "text/plain": [
       "<Figure size 432x288 with 1 Axes>"
      ]
     },
     "metadata": {
      "needs_background": "light"
     },
     "output_type": "display_data"
    }
   ],
   "source": [
    "df1.groupby('fit')['shoe_size'].mean().plot(kind='bar')"
   ]
  },
  {
   "cell_type": "raw",
   "id": "c61b537f",
   "metadata": {},
   "source": [
    "There is no significant different shoe sizes for different fits"
   ]
  },
  {
   "cell_type": "markdown",
   "id": "e30b6341",
   "metadata": {},
   "source": [
    "## 8. Identify the customer’s common shoe width and average size for those who purchased the maximum quality. Is the mode of shoe width affect the user review? Visualize using the appropriate plot"
   ]
  },
  {
   "cell_type": "code",
   "execution_count": 49,
   "id": "a943817f",
   "metadata": {},
   "outputs": [
    {
     "data": {
      "text/plain": [
       "5.0"
      ]
     },
     "execution_count": 49,
     "metadata": {},
     "output_type": "execute_result"
    }
   ],
   "source": [
    "df1['quality'].max()"
   ]
  },
  {
   "cell_type": "code",
   "execution_count": 50,
   "id": "e984d4ef",
   "metadata": {},
   "outputs": [
    {
     "data": {
      "text/plain": [
       "'average'"
      ]
     },
     "execution_count": 50,
     "metadata": {},
     "output_type": "execute_result"
    }
   ],
   "source": [
    "df1[df1['quality']==5]['shoe_width'].mode()[0]"
   ]
  },
  {
   "cell_type": "code",
   "execution_count": 51,
   "id": "12209367",
   "metadata": {},
   "outputs": [
    {
     "data": {
      "text/plain": [
       "8.11036339165545"
      ]
     },
     "execution_count": 51,
     "metadata": {},
     "output_type": "execute_result"
    }
   ],
   "source": [
    "df1[df1['quality']==5]['shoe_size'].mean()"
   ]
  },
  {
   "cell_type": "code",
   "execution_count": 52,
   "id": "38f5964a",
   "metadata": {},
   "outputs": [
    {
     "data": {
      "text/html": [
       "<div>\n",
       "<style scoped>\n",
       "    .dataframe tbody tr th:only-of-type {\n",
       "        vertical-align: middle;\n",
       "    }\n",
       "\n",
       "    .dataframe tbody tr th {\n",
       "        vertical-align: top;\n",
       "    }\n",
       "\n",
       "    .dataframe thead th {\n",
       "        text-align: right;\n",
       "    }\n",
       "</style>\n",
       "<table border=\"1\" class=\"dataframe\">\n",
       "  <thead>\n",
       "    <tr style=\"text-align: right;\">\n",
       "      <th></th>\n",
       "      <th>item_id</th>\n",
       "      <th>size</th>\n",
       "      <th>quality</th>\n",
       "      <th>cup_size</th>\n",
       "      <th>hips</th>\n",
       "      <th>bra_size</th>\n",
       "      <th>category</th>\n",
       "      <th>height</th>\n",
       "      <th>user_name</th>\n",
       "      <th>length</th>\n",
       "      <th>fit</th>\n",
       "      <th>user_id</th>\n",
       "      <th>shoe_size</th>\n",
       "      <th>shoe_width</th>\n",
       "      <th>review_summary</th>\n",
       "      <th>review_text</th>\n",
       "    </tr>\n",
       "  </thead>\n",
       "  <tbody>\n",
       "    <tr>\n",
       "      <th>21</th>\n",
       "      <td>123373</td>\n",
       "      <td>5</td>\n",
       "      <td>5.0</td>\n",
       "      <td>b</td>\n",
       "      <td>45.0</td>\n",
       "      <td>34.0</td>\n",
       "      <td>new</td>\n",
       "      <td>5.7</td>\n",
       "      <td>dputvin</td>\n",
       "      <td>just right</td>\n",
       "      <td>large</td>\n",
       "      <td>4905</td>\n",
       "      <td>7.0</td>\n",
       "      <td>average</td>\n",
       "      <td>no review</td>\n",
       "      <td>no review</td>\n",
       "    </tr>\n",
       "    <tr>\n",
       "      <th>23</th>\n",
       "      <td>123373</td>\n",
       "      <td>5</td>\n",
       "      <td>5.0</td>\n",
       "      <td>c</td>\n",
       "      <td>32.0</td>\n",
       "      <td>34.0</td>\n",
       "      <td>new</td>\n",
       "      <td>5.1</td>\n",
       "      <td>Michelle</td>\n",
       "      <td>just right</td>\n",
       "      <td>small</td>\n",
       "      <td>990166</td>\n",
       "      <td>7.0</td>\n",
       "      <td>average</td>\n",
       "      <td>no review</td>\n",
       "      <td>no review</td>\n",
       "    </tr>\n",
       "    <tr>\n",
       "      <th>36</th>\n",
       "      <td>123373</td>\n",
       "      <td>18</td>\n",
       "      <td>5.0</td>\n",
       "      <td>c</td>\n",
       "      <td>NaN</td>\n",
       "      <td>36.0</td>\n",
       "      <td>new</td>\n",
       "      <td>5.7</td>\n",
       "      <td>Angela</td>\n",
       "      <td>just right</td>\n",
       "      <td>fit</td>\n",
       "      <td>634656</td>\n",
       "      <td>8.5</td>\n",
       "      <td>average</td>\n",
       "      <td>no review</td>\n",
       "      <td>no review</td>\n",
       "    </tr>\n",
       "    <tr>\n",
       "      <th>40</th>\n",
       "      <td>123373</td>\n",
       "      <td>18</td>\n",
       "      <td>5.0</td>\n",
       "      <td>ddd/f</td>\n",
       "      <td>44.0</td>\n",
       "      <td>38.0</td>\n",
       "      <td>new</td>\n",
       "      <td>5.4</td>\n",
       "      <td>Michelle</td>\n",
       "      <td>just right</td>\n",
       "      <td>small</td>\n",
       "      <td>889569</td>\n",
       "      <td>8.5</td>\n",
       "      <td>average</td>\n",
       "      <td>no review</td>\n",
       "      <td>no review</td>\n",
       "    </tr>\n",
       "    <tr>\n",
       "      <th>49</th>\n",
       "      <td>123373</td>\n",
       "      <td>11</td>\n",
       "      <td>5.0</td>\n",
       "      <td>c</td>\n",
       "      <td>37.0</td>\n",
       "      <td>36.0</td>\n",
       "      <td>new</td>\n",
       "      <td>5.2</td>\n",
       "      <td>Janine</td>\n",
       "      <td>slightly long</td>\n",
       "      <td>small</td>\n",
       "      <td>117413</td>\n",
       "      <td>6.0</td>\n",
       "      <td>average</td>\n",
       "      <td>no review</td>\n",
       "      <td>no review</td>\n",
       "    </tr>\n",
       "    <tr>\n",
       "      <th>...</th>\n",
       "      <td>...</td>\n",
       "      <td>...</td>\n",
       "      <td>...</td>\n",
       "      <td>...</td>\n",
       "      <td>...</td>\n",
       "      <td>...</td>\n",
       "      <td>...</td>\n",
       "      <td>...</td>\n",
       "      <td>...</td>\n",
       "      <td>...</td>\n",
       "      <td>...</td>\n",
       "      <td>...</td>\n",
       "      <td>...</td>\n",
       "      <td>...</td>\n",
       "      <td>...</td>\n",
       "      <td>...</td>\n",
       "    </tr>\n",
       "    <tr>\n",
       "      <th>82771</th>\n",
       "      <td>807722</td>\n",
       "      <td>8</td>\n",
       "      <td>4.0</td>\n",
       "      <td>b</td>\n",
       "      <td>NaN</td>\n",
       "      <td>34.0</td>\n",
       "      <td>outerwear</td>\n",
       "      <td>5.8</td>\n",
       "      <td>Kat</td>\n",
       "      <td>just right</td>\n",
       "      <td>fit</td>\n",
       "      <td>975516</td>\n",
       "      <td>8.5</td>\n",
       "      <td>average</td>\n",
       "      <td>Great color and fit. You</td>\n",
       "      <td>Great color and fit. You can dress this up or ...</td>\n",
       "    </tr>\n",
       "    <tr>\n",
       "      <th>82775</th>\n",
       "      <td>807722</td>\n",
       "      <td>12</td>\n",
       "      <td>4.0</td>\n",
       "      <td>ddd/f</td>\n",
       "      <td>40.0</td>\n",
       "      <td>34.0</td>\n",
       "      <td>outerwear</td>\n",
       "      <td>5.4</td>\n",
       "      <td>beezy13</td>\n",
       "      <td>just right</td>\n",
       "      <td>fit</td>\n",
       "      <td>808373</td>\n",
       "      <td>9.0</td>\n",
       "      <td>average</td>\n",
       "      <td>I love this jacket; it lo</td>\n",
       "      <td>I love this jacket; it looks great with a lot ...</td>\n",
       "    </tr>\n",
       "    <tr>\n",
       "      <th>82779</th>\n",
       "      <td>807722</td>\n",
       "      <td>12</td>\n",
       "      <td>4.0</td>\n",
       "      <td>dd/e</td>\n",
       "      <td>38.0</td>\n",
       "      <td>36.0</td>\n",
       "      <td>outerwear</td>\n",
       "      <td>5.7</td>\n",
       "      <td>lmoore81</td>\n",
       "      <td>just right</td>\n",
       "      <td>small</td>\n",
       "      <td>370303</td>\n",
       "      <td>7.5</td>\n",
       "      <td>average</td>\n",
       "      <td>Got this in black and rec</td>\n",
       "      <td>Got this in black and received so many complim...</td>\n",
       "    </tr>\n",
       "    <tr>\n",
       "      <th>82784</th>\n",
       "      <td>807722</td>\n",
       "      <td>4</td>\n",
       "      <td>3.0</td>\n",
       "      <td>a</td>\n",
       "      <td>35.0</td>\n",
       "      <td>32.0</td>\n",
       "      <td>outerwear</td>\n",
       "      <td>5.1</td>\n",
       "      <td>ciwheeles</td>\n",
       "      <td>just right</td>\n",
       "      <td>large</td>\n",
       "      <td>317420</td>\n",
       "      <td>6.5</td>\n",
       "      <td>average</td>\n",
       "      <td>It ran a little big, and</td>\n",
       "      <td>It ran a little big, and I'm not crazy about t...</td>\n",
       "    </tr>\n",
       "    <tr>\n",
       "      <th>82785</th>\n",
       "      <td>807722</td>\n",
       "      <td>8</td>\n",
       "      <td>4.0</td>\n",
       "      <td>b</td>\n",
       "      <td>NaN</td>\n",
       "      <td>36.0</td>\n",
       "      <td>outerwear</td>\n",
       "      <td>5.8</td>\n",
       "      <td>Jennifer</td>\n",
       "      <td>just right</td>\n",
       "      <td>fit</td>\n",
       "      <td>727820</td>\n",
       "      <td>8.5</td>\n",
       "      <td>average</td>\n",
       "      <td>Cute jacket!</td>\n",
       "      <td>Cute jacket!</td>\n",
       "    </tr>\n",
       "  </tbody>\n",
       "</table>\n",
       "<p>12958 rows × 16 columns</p>\n",
       "</div>"
      ],
      "text/plain": [
       "      item_id  size  quality cup_size  hips  bra_size   category  height  \\\n",
       "21     123373     5      5.0        b  45.0      34.0        new     5.7   \n",
       "23     123373     5      5.0        c  32.0      34.0        new     5.1   \n",
       "36     123373    18      5.0        c   NaN      36.0        new     5.7   \n",
       "40     123373    18      5.0    ddd/f  44.0      38.0        new     5.4   \n",
       "49     123373    11      5.0        c  37.0      36.0        new     5.2   \n",
       "...       ...   ...      ...      ...   ...       ...        ...     ...   \n",
       "82771  807722     8      4.0        b   NaN      34.0  outerwear     5.8   \n",
       "82775  807722    12      4.0    ddd/f  40.0      34.0  outerwear     5.4   \n",
       "82779  807722    12      4.0     dd/e  38.0      36.0  outerwear     5.7   \n",
       "82784  807722     4      3.0        a  35.0      32.0  outerwear     5.1   \n",
       "82785  807722     8      4.0        b   NaN      36.0  outerwear     5.8   \n",
       "\n",
       "       user_name         length    fit user_id  shoe_size shoe_width  \\\n",
       "21       dputvin     just right  large    4905        7.0    average   \n",
       "23      Michelle     just right  small  990166        7.0    average   \n",
       "36        Angela     just right    fit  634656        8.5    average   \n",
       "40      Michelle     just right  small  889569        8.5    average   \n",
       "49        Janine  slightly long  small  117413        6.0    average   \n",
       "...          ...            ...    ...     ...        ...        ...   \n",
       "82771        Kat     just right    fit  975516        8.5    average   \n",
       "82775    beezy13     just right    fit  808373        9.0    average   \n",
       "82779   lmoore81     just right  small  370303        7.5    average   \n",
       "82784  ciwheeles     just right  large  317420        6.5    average   \n",
       "82785   Jennifer     just right    fit  727820        8.5    average   \n",
       "\n",
       "                  review_summary  \\\n",
       "21                     no review   \n",
       "23                     no review   \n",
       "36                     no review   \n",
       "40                     no review   \n",
       "49                     no review   \n",
       "...                          ...   \n",
       "82771   Great color and fit. You   \n",
       "82775  I love this jacket; it lo   \n",
       "82779  Got this in black and rec   \n",
       "82784   It ran a little big, and   \n",
       "82785               Cute jacket!   \n",
       "\n",
       "                                             review_text  \n",
       "21                                             no review  \n",
       "23                                             no review  \n",
       "36                                             no review  \n",
       "40                                             no review  \n",
       "49                                             no review  \n",
       "...                                                  ...  \n",
       "82771  Great color and fit. You can dress this up or ...  \n",
       "82775  I love this jacket; it looks great with a lot ...  \n",
       "82779  Got this in black and received so many complim...  \n",
       "82784  It ran a little big, and I'm not crazy about t...  \n",
       "82785                                       Cute jacket!  \n",
       "\n",
       "[12958 rows x 16 columns]"
      ]
     },
     "execution_count": 52,
     "metadata": {},
     "output_type": "execute_result"
    }
   ],
   "source": [
    "a=df1[df1['shoe_width']=='average']\n",
    "a"
   ]
  },
  {
   "cell_type": "code",
   "execution_count": null,
   "id": "ed1e5777",
   "metadata": {},
   "outputs": [],
   "source": []
  },
  {
   "cell_type": "code",
   "execution_count": null,
   "id": "d4399b28",
   "metadata": {},
   "outputs": [],
   "source": []
  },
  {
   "cell_type": "markdown",
   "id": "71bc48b5",
   "metadata": {},
   "source": [
    "## 9. Extract the records belonging to the top 10 reviews, and then find the review summary for the different cup sizes. The basic analysis explains what you would try to infer. Try to use visualization."
   ]
  },
  {
   "cell_type": "code",
   "execution_count": 53,
   "id": "4874a23d",
   "metadata": {},
   "outputs": [
    {
     "data": {
      "text/plain": [
       "no review                    6619\n",
       "Love it!                      182\n",
       "I absolutely love this dr     123\n",
       "I really wanted to love t      92\n",
       "Love it                        91\n",
       "I love this dress so much      83\n",
       "This is one of my favorit      83\n",
       ".                              75\n",
       "I get so many compliments      70\n",
       "Perfect!                       69\n",
       "Name: review_summary, dtype: int64"
      ]
     },
     "execution_count": 53,
     "metadata": {},
     "output_type": "execute_result"
    }
   ],
   "source": [
    "\n",
    "df1['review_summary'].value_counts().head(10)        #dbt"
   ]
  },
  {
   "cell_type": "markdown",
   "id": "7fe22568",
   "metadata": {},
   "source": [
    "## 10. Identify the most common review that we got from the customer whose hips size is greater than 35. Find out what kind of inference you can make"
   ]
  },
  {
   "cell_type": "code",
   "execution_count": 54,
   "id": "d8fd2e84",
   "metadata": {},
   "outputs": [
    {
     "data": {
      "text/plain": [
       "'no review'"
      ]
     },
     "execution_count": 54,
     "metadata": {},
     "output_type": "execute_result"
    }
   ],
   "source": [
    "a=df1[df1['hips']>35]                          # cleaned df       \n",
    "a['review_summary'].mode()[0]"
   ]
  },
  {
   "cell_type": "raw",
   "id": "3637ddc0",
   "metadata": {},
   "source": [
    "most customer whose hips size is greater than 35 have not entered the reviews."
   ]
  },
  {
   "cell_type": "code",
   "execution_count": 55,
   "id": "2478fd89",
   "metadata": {},
   "outputs": [
    {
     "data": {
      "text/plain": [
       "'Love it!'"
      ]
     },
     "execution_count": 55,
     "metadata": {},
     "output_type": "execute_result"
    }
   ],
   "source": [
    "a=df[df['hips']>35]                     # done in df as imputation mistake\n",
    "a['review_summary'].mode()[0]"
   ]
  },
  {
   "cell_type": "raw",
   "id": "4e62daac",
   "metadata": {},
   "source": [
    "most customer whose hips size is greater than 35 have liked the product."
   ]
  },
  {
   "cell_type": "markdown",
   "id": "a384b040",
   "metadata": {},
   "source": [
    "## 11. What is the relationship between height and weight? Describe what kind of relationship it has."
   ]
  },
  {
   "cell_type": "code",
   "execution_count": 56,
   "id": "29048214",
   "metadata": {},
   "outputs": [
    {
     "data": {
      "text/html": [
       "<div>\n",
       "<style scoped>\n",
       "    .dataframe tbody tr th:only-of-type {\n",
       "        vertical-align: middle;\n",
       "    }\n",
       "\n",
       "    .dataframe tbody tr th {\n",
       "        vertical-align: top;\n",
       "    }\n",
       "\n",
       "    .dataframe thead th {\n",
       "        text-align: right;\n",
       "    }\n",
       "</style>\n",
       "<table border=\"1\" class=\"dataframe\">\n",
       "  <thead>\n",
       "    <tr style=\"text-align: right;\">\n",
       "      <th></th>\n",
       "      <th>item_id</th>\n",
       "      <th>size</th>\n",
       "      <th>quality</th>\n",
       "      <th>cup_size</th>\n",
       "      <th>hips</th>\n",
       "      <th>bra_size</th>\n",
       "      <th>category</th>\n",
       "      <th>height</th>\n",
       "      <th>user_name</th>\n",
       "      <th>length</th>\n",
       "      <th>fit</th>\n",
       "      <th>user_id</th>\n",
       "      <th>shoe_size</th>\n",
       "      <th>shoe_width</th>\n",
       "      <th>review_summary</th>\n",
       "      <th>review_text</th>\n",
       "    </tr>\n",
       "  </thead>\n",
       "  <tbody>\n",
       "    <tr>\n",
       "      <th>0</th>\n",
       "      <td>123373</td>\n",
       "      <td>7</td>\n",
       "      <td>5.0</td>\n",
       "      <td>d</td>\n",
       "      <td>38.0</td>\n",
       "      <td>34.0</td>\n",
       "      <td>new</td>\n",
       "      <td>5.6</td>\n",
       "      <td>Emily</td>\n",
       "      <td>just right</td>\n",
       "      <td>small</td>\n",
       "      <td>991571</td>\n",
       "      <td>NaN</td>\n",
       "      <td>NaN</td>\n",
       "      <td>no review</td>\n",
       "      <td>no review</td>\n",
       "    </tr>\n",
       "    <tr>\n",
       "      <th>1</th>\n",
       "      <td>123373</td>\n",
       "      <td>13</td>\n",
       "      <td>3.0</td>\n",
       "      <td>b</td>\n",
       "      <td>30.0</td>\n",
       "      <td>36.0</td>\n",
       "      <td>new</td>\n",
       "      <td>5.2</td>\n",
       "      <td>sydneybraden2001</td>\n",
       "      <td>just right</td>\n",
       "      <td>small</td>\n",
       "      <td>587883</td>\n",
       "      <td>NaN</td>\n",
       "      <td>NaN</td>\n",
       "      <td>no review</td>\n",
       "      <td>no review</td>\n",
       "    </tr>\n",
       "    <tr>\n",
       "      <th>2</th>\n",
       "      <td>123373</td>\n",
       "      <td>7</td>\n",
       "      <td>2.0</td>\n",
       "      <td>b</td>\n",
       "      <td>35.0</td>\n",
       "      <td>32.0</td>\n",
       "      <td>new</td>\n",
       "      <td>5.7</td>\n",
       "      <td>Ugggh</td>\n",
       "      <td>slightly long</td>\n",
       "      <td>small</td>\n",
       "      <td>395665</td>\n",
       "      <td>9.0</td>\n",
       "      <td>NaN</td>\n",
       "      <td>no review</td>\n",
       "      <td>no review</td>\n",
       "    </tr>\n",
       "    <tr>\n",
       "      <th>4</th>\n",
       "      <td>123373</td>\n",
       "      <td>18</td>\n",
       "      <td>5.0</td>\n",
       "      <td>b</td>\n",
       "      <td>36.0</td>\n",
       "      <td>36.0</td>\n",
       "      <td>new</td>\n",
       "      <td>5.2</td>\n",
       "      <td>dberrones1</td>\n",
       "      <td>slightly long</td>\n",
       "      <td>small</td>\n",
       "      <td>944840</td>\n",
       "      <td>NaN</td>\n",
       "      <td>NaN</td>\n",
       "      <td>no review</td>\n",
       "      <td>no review</td>\n",
       "    </tr>\n",
       "    <tr>\n",
       "      <th>5</th>\n",
       "      <td>123373</td>\n",
       "      <td>11</td>\n",
       "      <td>5.0</td>\n",
       "      <td>c</td>\n",
       "      <td>41.0</td>\n",
       "      <td>36.0</td>\n",
       "      <td>new</td>\n",
       "      <td>5.4</td>\n",
       "      <td>Doreenajane</td>\n",
       "      <td>just right</td>\n",
       "      <td>small</td>\n",
       "      <td>162012</td>\n",
       "      <td>NaN</td>\n",
       "      <td>NaN</td>\n",
       "      <td>no review</td>\n",
       "      <td>no review</td>\n",
       "    </tr>\n",
       "    <tr>\n",
       "      <th>...</th>\n",
       "      <td>...</td>\n",
       "      <td>...</td>\n",
       "      <td>...</td>\n",
       "      <td>...</td>\n",
       "      <td>...</td>\n",
       "      <td>...</td>\n",
       "      <td>...</td>\n",
       "      <td>...</td>\n",
       "      <td>...</td>\n",
       "      <td>...</td>\n",
       "      <td>...</td>\n",
       "      <td>...</td>\n",
       "      <td>...</td>\n",
       "      <td>...</td>\n",
       "      <td>...</td>\n",
       "      <td>...</td>\n",
       "    </tr>\n",
       "    <tr>\n",
       "      <th>82785</th>\n",
       "      <td>807722</td>\n",
       "      <td>8</td>\n",
       "      <td>4.0</td>\n",
       "      <td>b</td>\n",
       "      <td>NaN</td>\n",
       "      <td>36.0</td>\n",
       "      <td>outerwear</td>\n",
       "      <td>5.8</td>\n",
       "      <td>Jennifer</td>\n",
       "      <td>just right</td>\n",
       "      <td>fit</td>\n",
       "      <td>727820</td>\n",
       "      <td>8.5</td>\n",
       "      <td>average</td>\n",
       "      <td>Cute jacket!</td>\n",
       "      <td>Cute jacket!</td>\n",
       "    </tr>\n",
       "    <tr>\n",
       "      <th>82786</th>\n",
       "      <td>807722</td>\n",
       "      <td>12</td>\n",
       "      <td>5.0</td>\n",
       "      <td>ddd/f</td>\n",
       "      <td>NaN</td>\n",
       "      <td>34.0</td>\n",
       "      <td>outerwear</td>\n",
       "      <td>5.5</td>\n",
       "      <td>Kelli</td>\n",
       "      <td>slightly long</td>\n",
       "      <td>small</td>\n",
       "      <td>197040</td>\n",
       "      <td>NaN</td>\n",
       "      <td>NaN</td>\n",
       "      <td>It's a beautiful jacket.</td>\n",
       "      <td>It's a beautiful jacket. I love how it's knit ...</td>\n",
       "    </tr>\n",
       "    <tr>\n",
       "      <th>82787</th>\n",
       "      <td>807722</td>\n",
       "      <td>12</td>\n",
       "      <td>5.0</td>\n",
       "      <td>dddd/g</td>\n",
       "      <td>36.0</td>\n",
       "      <td>32.0</td>\n",
       "      <td>outerwear</td>\n",
       "      <td>5.4</td>\n",
       "      <td>elacount</td>\n",
       "      <td>just right</td>\n",
       "      <td>fit</td>\n",
       "      <td>102493</td>\n",
       "      <td>NaN</td>\n",
       "      <td>NaN</td>\n",
       "      <td>I love this blazer. It is</td>\n",
       "      <td>I love this blazer. It is a great office piece...</td>\n",
       "    </tr>\n",
       "    <tr>\n",
       "      <th>82788</th>\n",
       "      <td>807722</td>\n",
       "      <td>12</td>\n",
       "      <td>4.0</td>\n",
       "      <td>c</td>\n",
       "      <td>NaN</td>\n",
       "      <td>36.0</td>\n",
       "      <td>outerwear</td>\n",
       "      <td>5.3</td>\n",
       "      <td>jennaklinner</td>\n",
       "      <td>just right</td>\n",
       "      <td>fit</td>\n",
       "      <td>756491</td>\n",
       "      <td>NaN</td>\n",
       "      <td>NaN</td>\n",
       "      <td>I love this blazer!! I wo</td>\n",
       "      <td>I love this blazer!! I wore it yesterday and g...</td>\n",
       "    </tr>\n",
       "    <tr>\n",
       "      <th>82789</th>\n",
       "      <td>807722</td>\n",
       "      <td>4</td>\n",
       "      <td>4.0</td>\n",
       "      <td>d</td>\n",
       "      <td>39.0</td>\n",
       "      <td>32.0</td>\n",
       "      <td>outerwear</td>\n",
       "      <td>6.0</td>\n",
       "      <td>maireadsteadman</td>\n",
       "      <td>just right</td>\n",
       "      <td>fit</td>\n",
       "      <td>78305</td>\n",
       "      <td>NaN</td>\n",
       "      <td>NaN</td>\n",
       "      <td>I love this piece. I'm re</td>\n",
       "      <td>I love this piece. I'm really happy with it!</td>\n",
       "    </tr>\n",
       "  </tbody>\n",
       "</table>\n",
       "<p>81649 rows × 16 columns</p>\n",
       "</div>"
      ],
      "text/plain": [
       "      item_id  size  quality cup_size  hips  bra_size   category  height  \\\n",
       "0      123373     7      5.0        d  38.0      34.0        new     5.6   \n",
       "1      123373    13      3.0        b  30.0      36.0        new     5.2   \n",
       "2      123373     7      2.0        b  35.0      32.0        new     5.7   \n",
       "4      123373    18      5.0        b  36.0      36.0        new     5.2   \n",
       "5      123373    11      5.0        c  41.0      36.0        new     5.4   \n",
       "...       ...   ...      ...      ...   ...       ...        ...     ...   \n",
       "82785  807722     8      4.0        b   NaN      36.0  outerwear     5.8   \n",
       "82786  807722    12      5.0    ddd/f   NaN      34.0  outerwear     5.5   \n",
       "82787  807722    12      5.0   dddd/g  36.0      32.0  outerwear     5.4   \n",
       "82788  807722    12      4.0        c   NaN      36.0  outerwear     5.3   \n",
       "82789  807722     4      4.0        d  39.0      32.0  outerwear     6.0   \n",
       "\n",
       "              user_name         length    fit user_id  shoe_size shoe_width  \\\n",
       "0                 Emily     just right  small  991571        NaN        NaN   \n",
       "1      sydneybraden2001     just right  small  587883        NaN        NaN   \n",
       "2                 Ugggh  slightly long  small  395665        9.0        NaN   \n",
       "4            dberrones1  slightly long  small  944840        NaN        NaN   \n",
       "5           Doreenajane     just right  small  162012        NaN        NaN   \n",
       "...                 ...            ...    ...     ...        ...        ...   \n",
       "82785          Jennifer     just right    fit  727820        8.5    average   \n",
       "82786             Kelli  slightly long  small  197040        NaN        NaN   \n",
       "82787          elacount     just right    fit  102493        NaN        NaN   \n",
       "82788      jennaklinner     just right    fit  756491        NaN        NaN   \n",
       "82789   maireadsteadman     just right    fit   78305        NaN        NaN   \n",
       "\n",
       "                  review_summary  \\\n",
       "0                      no review   \n",
       "1                      no review   \n",
       "2                      no review   \n",
       "4                      no review   \n",
       "5                      no review   \n",
       "...                          ...   \n",
       "82785               Cute jacket!   \n",
       "82786   It's a beautiful jacket.   \n",
       "82787  I love this blazer. It is   \n",
       "82788  I love this blazer!! I wo   \n",
       "82789  I love this piece. I'm re   \n",
       "\n",
       "                                             review_text  \n",
       "0                                              no review  \n",
       "1                                              no review  \n",
       "2                                              no review  \n",
       "4                                              no review  \n",
       "5                                              no review  \n",
       "...                                                  ...  \n",
       "82785                                       Cute jacket!  \n",
       "82786  It's a beautiful jacket. I love how it's knit ...  \n",
       "82787  I love this blazer. It is a great office piece...  \n",
       "82788  I love this blazer!! I wore it yesterday and g...  \n",
       "82789       I love this piece. I'm really happy with it!  \n",
       "\n",
       "[81649 rows x 16 columns]"
      ]
     },
     "execution_count": 56,
     "metadata": {},
     "output_type": "execute_result"
    }
   ],
   "source": [
    "df1"
   ]
  },
  {
   "cell_type": "code",
   "execution_count": null,
   "id": "7d48580a",
   "metadata": {},
   "outputs": [],
   "source": []
  },
  {
   "cell_type": "markdown",
   "id": "a2030e5c",
   "metadata": {},
   "source": [
    "## 12. Plot the pair plot for the numerical plot. Explain according to your problem statement how the pair plot would help you.\n",
    "Problem Statement:\n",
    "Let’s assume you are working as a data scientist in a newly started textile company.\n",
    "You have given a dataset that consists of most of the features related to the\n",
    "measurements, clothes types, Product ID, User ID, etc. Now you suppose to work the\n",
    "dataset to identify the patterns to understand the customer’s preferred brands and how\n",
    "the company needs to brand its products based on the patterns that you will be found\n",
    "them out. Explore all the EDA concepts you learned and use a statistical test to ensure\n",
    "that your identification is true or false.\n"
   ]
  },
  {
   "cell_type": "code",
   "execution_count": 57,
   "id": "d8dd25be",
   "metadata": {},
   "outputs": [
    {
     "data": {
      "image/png": "[encoded data removed]",
      "text/plain": [
       "<Figure size 1080x1080 with 42 Axes>"
      ]
     },
     "metadata": {
      "needs_background": "light"
     },
     "output_type": "display_data"
    }
   ],
   "source": [
    "num=df1.select_dtypes(include=np.number)\n",
    "sns.pairplot(num)\n",
    "plt.show()"
   ]
  },
  {
   "cell_type": "markdown",
   "id": "460b8409",
   "metadata": {},
   "source": [
    "# Statistical Analysis:"
   ]
  },
  {
   "cell_type": "markdown",
   "id": "7612e280",
   "metadata": {},
   "source": [
    "##  1. Test the claim that the category feature and review summary have any relationship among them. The level of significance is 5%."
   ]
  },
  {
   "cell_type": "code",
   "execution_count": 96,
   "id": "d90a04a0",
   "metadata": {},
   "outputs": [],
   "source": [
    "from scipy import stats"
   ]
  },
  {
   "cell_type": "code",
   "execution_count": 93,
   "id": "539e4615",
   "metadata": {},
   "outputs": [
    {
     "data": {
      "text/html": [
       "<div>\n",
       "<style scoped>\n",
       "    .dataframe tbody tr th:only-of-type {\n",
       "        vertical-align: middle;\n",
       "    }\n",
       "\n",
       "    .dataframe tbody tr th {\n",
       "        vertical-align: top;\n",
       "    }\n",
       "\n",
       "    .dataframe thead th {\n",
       "        text-align: right;\n",
       "    }\n",
       "</style>\n",
       "<table border=\"1\" class=\"dataframe\">\n",
       "  <thead>\n",
       "    <tr style=\"text-align: right;\">\n",
       "      <th>review_summary</th>\n",
       "      <th>!</th>\n",
       "      <th>!!!</th>\n",
       "      <th>!!!!</th>\n",
       "      <th>#4 for me! I'm collecting</th>\n",
       "      <th>#FashionDeux  Absolutely</th>\n",
       "      <th>#FashionDeux  This is the</th>\n",
       "      <th>#FashionDeux I have been</th>\n",
       "      <th>#FashionDeux This skirt i</th>\n",
       "      <th>#Review ContestAlthough t</th>\n",
       "      <th>#ReviewContest</th>\n",
       "      <th>...</th>\n",
       "      <th>you get what you pay for</th>\n",
       "      <th>you have it in other colo</th>\n",
       "      <th>you know who this dress d</th>\n",
       "      <th>you need every color</th>\n",
       "      <th>you should buy every colo</th>\n",
       "      <th>you shouldn't have to spe</th>\n",
       "      <th>yup.</th>\n",
       "      <th>yup. This coat is amazing</th>\n",
       "      <th>zipper stuck a little, bu</th>\n",
       "      <th>zipper very difficult to</th>\n",
       "    </tr>\n",
       "    <tr>\n",
       "      <th>category</th>\n",
       "      <th></th>\n",
       "      <th></th>\n",
       "      <th></th>\n",
       "      <th></th>\n",
       "      <th></th>\n",
       "      <th></th>\n",
       "      <th></th>\n",
       "      <th></th>\n",
       "      <th></th>\n",
       "      <th></th>\n",
       "      <th></th>\n",
       "      <th></th>\n",
       "      <th></th>\n",
       "      <th></th>\n",
       "      <th></th>\n",
       "      <th></th>\n",
       "      <th></th>\n",
       "      <th></th>\n",
       "      <th></th>\n",
       "      <th></th>\n",
       "      <th></th>\n",
       "    </tr>\n",
       "  </thead>\n",
       "  <tbody>\n",
       "    <tr>\n",
       "      <th>bottoms</th>\n",
       "      <td>1</td>\n",
       "      <td>0</td>\n",
       "      <td>1</td>\n",
       "      <td>0</td>\n",
       "      <td>1</td>\n",
       "      <td>0</td>\n",
       "      <td>0</td>\n",
       "      <td>1</td>\n",
       "      <td>0</td>\n",
       "      <td>0</td>\n",
       "      <td>...</td>\n",
       "      <td>0</td>\n",
       "      <td>0</td>\n",
       "      <td>0</td>\n",
       "      <td>0</td>\n",
       "      <td>0</td>\n",
       "      <td>0</td>\n",
       "      <td>0</td>\n",
       "      <td>0</td>\n",
       "      <td>0</td>\n",
       "      <td>0</td>\n",
       "    </tr>\n",
       "    <tr>\n",
       "      <th>dresses</th>\n",
       "      <td>0</td>\n",
       "      <td>0</td>\n",
       "      <td>0</td>\n",
       "      <td>0</td>\n",
       "      <td>0</td>\n",
       "      <td>0</td>\n",
       "      <td>1</td>\n",
       "      <td>0</td>\n",
       "      <td>0</td>\n",
       "      <td>0</td>\n",
       "      <td>...</td>\n",
       "      <td>0</td>\n",
       "      <td>0</td>\n",
       "      <td>1</td>\n",
       "      <td>0</td>\n",
       "      <td>0</td>\n",
       "      <td>1</td>\n",
       "      <td>0</td>\n",
       "      <td>0</td>\n",
       "      <td>0</td>\n",
       "      <td>1</td>\n",
       "    </tr>\n",
       "    <tr>\n",
       "      <th>new</th>\n",
       "      <td>0</td>\n",
       "      <td>0</td>\n",
       "      <td>0</td>\n",
       "      <td>0</td>\n",
       "      <td>0</td>\n",
       "      <td>1</td>\n",
       "      <td>0</td>\n",
       "      <td>0</td>\n",
       "      <td>1</td>\n",
       "      <td>1</td>\n",
       "      <td>...</td>\n",
       "      <td>0</td>\n",
       "      <td>0</td>\n",
       "      <td>0</td>\n",
       "      <td>0</td>\n",
       "      <td>1</td>\n",
       "      <td>0</td>\n",
       "      <td>0</td>\n",
       "      <td>0</td>\n",
       "      <td>1</td>\n",
       "      <td>0</td>\n",
       "    </tr>\n",
       "    <tr>\n",
       "      <th>outerwear</th>\n",
       "      <td>0</td>\n",
       "      <td>0</td>\n",
       "      <td>0</td>\n",
       "      <td>0</td>\n",
       "      <td>0</td>\n",
       "      <td>0</td>\n",
       "      <td>0</td>\n",
       "      <td>0</td>\n",
       "      <td>0</td>\n",
       "      <td>0</td>\n",
       "      <td>...</td>\n",
       "      <td>0</td>\n",
       "      <td>0</td>\n",
       "      <td>0</td>\n",
       "      <td>0</td>\n",
       "      <td>0</td>\n",
       "      <td>0</td>\n",
       "      <td>0</td>\n",
       "      <td>1</td>\n",
       "      <td>0</td>\n",
       "      <td>0</td>\n",
       "    </tr>\n",
       "    <tr>\n",
       "      <th>sale</th>\n",
       "      <td>0</td>\n",
       "      <td>0</td>\n",
       "      <td>0</td>\n",
       "      <td>0</td>\n",
       "      <td>0</td>\n",
       "      <td>0</td>\n",
       "      <td>0</td>\n",
       "      <td>0</td>\n",
       "      <td>0</td>\n",
       "      <td>0</td>\n",
       "      <td>...</td>\n",
       "      <td>0</td>\n",
       "      <td>0</td>\n",
       "      <td>0</td>\n",
       "      <td>0</td>\n",
       "      <td>0</td>\n",
       "      <td>0</td>\n",
       "      <td>0</td>\n",
       "      <td>0</td>\n",
       "      <td>0</td>\n",
       "      <td>0</td>\n",
       "    </tr>\n",
       "    <tr>\n",
       "      <th>tops</th>\n",
       "      <td>1</td>\n",
       "      <td>1</td>\n",
       "      <td>0</td>\n",
       "      <td>1</td>\n",
       "      <td>0</td>\n",
       "      <td>0</td>\n",
       "      <td>0</td>\n",
       "      <td>0</td>\n",
       "      <td>0</td>\n",
       "      <td>0</td>\n",
       "      <td>...</td>\n",
       "      <td>1</td>\n",
       "      <td>1</td>\n",
       "      <td>0</td>\n",
       "      <td>1</td>\n",
       "      <td>0</td>\n",
       "      <td>0</td>\n",
       "      <td>1</td>\n",
       "      <td>0</td>\n",
       "      <td>0</td>\n",
       "      <td>0</td>\n",
       "    </tr>\n",
       "    <tr>\n",
       "      <th>wedding</th>\n",
       "      <td>0</td>\n",
       "      <td>0</td>\n",
       "      <td>0</td>\n",
       "      <td>0</td>\n",
       "      <td>0</td>\n",
       "      <td>0</td>\n",
       "      <td>0</td>\n",
       "      <td>0</td>\n",
       "      <td>0</td>\n",
       "      <td>0</td>\n",
       "      <td>...</td>\n",
       "      <td>0</td>\n",
       "      <td>0</td>\n",
       "      <td>0</td>\n",
       "      <td>0</td>\n",
       "      <td>0</td>\n",
       "      <td>0</td>\n",
       "      <td>0</td>\n",
       "      <td>0</td>\n",
       "      <td>0</td>\n",
       "      <td>0</td>\n",
       "    </tr>\n",
       "  </tbody>\n",
       "</table>\n",
       "<p>7 rows × 60927 columns</p>\n",
       "</div>"
      ],
      "text/plain": [
       "review_summary  !  !!!  !!!!  #4 for me! I'm collecting  \\\n",
       "category                                                  \n",
       "bottoms         1    0     1                          0   \n",
       "dresses         0    0     0                          0   \n",
       "new             0    0     0                          0   \n",
       "outerwear       0    0     0                          0   \n",
       "sale            0    0     0                          0   \n",
       "tops            1    1     0                          1   \n",
       "wedding         0    0     0                          0   \n",
       "\n",
       "review_summary  #FashionDeux  Absolutely  #FashionDeux  This is the  \\\n",
       "category                                                              \n",
       "bottoms                                1                          0   \n",
       "dresses                                0                          0   \n",
       "new                                    0                          1   \n",
       "outerwear                              0                          0   \n",
       "sale                                   0                          0   \n",
       "tops                                   0                          0   \n",
       "wedding                                0                          0   \n",
       "\n",
       "review_summary  #FashionDeux I have been  #FashionDeux This skirt i  \\\n",
       "category                                                              \n",
       "bottoms                                0                          1   \n",
       "dresses                                1                          0   \n",
       "new                                    0                          0   \n",
       "outerwear                              0                          0   \n",
       "sale                                   0                          0   \n",
       "tops                                   0                          0   \n",
       "wedding                                0                          0   \n",
       "\n",
       "review_summary  #Review ContestAlthough t  #ReviewContest  ...  \\\n",
       "category                                                   ...   \n",
       "bottoms                                 0               0  ...   \n",
       "dresses                                 0               0  ...   \n",
       "new                                     1               1  ...   \n",
       "outerwear                               0               0  ...   \n",
       "sale                                    0               0  ...   \n",
       "tops                                    0               0  ...   \n",
       "wedding                                 0               0  ...   \n",
       "\n",
       "review_summary  you get what you pay for  you have it in other colo  \\\n",
       "category                                                              \n",
       "bottoms                                0                          0   \n",
       "dresses                                0                          0   \n",
       "new                                    0                          0   \n",
       "outerwear                              0                          0   \n",
       "sale                                   0                          0   \n",
       "tops                                   1                          1   \n",
       "wedding                                0                          0   \n",
       "\n",
       "review_summary  you know who this dress d  you need every color  \\\n",
       "category                                                          \n",
       "bottoms                                 0                     0   \n",
       "dresses                                 1                     0   \n",
       "new                                     0                     0   \n",
       "outerwear                               0                     0   \n",
       "sale                                    0                     0   \n",
       "tops                                    0                     1   \n",
       "wedding                                 0                     0   \n",
       "\n",
       "review_summary  you should buy every colo  you shouldn't have to spe  yup.  \\\n",
       "category                                                                     \n",
       "bottoms                                 0                          0     0   \n",
       "dresses                                 0                          1     0   \n",
       "new                                     1                          0     0   \n",
       "outerwear                               0                          0     0   \n",
       "sale                                    0                          0     0   \n",
       "tops                                    0                          0     1   \n",
       "wedding                                 0                          0     0   \n",
       "\n",
       "review_summary  yup. This coat is amazing  zipper stuck a little, bu  \\\n",
       "category                                                               \n",
       "bottoms                                 0                          0   \n",
       "dresses                                 0                          0   \n",
       "new                                     0                          1   \n",
       "outerwear                               1                          0   \n",
       "sale                                    0                          0   \n",
       "tops                                    0                          0   \n",
       "wedding                                 0                          0   \n",
       "\n",
       "review_summary  zipper very difficult to  \n",
       "category                                  \n",
       "bottoms                                0  \n",
       "dresses                                1  \n",
       "new                                    0  \n",
       "outerwear                              0  \n",
       "sale                                   0  \n",
       "tops                                   0  \n",
       "wedding                                0  \n",
       "\n",
       "[7 rows x 60927 columns]"
      ]
     },
     "execution_count": 93,
     "metadata": {},
     "output_type": "execute_result"
    }
   ],
   "source": [
    "obs=pd.crosstab(df1['category'],df1['review_summary'])\n",
    "obs"
   ]
  },
  {
   "cell_type": "code",
   "execution_count": 94,
   "id": "089e1695",
   "metadata": {
    "scrolled": true
   },
   "outputs": [
    {
     "name": "stdout",
     "output_type": "stream",
     "text": [
      "The chi_critical is  366963.5696448107\n",
      "The chi2_statistics  is 423622.60195542267\n",
      "The p_value  is 0.0\n",
      "The alpha is  0.05\n"
     ]
    }
   ],
   "source": [
    "# testing hypothesis\n",
    "# ho:  category feature and review summary are independent\n",
    "# h1:  category feature and review summary are not independent\n",
    "    \n",
    "# decision criteria\n",
    "alpha=0.05\n",
    "chi_critical=stats.chi2.isf(alpha,(7-1)*(60927-1))\n",
    "\n",
    "# chi contingency\n",
    "stats,p_value,dof,exp=stats.chi2_contingency(obs,correction=False)\n",
    "print(\"The chi_critical is \",chi_critical)\n",
    "print('The chi2_statistics  is',stats)\n",
    "print('The p_value  is',p_value)\n",
    "print('The alpha is ',alpha)"
   ]
  },
  {
   "cell_type": "markdown",
   "id": "4ee6bd5b",
   "metadata": {},
   "source": [
    "## 2. Test statistically whether the size and hips have any relationship using 0.05 alpha. Before the above test, Test the normality test."
   ]
  },
  {
   "cell_type": "code",
   "execution_count": 97,
   "id": "b501ce45",
   "metadata": {},
   "outputs": [
    {
     "name": "stdout",
     "output_type": "stream",
     "text": [
      "The shapiro of size variable is\n",
      " ShapiroResult(statistic=0.8807517886161804, pvalue=0.0)\n",
      "The shapiro of Hips variable is\n",
      " ShapiroResult(statistic=nan, pvalue=1.0)\n"
     ]
    }
   ],
   "source": [
    "# normality test\n",
    "print('The shapiro of size variable is\\n',stats.shapiro(df1['size']))\n",
    "print('The shapiro of Hips variable is\\n',stats.shapiro(df1['hips']))"
   ]
  },
  {
   "cell_type": "code",
   "execution_count": 100,
   "id": "aadb0f50",
   "metadata": {},
   "outputs": [
    {
     "name": "stdout",
     "output_type": "stream",
     "text": [
      "The z_alpha is  -1.9599639845400545\n",
      " The z is  -784.3597303544988\n",
      "The p_value is  1.039877611676745\n",
      "The alpha is  0.05\n"
     ]
    }
   ],
   "source": [
    "# testing hypothesis\n",
    "# ho: mu1-mu2=0\n",
    "# ha= mu1-mu2<>0\n",
    "\n",
    "# decision criteria\n",
    "alpha=0.05\n",
    "z_alpha=stats.norm.ppf(alpha/2)\n",
    "\n",
    "# sample statistics\n",
    "x1=df1['size'].mean()\n",
    "x2=df1['hips'].mean()\n",
    "s1=np.std(df1['size'],ddof=1)\n",
    "s2=np.std(df1['hips'],ddof=1)\n",
    "n1=len(df1['size'])\n",
    "n2=len(df1['hips'])\n",
    "z=(x1-x2)/np.sqrt(((s1**2)/n1)+((s2**2)/n2))\n",
    "\n",
    "# p value\n",
    "p_value=stats.norm.cdf(alpha)\n",
    "print('The z_alpha is ',z_alpha)\n",
    "print(' The z is ',z)\n",
    "print('The p_value is ',(p_value*2))\n",
    "print('The alpha is ',alpha)"
   ]
  },
  {
   "cell_type": "code",
   "execution_count": null,
   "id": "cf13c7ee",
   "metadata": {},
   "outputs": [],
   "source": []
  },
  {
   "cell_type": "markdown",
   "id": "b531bf9a",
   "metadata": {},
   "source": [
    "## 3. Does the quality significantly differ for any one shoe width? Test the test with 96%confidence intervals.\n",
    "Check the normality of the data before the above test. Alpha = .05"
   ]
  },
  {
   "cell_type": "code",
   "execution_count": 62,
   "id": "ffc73f86",
   "metadata": {},
   "outputs": [
    {
     "data": {
      "text/plain": [
       "array([nan, 'wide', 'average', 'narrow'], dtype=object)"
      ]
     },
     "execution_count": 62,
     "metadata": {},
     "output_type": "execute_result"
    }
   ],
   "source": [
    "df1['shoe_width'].unique()"
   ]
  },
  {
   "cell_type": "code",
   "execution_count": 68,
   "id": "1a9f54b5",
   "metadata": {},
   "outputs": [
    {
     "name": "stdout",
     "output_type": "stream",
     "text": [
      "The alpha is  0.05\n",
      "The shapiro for wide category is\n",
      "  ShapiroResult(statistic=0.848232090473175, pvalue=0.0)\n",
      "The shapiro for wide category is\n",
      "  ShapiroResult(statistic=0.8397364020347595, pvalue=0.0)\n",
      "The shapiro for wide category is\n",
      "  ShapiroResult(statistic=0.8354741334915161, pvalue=4.514273810304472e-37)\n",
      "The levene test is\n",
      "  LeveneResult(statistic=2.590141836220442, pvalue=0.0750367582761136)\n"
     ]
    }
   ],
   "source": [
    "# testing hypothesis\n",
    "# ho: The average quality across all the shoe width is equal\n",
    "# ha: Atleast one of the  average quality across all the shoe width is not equal\n",
    "\n",
    "# data seperation \n",
    "dfw=df1[df1['shoe_width']=='wide']['quality']\n",
    "dfa=df1[df1['shoe_width']=='average']['quality']\n",
    "dfn=df1[df1['shoe_width']=='narrow']['quality']\n",
    "\n",
    "# decision criteria\n",
    "alpha=0.05\n",
    "print('The alpha is ',alpha)\n",
    " \n",
    "# shapiro test\n",
    "w=print('The shapiro for wide category is\\n ',stats.shapiro(dfw))\n",
    "a=print('The shapiro for wide category is\\n ',stats.shapiro(dfa))\n",
    "n=print('The shapiro for wide category is\\n ',stats.shapiro(dfn))\n",
    "\n",
    "# levene test\n",
    "lev=print('The levene test is\\n ',stats.levene(dfw,dfa,dfn))"
   ]
  },
  {
   "cell_type": "code",
   "execution_count": null,
   "id": "dec9c2da",
   "metadata": {},
   "outputs": [],
   "source": [
    "# inference"
   ]
  },
  {
   "cell_type": "code",
   "execution_count": 71,
   "id": "654ab666",
   "metadata": {},
   "outputs": [
    {
     "name": "stdout",
     "output_type": "stream",
     "text": [
      "The f_critical is  3.2190027317362238\n",
      "The f_statistics  is 5.37881970489884\n",
      "The p_value  is 0.0046205227547412514\n",
      "The alpha is  0.040000000000000036\n"
     ]
    }
   ],
   "source": [
    "# f_critical \n",
    "c=0.96\n",
    "alpha=1-c\n",
    "t=df1['shoe_width'].nunique()\n",
    "N=len(df1)\n",
    "f_critical=stats.f.isf(alpha,t-1,N-t)\n",
    "print(\"The f_critical is \",f_critical)\n",
    "\n",
    "# one way anova\n",
    "f_stats,p_value=stats.f_oneway(dfw,dfa,dfn)\n",
    "print('The f_statistics  is',f_stats)\n",
    "print('The p_value  is',p_value)\n",
    "print('The alpha is ',alpha)\n"
   ]
  },
  {
   "cell_type": "markdown",
   "id": "ab96f119",
   "metadata": {},
   "source": [
    "## 4. Check if the shoe width feature affects the review summary with a 99% confidence interval."
   ]
  },
  {
   "cell_type": "code",
   "execution_count": 75,
   "id": "62d3254d",
   "metadata": {},
   "outputs": [
    {
     "data": {
      "text/html": [
       "<div>\n",
       "<style scoped>\n",
       "    .dataframe tbody tr th:only-of-type {\n",
       "        vertical-align: middle;\n",
       "    }\n",
       "\n",
       "    .dataframe tbody tr th {\n",
       "        vertical-align: top;\n",
       "    }\n",
       "\n",
       "    .dataframe thead th {\n",
       "        text-align: right;\n",
       "    }\n",
       "</style>\n",
       "<table border=\"1\" class=\"dataframe\">\n",
       "  <thead>\n",
       "    <tr style=\"text-align: right;\">\n",
       "      <th>review_summary</th>\n",
       "      <th>#FashionDeux I have been</th>\n",
       "      <th>#FashionDeux This skirt i</th>\n",
       "      <th>#Review ContestAlthough t</th>\n",
       "      <th>#ReviewContest    I don't</th>\n",
       "      <th>#ReviewContest    I wish</th>\n",
       "      <th>#ReviewContest    Love th</th>\n",
       "      <th>#ReviewContest    Super c</th>\n",
       "      <th>#ReviewContest   Can't st</th>\n",
       "      <th>#ReviewContest   I love t</th>\n",
       "      <th>#ReviewContest   I wasn't</th>\n",
       "      <th>...</th>\n",
       "      <th>what a gorgeous coat  it</th>\n",
       "      <th>wish I had sized down. fe</th>\n",
       "      <th>wish it was a tad longer</th>\n",
       "      <th>with all the reviews and</th>\n",
       "      <th>wore larger than last sea</th>\n",
       "      <th>worth the investment!  fi</th>\n",
       "      <th>you could probably size d</th>\n",
       "      <th>you know who this dress d</th>\n",
       "      <th>yup.</th>\n",
       "      <th>yup. This coat is amazing</th>\n",
       "    </tr>\n",
       "    <tr>\n",
       "      <th>shoe_width</th>\n",
       "      <th></th>\n",
       "      <th></th>\n",
       "      <th></th>\n",
       "      <th></th>\n",
       "      <th></th>\n",
       "      <th></th>\n",
       "      <th></th>\n",
       "      <th></th>\n",
       "      <th></th>\n",
       "      <th></th>\n",
       "      <th></th>\n",
       "      <th></th>\n",
       "      <th></th>\n",
       "      <th></th>\n",
       "      <th></th>\n",
       "      <th></th>\n",
       "      <th></th>\n",
       "      <th></th>\n",
       "      <th></th>\n",
       "      <th></th>\n",
       "      <th></th>\n",
       "    </tr>\n",
       "  </thead>\n",
       "  <tbody>\n",
       "    <tr>\n",
       "      <th>average</th>\n",
       "      <td>1</td>\n",
       "      <td>1</td>\n",
       "      <td>1</td>\n",
       "      <td>1</td>\n",
       "      <td>1</td>\n",
       "      <td>4</td>\n",
       "      <td>1</td>\n",
       "      <td>1</td>\n",
       "      <td>1</td>\n",
       "      <td>1</td>\n",
       "      <td>...</td>\n",
       "      <td>1</td>\n",
       "      <td>1</td>\n",
       "      <td>1</td>\n",
       "      <td>1</td>\n",
       "      <td>1</td>\n",
       "      <td>0</td>\n",
       "      <td>0</td>\n",
       "      <td>1</td>\n",
       "      <td>1</td>\n",
       "      <td>1</td>\n",
       "    </tr>\n",
       "    <tr>\n",
       "      <th>narrow</th>\n",
       "      <td>0</td>\n",
       "      <td>0</td>\n",
       "      <td>0</td>\n",
       "      <td>0</td>\n",
       "      <td>0</td>\n",
       "      <td>0</td>\n",
       "      <td>0</td>\n",
       "      <td>0</td>\n",
       "      <td>0</td>\n",
       "      <td>0</td>\n",
       "      <td>...</td>\n",
       "      <td>0</td>\n",
       "      <td>0</td>\n",
       "      <td>0</td>\n",
       "      <td>0</td>\n",
       "      <td>0</td>\n",
       "      <td>0</td>\n",
       "      <td>1</td>\n",
       "      <td>0</td>\n",
       "      <td>0</td>\n",
       "      <td>0</td>\n",
       "    </tr>\n",
       "    <tr>\n",
       "      <th>wide</th>\n",
       "      <td>0</td>\n",
       "      <td>0</td>\n",
       "      <td>0</td>\n",
       "      <td>0</td>\n",
       "      <td>0</td>\n",
       "      <td>0</td>\n",
       "      <td>0</td>\n",
       "      <td>0</td>\n",
       "      <td>0</td>\n",
       "      <td>0</td>\n",
       "      <td>...</td>\n",
       "      <td>0</td>\n",
       "      <td>0</td>\n",
       "      <td>0</td>\n",
       "      <td>0</td>\n",
       "      <td>0</td>\n",
       "      <td>1</td>\n",
       "      <td>0</td>\n",
       "      <td>0</td>\n",
       "      <td>0</td>\n",
       "      <td>0</td>\n",
       "    </tr>\n",
       "  </tbody>\n",
       "</table>\n",
       "<p>3 rows × 15323 columns</p>\n",
       "</div>"
      ],
      "text/plain": [
       "review_summary  #FashionDeux I have been  #FashionDeux This skirt i  \\\n",
       "shoe_width                                                            \n",
       "average                                1                          1   \n",
       "narrow                                 0                          0   \n",
       "wide                                   0                          0   \n",
       "\n",
       "review_summary  #Review ContestAlthough t  #ReviewContest    I don't  \\\n",
       "shoe_width                                                             \n",
       "average                                 1                          1   \n",
       "narrow                                  0                          0   \n",
       "wide                                    0                          0   \n",
       "\n",
       "review_summary  #ReviewContest    I wish  #ReviewContest    Love th  \\\n",
       "shoe_width                                                            \n",
       "average                                1                          4   \n",
       "narrow                                 0                          0   \n",
       "wide                                   0                          0   \n",
       "\n",
       "review_summary  #ReviewContest    Super c  #ReviewContest   Can't st  \\\n",
       "shoe_width                                                             \n",
       "average                                 1                          1   \n",
       "narrow                                  0                          0   \n",
       "wide                                    0                          0   \n",
       "\n",
       "review_summary  #ReviewContest   I love t  #ReviewContest   I wasn't  ...  \\\n",
       "shoe_width                                                            ...   \n",
       "average                                 1                          1  ...   \n",
       "narrow                                  0                          0  ...   \n",
       "wide                                    0                          0  ...   \n",
       "\n",
       "review_summary  what a gorgeous coat  it  wish I had sized down. fe  \\\n",
       "shoe_width                                                            \n",
       "average                                1                          1   \n",
       "narrow                                 0                          0   \n",
       "wide                                   0                          0   \n",
       "\n",
       "review_summary  wish it was a tad longer  with all the reviews and  \\\n",
       "shoe_width                                                           \n",
       "average                                1                         1   \n",
       "narrow                                 0                         0   \n",
       "wide                                   0                         0   \n",
       "\n",
       "review_summary  wore larger than last sea  worth the investment!  fi  \\\n",
       "shoe_width                                                             \n",
       "average                                 1                          0   \n",
       "narrow                                  0                          0   \n",
       "wide                                    0                          1   \n",
       "\n",
       "review_summary  you could probably size d  you know who this dress d  yup.  \\\n",
       "shoe_width                                                                   \n",
       "average                                 0                          1     1   \n",
       "narrow                                  1                          0     0   \n",
       "wide                                    0                          0     0   \n",
       "\n",
       "review_summary  yup. This coat is amazing  \n",
       "shoe_width                                 \n",
       "average                                 1  \n",
       "narrow                                  0  \n",
       "wide                                    0  \n",
       "\n",
       "[3 rows x 15323 columns]"
      ]
     },
     "execution_count": 75,
     "metadata": {},
     "output_type": "execute_result"
    }
   ],
   "source": [
    "obs=pd.crosstab(df1['shoe_width'],df1['review_summary'])  \n",
    "obs"
   ]
  },
  {
   "cell_type": "code",
   "execution_count": 78,
   "id": "bd471a8d",
   "metadata": {},
   "outputs": [
    {
     "name": "stdout",
     "output_type": "stream",
     "text": [
      "The chi_critical is  31551.9151923852\n",
      "The chi2_statistics  is 31444.52573752214\n",
      "The p_value  is 0.0006670063784658775\n",
      "The alpha is  0.010000000000000009\n"
     ]
    }
   ],
   "source": [
    "# hypothesis testing\n",
    "# ho: The shoe_width and review summary are independent\n",
    "# ha: The shoe_width and review summary are not independent  \n",
    "\n",
    "# decision criteria\n",
    "c=0.99\n",
    "alpha=1-c\n",
    "chi_critical=stats.chi2.isf(alpha,(3-1)*(15486-1))\n",
    "\n",
    "# chi contingency\n",
    "stats,p_value,dof,exp=stats.chi2_contingency(obs,correction=False)\n",
    "print(\"The chi_critical is \",chi_critical)\n",
    "print('The chi2_statistics  is',stats)\n",
    "print('The p_value  is',p_value)\n",
    "print('The alpha is ',alpha)\n"
   ]
  },
  {
   "cell_type": "markdown",
   "id": "cca77186",
   "metadata": {},
   "source": [
    "## 5. Check if the length feature affects the review summary with a 95% confidence interval."
   ]
  },
  {
   "cell_type": "code",
   "execution_count": 79,
   "id": "a9ca6be8",
   "metadata": {},
   "outputs": [
    {
     "data": {
      "text/html": [
       "<div>\n",
       "<style scoped>\n",
       "    .dataframe tbody tr th:only-of-type {\n",
       "        vertical-align: middle;\n",
       "    }\n",
       "\n",
       "    .dataframe tbody tr th {\n",
       "        vertical-align: top;\n",
       "    }\n",
       "\n",
       "    .dataframe thead th {\n",
       "        text-align: right;\n",
       "    }\n",
       "</style>\n",
       "<table border=\"1\" class=\"dataframe\">\n",
       "  <thead>\n",
       "    <tr style=\"text-align: right;\">\n",
       "      <th>review_summary</th>\n",
       "      <th>!</th>\n",
       "      <th>!!!</th>\n",
       "      <th>!!!!</th>\n",
       "      <th>#4 for me! I'm collecting</th>\n",
       "      <th>#FashionDeux  Absolutely</th>\n",
       "      <th>#FashionDeux  This is the</th>\n",
       "      <th>#FashionDeux I have been</th>\n",
       "      <th>#FashionDeux This skirt i</th>\n",
       "      <th>#Review ContestAlthough t</th>\n",
       "      <th>#ReviewContest</th>\n",
       "      <th>...</th>\n",
       "      <th>you get what you pay for</th>\n",
       "      <th>you have it in other colo</th>\n",
       "      <th>you know who this dress d</th>\n",
       "      <th>you need every color</th>\n",
       "      <th>you should buy every colo</th>\n",
       "      <th>you shouldn't have to spe</th>\n",
       "      <th>yup.</th>\n",
       "      <th>yup. This coat is amazing</th>\n",
       "      <th>zipper stuck a little, bu</th>\n",
       "      <th>zipper very difficult to</th>\n",
       "    </tr>\n",
       "    <tr>\n",
       "      <th>length</th>\n",
       "      <th></th>\n",
       "      <th></th>\n",
       "      <th></th>\n",
       "      <th></th>\n",
       "      <th></th>\n",
       "      <th></th>\n",
       "      <th></th>\n",
       "      <th></th>\n",
       "      <th></th>\n",
       "      <th></th>\n",
       "      <th></th>\n",
       "      <th></th>\n",
       "      <th></th>\n",
       "      <th></th>\n",
       "      <th></th>\n",
       "      <th></th>\n",
       "      <th></th>\n",
       "      <th></th>\n",
       "      <th></th>\n",
       "      <th></th>\n",
       "      <th></th>\n",
       "    </tr>\n",
       "  </thead>\n",
       "  <tbody>\n",
       "    <tr>\n",
       "      <th>just right</th>\n",
       "      <td>1</td>\n",
       "      <td>1</td>\n",
       "      <td>1</td>\n",
       "      <td>1</td>\n",
       "      <td>1</td>\n",
       "      <td>0</td>\n",
       "      <td>1</td>\n",
       "      <td>1</td>\n",
       "      <td>0</td>\n",
       "      <td>1</td>\n",
       "      <td>...</td>\n",
       "      <td>1</td>\n",
       "      <td>1</td>\n",
       "      <td>1</td>\n",
       "      <td>1</td>\n",
       "      <td>1</td>\n",
       "      <td>1</td>\n",
       "      <td>1</td>\n",
       "      <td>1</td>\n",
       "      <td>1</td>\n",
       "      <td>1</td>\n",
       "    </tr>\n",
       "    <tr>\n",
       "      <th>slightly long</th>\n",
       "      <td>1</td>\n",
       "      <td>0</td>\n",
       "      <td>0</td>\n",
       "      <td>0</td>\n",
       "      <td>0</td>\n",
       "      <td>1</td>\n",
       "      <td>0</td>\n",
       "      <td>0</td>\n",
       "      <td>0</td>\n",
       "      <td>0</td>\n",
       "      <td>...</td>\n",
       "      <td>0</td>\n",
       "      <td>0</td>\n",
       "      <td>0</td>\n",
       "      <td>0</td>\n",
       "      <td>0</td>\n",
       "      <td>0</td>\n",
       "      <td>0</td>\n",
       "      <td>0</td>\n",
       "      <td>0</td>\n",
       "      <td>0</td>\n",
       "    </tr>\n",
       "    <tr>\n",
       "      <th>slightly short</th>\n",
       "      <td>0</td>\n",
       "      <td>0</td>\n",
       "      <td>0</td>\n",
       "      <td>0</td>\n",
       "      <td>0</td>\n",
       "      <td>0</td>\n",
       "      <td>0</td>\n",
       "      <td>0</td>\n",
       "      <td>0</td>\n",
       "      <td>0</td>\n",
       "      <td>...</td>\n",
       "      <td>0</td>\n",
       "      <td>0</td>\n",
       "      <td>0</td>\n",
       "      <td>0</td>\n",
       "      <td>0</td>\n",
       "      <td>0</td>\n",
       "      <td>0</td>\n",
       "      <td>0</td>\n",
       "      <td>0</td>\n",
       "      <td>0</td>\n",
       "    </tr>\n",
       "    <tr>\n",
       "      <th>very long</th>\n",
       "      <td>0</td>\n",
       "      <td>0</td>\n",
       "      <td>0</td>\n",
       "      <td>0</td>\n",
       "      <td>0</td>\n",
       "      <td>0</td>\n",
       "      <td>0</td>\n",
       "      <td>0</td>\n",
       "      <td>1</td>\n",
       "      <td>0</td>\n",
       "      <td>...</td>\n",
       "      <td>0</td>\n",
       "      <td>0</td>\n",
       "      <td>0</td>\n",
       "      <td>0</td>\n",
       "      <td>0</td>\n",
       "      <td>0</td>\n",
       "      <td>0</td>\n",
       "      <td>0</td>\n",
       "      <td>0</td>\n",
       "      <td>0</td>\n",
       "    </tr>\n",
       "    <tr>\n",
       "      <th>very short</th>\n",
       "      <td>0</td>\n",
       "      <td>0</td>\n",
       "      <td>0</td>\n",
       "      <td>0</td>\n",
       "      <td>0</td>\n",
       "      <td>0</td>\n",
       "      <td>0</td>\n",
       "      <td>0</td>\n",
       "      <td>0</td>\n",
       "      <td>0</td>\n",
       "      <td>...</td>\n",
       "      <td>0</td>\n",
       "      <td>0</td>\n",
       "      <td>0</td>\n",
       "      <td>0</td>\n",
       "      <td>0</td>\n",
       "      <td>0</td>\n",
       "      <td>0</td>\n",
       "      <td>0</td>\n",
       "      <td>0</td>\n",
       "      <td>0</td>\n",
       "    </tr>\n",
       "  </tbody>\n",
       "</table>\n",
       "<p>5 rows × 60927 columns</p>\n",
       "</div>"
      ],
      "text/plain": [
       "review_summary  !  !!!  !!!!  #4 for me! I'm collecting  \\\n",
       "length                                                    \n",
       "just right      1    1     1                          1   \n",
       "slightly long   1    0     0                          0   \n",
       "slightly short  0    0     0                          0   \n",
       "very long       0    0     0                          0   \n",
       "very short      0    0     0                          0   \n",
       "\n",
       "review_summary  #FashionDeux  Absolutely  #FashionDeux  This is the  \\\n",
       "length                                                                \n",
       "just right                             1                          0   \n",
       "slightly long                          0                          1   \n",
       "slightly short                         0                          0   \n",
       "very long                              0                          0   \n",
       "very short                             0                          0   \n",
       "\n",
       "review_summary  #FashionDeux I have been  #FashionDeux This skirt i  \\\n",
       "length                                                                \n",
       "just right                             1                          1   \n",
       "slightly long                          0                          0   \n",
       "slightly short                         0                          0   \n",
       "very long                              0                          0   \n",
       "very short                             0                          0   \n",
       "\n",
       "review_summary  #Review ContestAlthough t  #ReviewContest  ...  \\\n",
       "length                                                     ...   \n",
       "just right                              0               1  ...   \n",
       "slightly long                           0               0  ...   \n",
       "slightly short                          0               0  ...   \n",
       "very long                               1               0  ...   \n",
       "very short                              0               0  ...   \n",
       "\n",
       "review_summary  you get what you pay for  you have it in other colo  \\\n",
       "length                                                                \n",
       "just right                             1                          1   \n",
       "slightly long                          0                          0   \n",
       "slightly short                         0                          0   \n",
       "very long                              0                          0   \n",
       "very short                             0                          0   \n",
       "\n",
       "review_summary  you know who this dress d  you need every color  \\\n",
       "length                                                            \n",
       "just right                              1                     1   \n",
       "slightly long                           0                     0   \n",
       "slightly short                          0                     0   \n",
       "very long                               0                     0   \n",
       "very short                              0                     0   \n",
       "\n",
       "review_summary  you should buy every colo  you shouldn't have to spe  yup.  \\\n",
       "length                                                                       \n",
       "just right                              1                          1     1   \n",
       "slightly long                           0                          0     0   \n",
       "slightly short                          0                          0     0   \n",
       "very long                               0                          0     0   \n",
       "very short                              0                          0     0   \n",
       "\n",
       "review_summary  yup. This coat is amazing  zipper stuck a little, bu  \\\n",
       "length                                                                 \n",
       "just right                              1                          1   \n",
       "slightly long                           0                          0   \n",
       "slightly short                          0                          0   \n",
       "very long                               0                          0   \n",
       "very short                              0                          0   \n",
       "\n",
       "review_summary  zipper very difficult to  \n",
       "length                                    \n",
       "just right                             1  \n",
       "slightly long                          0  \n",
       "slightly short                         0  \n",
       "very long                              0  \n",
       "very short                             0  \n",
       "\n",
       "[5 rows x 60927 columns]"
      ]
     },
     "execution_count": 79,
     "metadata": {},
     "output_type": "execute_result"
    }
   ],
   "source": [
    "obs=pd.crosstab(df1['length'],df1['review_summary'])\n",
    "obs"
   ]
  },
  {
   "cell_type": "code",
   "execution_count": 82,
   "id": "13322b7f",
   "metadata": {},
   "outputs": [
    {
     "name": "stdout",
     "output_type": "stream",
     "text": [
      "The chi_critical is  244853.48407614353\n",
      "The chi2_statistics  is 261881.71856577834\n",
      "The p_value  is 8.078454692519555e-143\n",
      "The alpha is  0.050000000000000044\n"
     ]
    }
   ],
   "source": [
    "# testing hypothesis\n",
    "# ho:The length and review summary are independent\n",
    "# ha:The length and review summary are not independent\n",
    "    \n",
    "# decision criteria\n",
    "c=0.95\n",
    "alpha=1-c\n",
    "chi_critical=stats.chi2.isf(alpha,(5-1)*(60927-1))\n",
    "\n",
    "# chi contingency\n",
    "stats,p_value,dof,exp=stats.chi2_contingency(obs,correction=False)\n",
    "print(\"The chi_critical is \",chi_critical)\n",
    "print('The chi2_statistics  is',stats)\n",
    "print('The p_value  is',p_value)\n",
    "print('The alpha is ',alpha)\n"
   ]
  },
  {
   "cell_type": "markdown",
   "id": "d5ca8594",
   "metadata": {},
   "source": [
    "## 6. Does the average quality significantly differ for the different fits? Kindly test the relevant hypothesis test by having 0.05 alpha. Check the normality of the data before the above test. Alpha = .05"
   ]
  },
  {
   "cell_type": "code",
   "execution_count": 83,
   "id": "56bffd71",
   "metadata": {},
   "outputs": [
    {
     "data": {
      "text/plain": [
       "array(['small', 'large', 'fit'], dtype=object)"
      ]
     },
     "execution_count": 83,
     "metadata": {},
     "output_type": "execute_result"
    }
   ],
   "source": [
    "df1['fit'].unique()"
   ]
  },
  {
   "cell_type": "code",
   "execution_count": 92,
   "id": "8c4b7e35",
   "metadata": {},
   "outputs": [
    {
     "name": "stdout",
     "output_type": "stream",
     "text": [
      "The shapiro test value for small catergory is\n",
      "  ShapiroResult(statistic=0.9018688797950745, pvalue=0.0)\n",
      "The shapiro test value for large catergory is\n",
      "  ShapiroResult(statistic=0.8691762089729309, pvalue=0.0)\n",
      "The shapiro test value for fit catergory is\n",
      "  ShapiroResult(statistic=0.8249763250350952, pvalue=0.0)\n",
      "The levene test is\n",
      "  LeveneResult(statistic=339.33141601410875, pvalue=1.7352151712788378e-147)\n",
      "The alpha is  0.05\n"
     ]
    }
   ],
   "source": [
    "# hypothesis testing\n",
    "# ho: The average quality are equal for all different kinds of fits\n",
    "# ho: Atleast average quality are not equal for one different kinds of fits\n",
    "    \n",
    "# decison criteria\n",
    "alpha=0.05\n",
    "\n",
    "# data seperation\n",
    "dfs=df1[df1['fit']=='small']['quality']\n",
    "dfl=df1[df1['fit']=='large']['quality']\n",
    "dff=df1[df1['fit']=='fit']['quality']\n",
    "\n",
    "# normality\n",
    "print('The shapiro test value for small catergory is\\n ',stats.shapiro(dfs))\n",
    "print('The shapiro test value for large catergory is\\n ',stats.shapiro(dfl))\n",
    "print('The shapiro test value for fit catergory is\\n ',stats.shapiro(dff))\n",
    "\n",
    "# levene test\n",
    "print('The levene test is\\n ',stats.levene(dfs,dfl,dff))\n",
    "print('The alpha is ',alpha)\n"
   ]
  },
  {
   "cell_type": "code",
   "execution_count": 91,
   "id": "9e254e47",
   "metadata": {
    "scrolled": false
   },
   "outputs": [
    {
     "name": "stdout",
     "output_type": "stream",
     "text": [
      "The f_critical is  2.9958421948692653\n",
      "The f_statistics  is 2132.9243887750604\n",
      "The p_value  is 0.0\n",
      "The alpha is  0.05\n"
     ]
    }
   ],
   "source": [
    "# f_critical\n",
    "t=df1['fit'].nunique()\n",
    "N=len(df1)\n",
    "f_critical=stats.f.isf(alpha,t-1,N-t)\n",
    "\n",
    "# f one way\n",
    "f_stats,p_value=stats.f_oneway(dfs,dfl,dff)\n",
    "print(\"The f_critical is \",f_critical)\n",
    "print('The f_statistics  is',f_stats)\n",
    "print('The p_value  is',p_value)\n",
    "print('The alpha is ',alpha)\n"
   ]
  },
  {
   "cell_type": "code",
   "execution_count": null,
   "id": "3ac5c7ed",
   "metadata": {},
   "outputs": [],
   "source": []
  }
 ],
 "metadata": {
  "kernelspec": {
   "display_name": "Python 3 (ipykernel)",
   "language": "python",
   "name": "python3"
  },
  "language_info": {
   "codemirror_mode": {
    "name": "ipython",
    "version": 3
   },
   "file_extension": ".py",
   "mimetype": "text/x-python",
   "name": "python",
   "nbconvert_exporter": "python",
   "pygments_lexer": "ipython3",
   "version": "3.9.12"
  }
 },
 "nbformat": 4,
 "nbformat_minor": 5
}
